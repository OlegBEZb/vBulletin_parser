{
 "cells": [
  {
   "cell_type": "markdown",
   "metadata": {},
   "source": [
    "# TODOs"
   ]
  },
  {
   "cell_type": "markdown",
   "metadata": {},
   "source": [
    "1. Check if all there is 1-1 mapping for users/links and posts/links"
   ]
  },
  {
   "cell_type": "markdown",
   "metadata": {},
   "source": [
    "# Import needed libraries"
   ]
  },
  {
   "cell_type": "code",
   "execution_count": 1,
   "metadata": {
    "scrolled": true
   },
   "outputs": [],
   "source": [
    "%load_ext autoreload\n",
    "%autoreload 2\n",
    "\n",
    "import requests\n",
    "from bs4 import BeautifulSoup\n",
    "from lxml import html\n",
    "import random\n",
    "import json, time, re, os\n",
    "import itertools\n",
    "from tqdm import tqdm, tqdm_notebook\n",
    "import pandas as pd\n",
    "import re\n",
    "from dateutil.parser import parse\n",
    "import time\n",
    "from datetime import datetime, timedelta\n",
    "\n",
    "from contextlib import contextmanager\n",
    "\n",
    "from selenium import webdriver\n",
    "from selenium.webdriver.chrome.options import Options\n",
    "\n",
    "import wget\n",
    "\n",
    "%matplotlib inline"
   ]
  },
  {
   "cell_type": "markdown",
   "metadata": {},
   "source": [
    "# Params"
   ]
  },
  {
   "cell_type": "code",
   "execution_count": 2,
   "metadata": {},
   "outputs": [],
   "source": [
    "# starts chromedriver to make the usage of Chrome possible\n",
    "# 1.Check the version of chrome browser.\n",
    "# 2.download chromedriver of same version from https://sites.google.com/chromium.org/driver/home\n",
    "# 3.Move near to the notebook and run the code.\n",
    "\n",
    "# NB!!! You should be authorized on the website you parse in the browser you \n",
    "# use. In my case I have authorized on forum.littleone.ru in Chrome browser\n",
    "\n",
    "files = os.listdir()\n",
    "file = [file for file in files if file == 'chromedriver.exe'][0]\n",
    "os.startfile(file)"
   ]
  },
  {
   "cell_type": "code",
   "execution_count": 3,
   "metadata": {},
   "outputs": [],
   "source": [
    "top_n_pages = -1\n",
    "forum = 'https://forum.littleone.ru/'\n",
    "# data_path = 'E:\\Files\\Data\\littleone'\n",
    "# desktop\n",
    "raw_data_path = 'D:\\Data\\littleone_html'\n",
    "data_path_csv = 'D:\\Data\\littleone_csv_with_names'"
   ]
  },
  {
   "cell_type": "markdown",
   "metadata": {},
   "source": [
    "# Shared funcs"
   ]
  },
  {
   "cell_type": "code",
   "execution_count": 4,
   "metadata": {
    "code_folding": []
   },
   "outputs": [],
   "source": [
    "def driver2soup(driver):\n",
    "    return BeautifulSoup(driver.page_source)\n",
    "\n",
    "\n",
    "def read_html_with_webdriver(url_to_read, wait_sec=7, headless=True, \n",
    "                             disable_extensions=True, close_page=False):\n",
    "    \n",
    "    if headless or disable_extensions:\n",
    "        chrome_options = Options()\n",
    "        if headless:\n",
    "            chrome_options.add_argument(\"--headless\")\n",
    "        if disable_extensions:\n",
    "            chrome_options.add_argument(\"--disable-extensions\")\n",
    "    #chrome_options.add_argument(\"--disable-gpu\")\n",
    "        driver = webdriver.Chrome(options=chrome_options)\n",
    "    else:\n",
    "        driver = webdriver.Chrome()\n",
    "    \n",
    "    driver.get(url_to_read)\n",
    "    time.sleep(wait_sec)\n",
    "\n",
    "    soup = driver2soup(driver)\n",
    "    \n",
    "    if close_page:\n",
    "        driver.close()\n",
    "        return soup\n",
    "    \n",
    "    return soup, driver"
   ]
  },
  {
   "cell_type": "code",
   "execution_count": 5,
   "metadata": {
    "code_folding": []
   },
   "outputs": [],
   "source": [
    "def get_posts_from_page(soup):\n",
    "    posts_ol = soup.find('ol', {'id': 'posts'})\n",
    "    assert posts_ol is not None, 'Posts not found on page. Soup:\\n{}'.format(soup)\n",
    "    return posts_ol.find_all('li', {'class': 'postbitlegacy postbitim postcontainer old'})\n",
    "\n",
    "def get_post_text(post):\n",
    "    return post.find('div', 'postdetails').find('div', 'content').find('blockquote', 'postcontent restore').text\n",
    "\n",
    "def get_post_texts_from_page(soup):\n",
    "    posts = get_posts_from_page(soup)\n",
    "    return [get_post_text(post) for post in posts]"
   ]
  },
  {
   "cell_type": "code",
   "execution_count": 6,
   "metadata": {
    "code_folding": [
     0,
     16
    ]
   },
   "outputs": [],
   "source": [
    "# to ensure that page is loaded and we may read it\n",
    "# http://www.obeythetestinggoat.com/how-to-get-selenium-to-wait-for-page-load-after-a-click.html\n",
    "\n",
    "from selenium.webdriver.support.ui import WebDriverWait\n",
    "from selenium.webdriver.support.expected_conditions import \\\n",
    "    staleness_of\n",
    "\n",
    "\n",
    "@contextmanager\n",
    "def wait_for_page_load(driver, timeout=30):\n",
    "    old_page = driver.find_element_by_tag_name('html')\n",
    "    yield\n",
    "    WebDriverWait(driver, timeout,\n",
    "                  poll_frequency=0.1).until(staleness_of(old_page))\n",
    "\n",
    "\n",
    "def move_to_next_page(driver):\n",
    "    #print('moving from page', driver.find_element_by_tag_name('html').id)\n",
    "    try:\n",
    "        with wait_for_page_load(driver):\n",
    "            driver.find_element_by_xpath('//*[@rel=\"next\"]').click()\n",
    "        #print('moved to', driver.find_element_by_tag_name('html').id)\n",
    "    except:\n",
    "        print('Unable to get next page')"
   ]
  },
  {
   "cell_type": "code",
   "execution_count": 7,
   "metadata": {
    "code_folding": []
   },
   "outputs": [],
   "source": [
    "def flatten_list(ls):\n",
    "    return list(itertools.chain.from_iterable(ls))"
   ]
  },
  {
   "cell_type": "code",
   "execution_count": 8,
   "metadata": {
    "code_folding": [
     51,
     74
    ]
   },
   "outputs": [],
   "source": [
    "def get_user_extra_info(post):\n",
    "    extra_info = post.find('dl', {'class': 'userinfo_extra'})\n",
    "    #print('extra_info', extra_info)\n",
    "    if extra_info is None:\n",
    "        return {'guest': True}\n",
    "    else:\n",
    "        info_dict = dict(\n",
    "            zip(\n",
    "                list(map(lambda x: x.text,\n",
    "                         extra_info.find_all(\"dt\"))),  # Extra field names\n",
    "                list(map(lambda x: x.text.replace('\\xa0', ''),\n",
    "                     extra_info.find_all(\"dd\")))  # Extra field names\n",
    "            ))\n",
    "        info_dict.update({'guest': False})\n",
    "        return info_dict\n",
    "\n",
    "\n",
    "def get_user_info_from_post(post):\n",
    "    user_info = dict()\n",
    "    user_info['user_title'] = post.find('span', {'class': 'usertitle'}).text\n",
    "    try:\n",
    "        user_info['user_name'] = post.find('div', \n",
    "                                           {'class': 'username_container'}).find(\"strong\").text\n",
    "        user_info['user_link'] = forum + post.find('div', {'class': 'username_container'}).find(\"a\").attrs['href']\n",
    "    except:\n",
    "        user_info['user_name'] = post.find('span', {\n",
    "            'class': 'username guest'\n",
    "        }).text\n",
    "        #print('!'*100, post)\n",
    "    user_info.update(get_user_extra_info(post))\n",
    "    return user_info\n",
    "\n",
    "\n",
    "def parse_date(date_string, file_path=None):\n",
    "    try:\n",
    "        return parse(date_string, dayfirst=True)\n",
    "    except:\n",
    "#         print('failed to parse date using dateutil.parser') # debug\n",
    "        try:\n",
    "            if file_path is not None:\n",
    "                file_created_date = time.ctime(os.path.getctime(file_path))\n",
    "                file_created_date = parse(file_created_date).date()\n",
    "            else:\n",
    "                file_created_date = parse(time.ctime()).date()\n",
    "            post_time = datetime.strptime(\n",
    "                date_string.split('\\xa0')[-1], '%H:%M').time()\n",
    "            post_datetime = datetime.combine(file_created_date, post_time)\n",
    "            if re.findall('вчера', date_string):\n",
    "                post_datetime -= timedelta(days=1)\n",
    "            elif re.findall('сегодня', date_string):\n",
    "                pass\n",
    "            else:\n",
    "                raise ValueError('Unexpected characters in date_string:',\n",
    "                                 date_string)\n",
    "\n",
    "\n",
    "#             print('file was created', file_created_date,\n",
    "#                   '\\ndate_string', date_string,\n",
    "#                   '\\npost_time', post_time,\n",
    "#                   '\\npost_datetime', post_datetime, f\"D{post_datetime.day},M{post_datetime.month},Y{post_datetime.year}\")\n",
    "            return post_datetime\n",
    "        except:\n",
    "            raise ValueError('Unreadable format of date:', date_string)\n",
    "\n",
    "\n",
    "def get_info_from_post_header(post, file_path=None):\n",
    "    header_info = dict()\n",
    "    header_info['post_datetime'] = parse_date(post.find(\n",
    "        'span', {'class': 'date'}).text, file_path=file_path)\n",
    "\n",
    "    div = post.find('div', {'class': 'posthead'}).find(\"div\")\n",
    "    #print(div, '\\n')\n",
    "    if div is not None:\n",
    "        try:\n",
    "            header_info['answer_to_user'] = re.findall(\n",
    "                'ответ для ([\\S\\s]*) , на сообщение « ', div.text)[0]\n",
    "\n",
    "            header_info['answer_to_post_head'] = re.findall(\n",
    "                ' , на сообщение « ([\\S\\s]*) »', div.text)[0]\n",
    "\n",
    "            links = div.find_all('a', href=True)\n",
    "            if len(links) == 2:\n",
    "                header_info['answer_to_user_link'], header_info['answer_to_post_link'] \\\n",
    "                    = [forum + link.attrs['href'] for link in links]\n",
    "            else:\n",
    "                header_info[\n",
    "                    'answer_to_post_link'] = forum + links[0].attrs['href']\n",
    "        except:\n",
    "            print('!' * 20, '\\n', div, '\\n', file_path, '\\n',\n",
    "                  '!' * 20)  # debug\n",
    "\n",
    "    return header_info\n",
    "\n",
    "\n",
    "def get_all_info_from_page(page_soup, file_path=None):\n",
    "    posts = get_posts_from_page(page_soup)\n",
    "\n",
    "    page_texts = [get_post_text(post) for post in posts]\n",
    "    texts_df = pd.DataFrame({'post_text': page_texts})\n",
    "\n",
    "    users_info = [get_user_info_from_post(post) for post in posts]\n",
    "    users_info_df = pd.DataFrame(users_info)\n",
    "\n",
    "    header_info = [\n",
    "        get_info_from_post_header(post, file_path=file_path) for post in posts\n",
    "    ]\n",
    "    header_info_df = pd.DataFrame(header_info)\n",
    "\n",
    "    return pd.concat([texts_df, users_info_df, header_info_df],\n",
    "                     axis=1)  #.astype({'Сообщений': int}) NaNs occurs"
   ]
  },
  {
   "cell_type": "code",
   "execution_count": 9,
   "metadata": {},
   "outputs": [],
   "source": [
    "# Add functionality for continuing stopped thread\n",
    "\n",
    "def get_all_info_from_file(file_path):\n",
    "    with open(file_path, 'r') as f:\n",
    "        contents = f.read()\n",
    "        soup = BeautifulSoup(contents)\n",
    "        all_info_from_page = get_all_info_from_page(soup, file_path)\n",
    "        return all_info_from_page"
   ]
  },
  {
   "cell_type": "markdown",
   "metadata": {
    "heading_collapsed": true
   },
   "source": [
    "## Testing"
   ]
  },
  {
   "cell_type": "markdown",
   "metadata": {
    "hidden": true
   },
   "source": [
    "### Check parsing from file"
   ]
  },
  {
   "cell_type": "code",
   "execution_count": 10,
   "metadata": {
    "hidden": true,
    "scrolled": true
   },
   "outputs": [
    {
     "data": {
      "text/plain": [
       "'D:\\\\Data\\\\littleone_html\\\\3275945\\\\133'"
      ]
     },
     "execution_count": 10,
     "metadata": {},
     "output_type": "execute_result"
    }
   ],
   "source": [
    "test_path = os.path.join(raw_data_path, str(3275945), str(133))\n",
    "test_path"
   ]
  },
  {
   "cell_type": "code",
   "execution_count": 11,
   "metadata": {
    "hidden": true,
    "scrolled": true
   },
   "outputs": [
    {
     "data": {
      "text/html": [
       "<div>\n",
       "<style scoped>\n",
       "    .dataframe tbody tr th:only-of-type {\n",
       "        vertical-align: middle;\n",
       "    }\n",
       "\n",
       "    .dataframe tbody tr th {\n",
       "        vertical-align: top;\n",
       "    }\n",
       "\n",
       "    .dataframe thead th {\n",
       "        text-align: right;\n",
       "    }\n",
       "</style>\n",
       "<table border=\"1\" class=\"dataframe\">\n",
       "  <thead>\n",
       "    <tr style=\"text-align: right;\">\n",
       "      <th></th>\n",
       "      <th>post_text</th>\n",
       "      <th>user_title</th>\n",
       "      <th>user_name</th>\n",
       "      <th>user_link</th>\n",
       "      <th>Регистрация</th>\n",
       "      <th>Адрес</th>\n",
       "      <th>Сообщений</th>\n",
       "      <th>guest</th>\n",
       "      <th>post_datetime</th>\n",
       "      <th>answer_to_user</th>\n",
       "      <th>answer_to_post_head</th>\n",
       "      <th>answer_to_user_link</th>\n",
       "      <th>answer_to_post_link</th>\n",
       "    </tr>\n",
       "  </thead>\n",
       "  <tbody>\n",
       "    <tr>\n",
       "      <th>0</th>\n",
       "      <td>\\n\\t\\t\\t\\t\\t\\t\\tНа сколько знаю я, в Канаде не...</td>\n",
       "      <td>\\n\\t\\t\\t\\tХранитель\\n\\t\\t\\t</td>\n",
       "      <td>tatash</td>\n",
       "      <td>https://forum.littleone.ru/member.php?u=83506&amp;...</td>\n",
       "      <td>14.06.2008</td>\n",
       "      <td>5*</td>\n",
       "      <td>12043</td>\n",
       "      <td>False</td>\n",
       "      <td>2014-11-07 13:18:00</td>\n",
       "      <td>ТАТТО</td>\n",
       "      <td>Прочтите здесь...</td>\n",
       "      <td>https://forum.littleone.ru/member.php?userid=3...</td>\n",
       "      <td>https://forum.littleone.ru/showthread.php?p=11...</td>\n",
       "    </tr>\n",
       "    <tr>\n",
       "      <th>1</th>\n",
       "      <td>\\n\\n\\n\\n\\n\\n Сообщение от tatash\\n\\n\\nНа сколь...</td>\n",
       "      <td>\\n\\t\\t\\t\\tХранитель\\n\\t\\t\\t</td>\n",
       "      <td>ТАТТО</td>\n",
       "      <td>https://forum.littleone.ru/member.php?u=31781&amp;...</td>\n",
       "      <td>03.03.2007</td>\n",
       "      <td>м. Приморская</td>\n",
       "      <td>14676</td>\n",
       "      <td>False</td>\n",
       "      <td>2014-11-07 13:41:00</td>\n",
       "      <td>tatash</td>\n",
       "      <td>На сколько знаю я, в Канаде нет...</td>\n",
       "      <td>https://forum.littleone.ru/member.php?userid=8...</td>\n",
       "      <td>https://forum.littleone.ru/showthread.php?p=11...</td>\n",
       "    </tr>\n",
       "    <tr>\n",
       "      <th>2</th>\n",
       "      <td>\\n\\n\\n\\n\\n\\n Сообщение от канри\\n\\n\\nне знаю к...</td>\n",
       "      <td>\\n\\t\\t\\t\\tЭлита\\n\\t\\t\\t</td>\n",
       "      <td>agusya</td>\n",
       "      <td>https://forum.littleone.ru/member.php?u=44923&amp;...</td>\n",
       "      <td>30.08.2007</td>\n",
       "      <td>Остров</td>\n",
       "      <td>2671</td>\n",
       "      <td>False</td>\n",
       "      <td>2014-11-07 14:06:00</td>\n",
       "      <td>канри</td>\n",
       "      <td>не знаю как поддержать даже.. сама...</td>\n",
       "      <td>https://forum.littleone.ru/member.php?userid=6...</td>\n",
       "      <td>https://forum.littleone.ru/showthread.php?p=11...</td>\n",
       "    </tr>\n",
       "    <tr>\n",
       "      <th>3</th>\n",
       "      <td>\\n\\n\\n\\n\\n\\n Сообщение от ТАТТО\\n\\n\\nА разве я...</td>\n",
       "      <td>\\n\\t\\t\\t\\tХранитель\\n\\t\\t\\t</td>\n",
       "      <td>tatash</td>\n",
       "      <td>https://forum.littleone.ru/member.php?u=83506&amp;...</td>\n",
       "      <td>14.06.2008</td>\n",
       "      <td>5*</td>\n",
       "      <td>12043</td>\n",
       "      <td>False</td>\n",
       "      <td>2014-11-07 16:26:00</td>\n",
       "      <td>ТАТТО</td>\n",
       "      <td>А разве я про это дала ссылку?</td>\n",
       "      <td>https://forum.littleone.ru/member.php?userid=3...</td>\n",
       "      <td>https://forum.littleone.ru/showthread.php?p=11...</td>\n",
       "    </tr>\n",
       "    <tr>\n",
       "      <th>4</th>\n",
       "      <td>\\n\\n\\n\\n\\n\\n Сообщение от Юбиляр\\n\\n\\nВ смысле...</td>\n",
       "      <td>\\n\\t\\t\\t\\tBanned\\n\\t\\t\\t</td>\n",
       "      <td>канри</td>\n",
       "      <td>https://forum.littleone.ru/member.php?u=632441...</td>\n",
       "      <td>29.05.2013</td>\n",
       "      <td>NaN</td>\n",
       "      <td>9190</td>\n",
       "      <td>False</td>\n",
       "      <td>2014-11-08 02:48:00</td>\n",
       "      <td>Юбиляр</td>\n",
       "      <td>В смысле нереально ? :001: учится в...</td>\n",
       "      <td>https://forum.littleone.ru/member.php?userid=7...</td>\n",
       "      <td>https://forum.littleone.ru/showthread.php?p=11...</td>\n",
       "    </tr>\n",
       "    <tr>\n",
       "      <th>5</th>\n",
       "      <td>\\n\\n\\n\\n\\n\\n Сообщение от agusya\\n\\n\\nА общага...</td>\n",
       "      <td>\\n\\t\\t\\t\\tBanned\\n\\t\\t\\t</td>\n",
       "      <td>канри</td>\n",
       "      <td>https://forum.littleone.ru/member.php?u=632441...</td>\n",
       "      <td>29.05.2013</td>\n",
       "      <td>NaN</td>\n",
       "      <td>9190</td>\n",
       "      <td>False</td>\n",
       "      <td>2014-11-08 02:55:00</td>\n",
       "      <td>agusya</td>\n",
       "      <td>А общага тоже не бесплатна. И в...</td>\n",
       "      <td>https://forum.littleone.ru/member.php?userid=4...</td>\n",
       "      <td>https://forum.littleone.ru/showthread.php?p=11...</td>\n",
       "    </tr>\n",
       "    <tr>\n",
       "      <th>6</th>\n",
       "      <td>\\n\\n\\n\\n\\n\\n Сообщение от tatash\\n\\n\\nС учета ...</td>\n",
       "      <td>\\n\\t\\t\\t\\tBanned\\n\\t\\t\\t</td>\n",
       "      <td>канри</td>\n",
       "      <td>https://forum.littleone.ru/member.php?u=632441...</td>\n",
       "      <td>29.05.2013</td>\n",
       "      <td>NaN</td>\n",
       "      <td>9190</td>\n",
       "      <td>False</td>\n",
       "      <td>2014-11-08 04:37:00</td>\n",
       "      <td>tatash</td>\n",
       "      <td>С учета какого? \\nРегистрационного? Или...</td>\n",
       "      <td>https://forum.littleone.ru/member.php?userid=8...</td>\n",
       "      <td>https://forum.littleone.ru/showthread.php?p=11...</td>\n",
       "    </tr>\n",
       "    <tr>\n",
       "      <th>7</th>\n",
       "      <td>\\n\\t\\t\\t\\t\\t\\t\\tЯ слышала, что в Финляндии отм...</td>\n",
       "      <td>\\n\\t\\t\\t\\tГость\\n\\t\\t\\t</td>\n",
       "      <td>SashaLeon</td>\n",
       "      <td>https://forum.littleone.ru/member.php?u=711654...</td>\n",
       "      <td>24.10.2014</td>\n",
       "      <td>NaN</td>\n",
       "      <td>18</td>\n",
       "      <td>False</td>\n",
       "      <td>2014-11-09 13:41:00</td>\n",
       "      <td>канри</td>\n",
       "      <td>нет ...не на Винского.. Винский   в...</td>\n",
       "      <td>https://forum.littleone.ru/member.php?userid=6...</td>\n",
       "      <td>https://forum.littleone.ru/showthread.php?p=11...</td>\n",
       "    </tr>\n",
       "    <tr>\n",
       "      <th>8</th>\n",
       "      <td>\\n\\n\\n\\n\\n\\n Сообщение от канри\\n\\n\\nМожно спр...</td>\n",
       "      <td>\\n\\t\\t\\t\\tСтарожил\\n\\t\\t\\t</td>\n",
       "      <td>Королева ОГНЯ</td>\n",
       "      <td>https://forum.littleone.ru/member.php?u=57946&amp;...</td>\n",
       "      <td>21.12.2007</td>\n",
       "      <td>Питерские просторы</td>\n",
       "      <td>1456</td>\n",
       "      <td>False</td>\n",
       "      <td>2014-11-09 13:59:00</td>\n",
       "      <td>канри</td>\n",
       "      <td>Можно спросить, ну просто ради...</td>\n",
       "      <td>https://forum.littleone.ru/member.php?userid=6...</td>\n",
       "      <td>https://forum.littleone.ru/showthread.php?p=11...</td>\n",
       "    </tr>\n",
       "    <tr>\n",
       "      <th>9</th>\n",
       "      <td>\\n\\n\\n\\n\\n\\t\\t\\t\\n\\t\\t\\t\\tЭти направления были...</td>\n",
       "      <td>\\n\\t\\t\\t\\tBanned\\n\\t\\t\\t</td>\n",
       "      <td>канри</td>\n",
       "      <td>https://forum.littleone.ru/member.php?u=632441...</td>\n",
       "      <td>29.05.2013</td>\n",
       "      <td>NaN</td>\n",
       "      <td>9190</td>\n",
       "      <td>False</td>\n",
       "      <td>2014-11-10 01:54:00</td>\n",
       "      <td>Katusha88</td>\n",
       "      <td>Высшее образование заграницей БЕСПЛАТНО...</td>\n",
       "      <td>https://forum.littleone.ru/member.php?userid=9...</td>\n",
       "      <td>https://forum.littleone.ru/showthread.php?p=49...</td>\n",
       "    </tr>\n",
       "  </tbody>\n",
       "</table>\n",
       "</div>"
      ],
      "text/plain": [
       "                                           post_text  \\\n",
       "0  \\n\\t\\t\\t\\t\\t\\t\\tНа сколько знаю я, в Канаде не...   \n",
       "1  \\n\\n\\n\\n\\n\\n Сообщение от tatash\\n\\n\\nНа сколь...   \n",
       "2  \\n\\n\\n\\n\\n\\n Сообщение от канри\\n\\n\\nне знаю к...   \n",
       "3  \\n\\n\\n\\n\\n\\n Сообщение от ТАТТО\\n\\n\\nА разве я...   \n",
       "4  \\n\\n\\n\\n\\n\\n Сообщение от Юбиляр\\n\\n\\nВ смысле...   \n",
       "5  \\n\\n\\n\\n\\n\\n Сообщение от agusya\\n\\n\\nА общага...   \n",
       "6  \\n\\n\\n\\n\\n\\n Сообщение от tatash\\n\\n\\nС учета ...   \n",
       "7  \\n\\t\\t\\t\\t\\t\\t\\tЯ слышала, что в Финляндии отм...   \n",
       "8  \\n\\n\\n\\n\\n\\n Сообщение от канри\\n\\n\\nМожно спр...   \n",
       "9  \\n\\n\\n\\n\\n\\t\\t\\t\\n\\t\\t\\t\\tЭти направления были...   \n",
       "\n",
       "                    user_title      user_name  \\\n",
       "0  \\n\\t\\t\\t\\tХранитель\\n\\t\\t\\t         tatash   \n",
       "1  \\n\\t\\t\\t\\tХранитель\\n\\t\\t\\t          ТАТТО   \n",
       "2      \\n\\t\\t\\t\\tЭлита\\n\\t\\t\\t         agusya   \n",
       "3  \\n\\t\\t\\t\\tХранитель\\n\\t\\t\\t         tatash   \n",
       "4     \\n\\t\\t\\t\\tBanned\\n\\t\\t\\t          канри   \n",
       "5     \\n\\t\\t\\t\\tBanned\\n\\t\\t\\t          канри   \n",
       "6     \\n\\t\\t\\t\\tBanned\\n\\t\\t\\t          канри   \n",
       "7      \\n\\t\\t\\t\\tГость\\n\\t\\t\\t      SashaLeon   \n",
       "8   \\n\\t\\t\\t\\tСтарожил\\n\\t\\t\\t  Королева ОГНЯ   \n",
       "9     \\n\\t\\t\\t\\tBanned\\n\\t\\t\\t          канри   \n",
       "\n",
       "                                           user_link Регистрация  \\\n",
       "0  https://forum.littleone.ru/member.php?u=83506&...  14.06.2008   \n",
       "1  https://forum.littleone.ru/member.php?u=31781&...  03.03.2007   \n",
       "2  https://forum.littleone.ru/member.php?u=44923&...  30.08.2007   \n",
       "3  https://forum.littleone.ru/member.php?u=83506&...  14.06.2008   \n",
       "4  https://forum.littleone.ru/member.php?u=632441...  29.05.2013   \n",
       "5  https://forum.littleone.ru/member.php?u=632441...  29.05.2013   \n",
       "6  https://forum.littleone.ru/member.php?u=632441...  29.05.2013   \n",
       "7  https://forum.littleone.ru/member.php?u=711654...  24.10.2014   \n",
       "8  https://forum.littleone.ru/member.php?u=57946&...  21.12.2007   \n",
       "9  https://forum.littleone.ru/member.php?u=632441...  29.05.2013   \n",
       "\n",
       "                Адрес Сообщений  guest       post_datetime answer_to_user  \\\n",
       "0                  5*     12043  False 2014-11-07 13:18:00          ТАТТО   \n",
       "1       м. Приморская     14676  False 2014-11-07 13:41:00         tatash   \n",
       "2              Остров      2671  False 2014-11-07 14:06:00          канри   \n",
       "3                  5*     12043  False 2014-11-07 16:26:00          ТАТТО   \n",
       "4                 NaN      9190  False 2014-11-08 02:48:00         Юбиляр   \n",
       "5                 NaN      9190  False 2014-11-08 02:55:00         agusya   \n",
       "6                 NaN      9190  False 2014-11-08 04:37:00         tatash   \n",
       "7                 NaN        18  False 2014-11-09 13:41:00          канри   \n",
       "8  Питерские просторы      1456  False 2014-11-09 13:59:00          канри   \n",
       "9                 NaN      9190  False 2014-11-10 01:54:00      Katusha88   \n",
       "\n",
       "                          answer_to_post_head  \\\n",
       "0                           Прочтите здесь...   \n",
       "1          На сколько знаю я, в Канаде нет...   \n",
       "2       не знаю как поддержать даже.. сама...   \n",
       "3              А разве я про это дала ссылку?   \n",
       "4      В смысле нереально ? :001: учится в...   \n",
       "5          А общага тоже не бесплатна. И в...   \n",
       "6  С учета какого? \\nРегистрационного? Или...   \n",
       "7      нет ...не на Винского.. Винский   в...   \n",
       "8           Можно спросить, ну просто ради...   \n",
       "9  Высшее образование заграницей БЕСПЛАТНО...   \n",
       "\n",
       "                                 answer_to_user_link  \\\n",
       "0  https://forum.littleone.ru/member.php?userid=3...   \n",
       "1  https://forum.littleone.ru/member.php?userid=8...   \n",
       "2  https://forum.littleone.ru/member.php?userid=6...   \n",
       "3  https://forum.littleone.ru/member.php?userid=3...   \n",
       "4  https://forum.littleone.ru/member.php?userid=7...   \n",
       "5  https://forum.littleone.ru/member.php?userid=4...   \n",
       "6  https://forum.littleone.ru/member.php?userid=8...   \n",
       "7  https://forum.littleone.ru/member.php?userid=6...   \n",
       "8  https://forum.littleone.ru/member.php?userid=6...   \n",
       "9  https://forum.littleone.ru/member.php?userid=9...   \n",
       "\n",
       "                                 answer_to_post_link  \n",
       "0  https://forum.littleone.ru/showthread.php?p=11...  \n",
       "1  https://forum.littleone.ru/showthread.php?p=11...  \n",
       "2  https://forum.littleone.ru/showthread.php?p=11...  \n",
       "3  https://forum.littleone.ru/showthread.php?p=11...  \n",
       "4  https://forum.littleone.ru/showthread.php?p=11...  \n",
       "5  https://forum.littleone.ru/showthread.php?p=11...  \n",
       "6  https://forum.littleone.ru/showthread.php?p=11...  \n",
       "7  https://forum.littleone.ru/showthread.php?p=11...  \n",
       "8  https://forum.littleone.ru/showthread.php?p=11...  \n",
       "9  https://forum.littleone.ru/showthread.php?p=49...  "
      ]
     },
     "execution_count": 11,
     "metadata": {},
     "output_type": "execute_result"
    }
   ],
   "source": [
    "df = get_all_info_from_file(test_path)\n",
    "df"
   ]
  },
  {
   "cell_type": "code",
   "execution_count": 12,
   "metadata": {
    "hidden": true
   },
   "outputs": [
    {
     "data": {
      "text/plain": [
       "0     7\n",
       "1     7\n",
       "2     7\n",
       "3     7\n",
       "4     8\n",
       "5     8\n",
       "6     8\n",
       "7     9\n",
       "8     9\n",
       "9    10\n",
       "Name: post_datetime, dtype: int64"
      ]
     },
     "execution_count": 12,
     "metadata": {},
     "output_type": "execute_result"
    }
   ],
   "source": [
    "df['post_datetime'].dt.day"
   ]
  },
  {
   "cell_type": "markdown",
   "metadata": {
    "hidden": true
   },
   "source": [
    "### Check parsing with driver"
   ]
  },
  {
   "cell_type": "code",
   "execution_count": 13,
   "metadata": {
    "hidden": true,
    "scrolled": true
   },
   "outputs": [],
   "source": [
    "thread_url = 'https://forum.littleone.ru/showthread.php?t=3275945&page=942'\n",
    "thread_soup = read_html_with_webdriver(thread_url, close_page=True)"
   ]
  },
  {
   "cell_type": "code",
   "execution_count": 14,
   "metadata": {
    "hidden": true,
    "scrolled": true
   },
   "outputs": [
    {
     "data": {
      "text/html": [
       "<div>\n",
       "<style scoped>\n",
       "    .dataframe tbody tr th:only-of-type {\n",
       "        vertical-align: middle;\n",
       "    }\n",
       "\n",
       "    .dataframe tbody tr th {\n",
       "        vertical-align: top;\n",
       "    }\n",
       "\n",
       "    .dataframe thead th {\n",
       "        text-align: right;\n",
       "    }\n",
       "</style>\n",
       "<table border=\"1\" class=\"dataframe\">\n",
       "  <thead>\n",
       "    <tr style=\"text-align: right;\">\n",
       "      <th></th>\n",
       "      <th>0</th>\n",
       "      <th>1</th>\n",
       "      <th>2</th>\n",
       "      <th>3</th>\n",
       "      <th>4</th>\n",
       "      <th>5</th>\n",
       "      <th>6</th>\n",
       "      <th>7</th>\n",
       "      <th>8</th>\n",
       "      <th>9</th>\n",
       "    </tr>\n",
       "  </thead>\n",
       "  <tbody>\n",
       "    <tr>\n",
       "      <th>post_text</th>\n",
       "      <td>\\n\\t\\t\\t\\t\\t\\t\\tПодскажите пожалуйста, если не...</td>\n",
       "      <td>\\n\\t\\t\\t\\t\\t\\t\\tСегодня вывезла своего студент...</td>\n",
       "      <td>\\n\\n\\n\\n\\n\\n Сообщение от Fairy\\n\\n\\nПодскажит...</td>\n",
       "      <td>\\n\\n\\n\\n\\n\\n Сообщение от Живая бабочка\\n\\n\\nо...</td>\n",
       "      <td>\\n\\n\\n\\n\\n\\n Сообщение от iceman\\n\\n\\nУ сабжек...</td>\n",
       "      <td>\\n\\n\\n\\n\\n\\n Сообщение от Живая бабочка\\n\\n\\nС...</td>\n",
       "      <td>\\n\\t\\t\\t\\t\\t\\t\\tбольшинство экз.центров в сша ...</td>\n",
       "      <td>\\n\\t\\t\\t\\t\\t\\t\\tНичего себе, 1240 считается вы...</td>\n",
       "      <td>\\n\\n\\n\\n\\n\\n Сообщение от iceman\\n\\n\\nНичего с...</td>\n",
       "      <td>\\n\\n\\n\\n\\n\\n Сообщение от sirop\\n\\n\\nбольшинст...</td>\n",
       "    </tr>\n",
       "    <tr>\n",
       "      <th>user_title</th>\n",
       "      <td>\\n\\t\\t\\t\\tМега-элита\\n\\t\\t\\t</td>\n",
       "      <td>\\n\\t\\t\\t\\tМега-элита\\n\\t\\t\\t</td>\n",
       "      <td>\\n\\t\\t\\t\\tСтарожил\\n\\t\\t\\t</td>\n",
       "      <td>\\n\\t\\t\\t\\tНаш человек\\n\\t\\t\\t</td>\n",
       "      <td>\\n\\t\\t\\t\\tСтарожил\\n\\t\\t\\t</td>\n",
       "      <td>\\n\\t\\t\\t\\tНаш человек\\n\\t\\t\\t</td>\n",
       "      <td>\\n\\t\\t\\t\\tМега-элита\\n\\t\\t\\t</td>\n",
       "      <td>\\n\\t\\t\\t\\tНаш человек\\n\\t\\t\\t</td>\n",
       "      <td>\\n\\t\\t\\t\\tСтарожил\\n\\t\\t\\t</td>\n",
       "      <td>\\n\\t\\t\\t\\tСтарожил\\n\\t\\t\\t</td>\n",
       "    </tr>\n",
       "    <tr>\n",
       "      <th>user_name</th>\n",
       "      <td>Fairy</td>\n",
       "      <td>Fairy</td>\n",
       "      <td>Живая бабочка</td>\n",
       "      <td>iceman</td>\n",
       "      <td>Живая бабочка</td>\n",
       "      <td>iceman</td>\n",
       "      <td>sirop</td>\n",
       "      <td>iceman</td>\n",
       "      <td>Живая бабочка</td>\n",
       "      <td>Живая бабочка</td>\n",
       "    </tr>\n",
       "    <tr>\n",
       "      <th>user_link</th>\n",
       "      <td>https://forum.littleone.ru/member.php?u=28653&amp;...</td>\n",
       "      <td>https://forum.littleone.ru/member.php?u=28653&amp;...</td>\n",
       "      <td>https://forum.littleone.ru/member.php?u=250853...</td>\n",
       "      <td>https://forum.littleone.ru/member.php?u=212676...</td>\n",
       "      <td>https://forum.littleone.ru/member.php?u=250853...</td>\n",
       "      <td>https://forum.littleone.ru/member.php?u=212676...</td>\n",
       "      <td>https://forum.littleone.ru/member.php?u=297364...</td>\n",
       "      <td>https://forum.littleone.ru/member.php?u=212676...</td>\n",
       "      <td>https://forum.littleone.ru/member.php?u=250853...</td>\n",
       "      <td>https://forum.littleone.ru/member.php?u=250853...</td>\n",
       "    </tr>\n",
       "    <tr>\n",
       "      <th>Регистрация</th>\n",
       "      <td>22.01.2007</td>\n",
       "      <td>22.01.2007</td>\n",
       "      <td>09.01.2010</td>\n",
       "      <td>06.10.2009</td>\n",
       "      <td>09.01.2010</td>\n",
       "      <td>06.10.2009</td>\n",
       "      <td>25.05.2010</td>\n",
       "      <td>06.10.2009</td>\n",
       "      <td>09.01.2010</td>\n",
       "      <td>09.01.2010</td>\n",
       "    </tr>\n",
       "    <tr>\n",
       "      <th>Сообщений</th>\n",
       "      <td>4803</td>\n",
       "      <td>4803</td>\n",
       "      <td>1292</td>\n",
       "      <td>6375</td>\n",
       "      <td>1292</td>\n",
       "      <td>6375</td>\n",
       "      <td>3205</td>\n",
       "      <td>6375</td>\n",
       "      <td>1292</td>\n",
       "      <td>1292</td>\n",
       "    </tr>\n",
       "    <tr>\n",
       "      <th>guest</th>\n",
       "      <td>False</td>\n",
       "      <td>False</td>\n",
       "      <td>False</td>\n",
       "      <td>False</td>\n",
       "      <td>False</td>\n",
       "      <td>False</td>\n",
       "      <td>False</td>\n",
       "      <td>False</td>\n",
       "      <td>False</td>\n",
       "      <td>False</td>\n",
       "    </tr>\n",
       "    <tr>\n",
       "      <th>post_datetime</th>\n",
       "      <td>2020-09-12 00:53:00</td>\n",
       "      <td>2020-09-12 00:58:00</td>\n",
       "      <td>2020-09-12 13:25:00</td>\n",
       "      <td>2020-09-12 13:56:00</td>\n",
       "      <td>2020-09-12 14:28:00</td>\n",
       "      <td>2020-09-12 15:00:00</td>\n",
       "      <td>2020-09-12 17:23:00</td>\n",
       "      <td>2020-09-12 18:09:00</td>\n",
       "      <td>2020-09-12 18:13:00</td>\n",
       "      <td>2020-09-12 18:19:00</td>\n",
       "    </tr>\n",
       "    <tr>\n",
       "      <th>answer_to_user</th>\n",
       "      <td>Живая бабочка</td>\n",
       "      <td>пони777</td>\n",
       "      <td>Fairy</td>\n",
       "      <td>Живая бабочка</td>\n",
       "      <td>iceman</td>\n",
       "      <td>Живая бабочка</td>\n",
       "      <td>Katusha88</td>\n",
       "      <td>Katusha88</td>\n",
       "      <td>iceman</td>\n",
       "      <td>sirop</td>\n",
       "    </tr>\n",
       "    <tr>\n",
       "      <th>answer_to_post_head</th>\n",
       "      <td>Мы в США, но по американским законам,...</td>\n",
       "      <td>А Вас тоже  через границу пропустили с...</td>\n",
       "      <td>Подскажите пожалуйста, если не секрет,...</td>\n",
       "      <td>очень высокий. Общий sat  был, если не...</td>\n",
       "      <td>У сабжект сат максимальный возмлжный...</td>\n",
       "      <td>Сабджект тесты  Же по 2 предметам надо...</td>\n",
       "      <td>Высшее образование заграницей БЕСПЛАТНО...</td>\n",
       "      <td>Высшее образование заграницей БЕСПЛАТНО...</td>\n",
       "      <td>Ничего себе, 1240 считается выше...</td>\n",
       "      <td>большинство экз.центров в сша открыто....</td>\n",
       "    </tr>\n",
       "    <tr>\n",
       "      <th>answer_to_user_link</th>\n",
       "      <td>https://forum.littleone.ru/member.php?userid=2...</td>\n",
       "      <td>https://forum.littleone.ru/member.php?userid=5...</td>\n",
       "      <td>https://forum.littleone.ru/member.php?userid=2...</td>\n",
       "      <td>https://forum.littleone.ru/member.php?userid=2...</td>\n",
       "      <td>https://forum.littleone.ru/member.php?userid=2...</td>\n",
       "      <td>https://forum.littleone.ru/member.php?userid=2...</td>\n",
       "      <td>https://forum.littleone.ru/member.php?userid=9...</td>\n",
       "      <td>https://forum.littleone.ru/member.php?userid=9...</td>\n",
       "      <td>https://forum.littleone.ru/member.php?userid=2...</td>\n",
       "      <td>https://forum.littleone.ru/member.php?userid=2...</td>\n",
       "    </tr>\n",
       "    <tr>\n",
       "      <th>answer_to_post_link</th>\n",
       "      <td>https://forum.littleone.ru/showthread.php?p=17...</td>\n",
       "      <td>https://forum.littleone.ru/showthread.php?p=17...</td>\n",
       "      <td>https://forum.littleone.ru/showthread.php?p=17...</td>\n",
       "      <td>https://forum.littleone.ru/showthread.php?p=17...</td>\n",
       "      <td>https://forum.littleone.ru/showthread.php?p=17...</td>\n",
       "      <td>https://forum.littleone.ru/showthread.php?p=17...</td>\n",
       "      <td>https://forum.littleone.ru/showthread.php?p=49...</td>\n",
       "      <td>https://forum.littleone.ru/showthread.php?p=49...</td>\n",
       "      <td>https://forum.littleone.ru/showthread.php?p=17...</td>\n",
       "      <td>https://forum.littleone.ru/showthread.php?p=17...</td>\n",
       "    </tr>\n",
       "  </tbody>\n",
       "</table>\n",
       "</div>"
      ],
      "text/plain": [
       "                                                                     0  \\\n",
       "post_text            \\n\\t\\t\\t\\t\\t\\t\\tПодскажите пожалуйста, если не...   \n",
       "user_title                                \\n\\t\\t\\t\\tМега-элита\\n\\t\\t\\t   \n",
       "user_name                                                        Fairy   \n",
       "user_link            https://forum.littleone.ru/member.php?u=28653&...   \n",
       "Регистрация                                                 22.01.2007   \n",
       "Сообщений                                                         4803   \n",
       "guest                                                            False   \n",
       "post_datetime                                      2020-09-12 00:53:00   \n",
       "answer_to_user                                           Живая бабочка   \n",
       "answer_to_post_head           Мы в США, но по американским законам,...   \n",
       "answer_to_user_link  https://forum.littleone.ru/member.php?userid=2...   \n",
       "answer_to_post_link  https://forum.littleone.ru/showthread.php?p=17...   \n",
       "\n",
       "                                                                     1  \\\n",
       "post_text            \\n\\t\\t\\t\\t\\t\\t\\tСегодня вывезла своего студент...   \n",
       "user_title                                \\n\\t\\t\\t\\tМега-элита\\n\\t\\t\\t   \n",
       "user_name                                                        Fairy   \n",
       "user_link            https://forum.littleone.ru/member.php?u=28653&...   \n",
       "Регистрация                                                 22.01.2007   \n",
       "Сообщений                                                         4803   \n",
       "guest                                                            False   \n",
       "post_datetime                                      2020-09-12 00:58:00   \n",
       "answer_to_user                                                 пони777   \n",
       "answer_to_post_head          А Вас тоже  через границу пропустили с...   \n",
       "answer_to_user_link  https://forum.littleone.ru/member.php?userid=5...   \n",
       "answer_to_post_link  https://forum.littleone.ru/showthread.php?p=17...   \n",
       "\n",
       "                                                                     2  \\\n",
       "post_text            \\n\\n\\n\\n\\n\\n Сообщение от Fairy\\n\\n\\nПодскажит...   \n",
       "user_title                                  \\n\\t\\t\\t\\tСтарожил\\n\\t\\t\\t   \n",
       "user_name                                                Живая бабочка   \n",
       "user_link            https://forum.littleone.ru/member.php?u=250853...   \n",
       "Регистрация                                                 09.01.2010   \n",
       "Сообщений                                                         1292   \n",
       "guest                                                            False   \n",
       "post_datetime                                      2020-09-12 13:25:00   \n",
       "answer_to_user                                                   Fairy   \n",
       "answer_to_post_head          Подскажите пожалуйста, если не секрет,...   \n",
       "answer_to_user_link  https://forum.littleone.ru/member.php?userid=2...   \n",
       "answer_to_post_link  https://forum.littleone.ru/showthread.php?p=17...   \n",
       "\n",
       "                                                                     3  \\\n",
       "post_text            \\n\\n\\n\\n\\n\\n Сообщение от Живая бабочка\\n\\n\\nо...   \n",
       "user_title                               \\n\\t\\t\\t\\tНаш человек\\n\\t\\t\\t   \n",
       "user_name                                                       iceman   \n",
       "user_link            https://forum.littleone.ru/member.php?u=212676...   \n",
       "Регистрация                                                 06.10.2009   \n",
       "Сообщений                                                         6375   \n",
       "guest                                                            False   \n",
       "post_datetime                                      2020-09-12 13:56:00   \n",
       "answer_to_user                                           Живая бабочка   \n",
       "answer_to_post_head          очень высокий. Общий sat  был, если не...   \n",
       "answer_to_user_link  https://forum.littleone.ru/member.php?userid=2...   \n",
       "answer_to_post_link  https://forum.littleone.ru/showthread.php?p=17...   \n",
       "\n",
       "                                                                     4  \\\n",
       "post_text            \\n\\n\\n\\n\\n\\n Сообщение от iceman\\n\\n\\nУ сабжек...   \n",
       "user_title                                  \\n\\t\\t\\t\\tСтарожил\\n\\t\\t\\t   \n",
       "user_name                                                Живая бабочка   \n",
       "user_link            https://forum.littleone.ru/member.php?u=250853...   \n",
       "Регистрация                                                 09.01.2010   \n",
       "Сообщений                                                         1292   \n",
       "guest                                                            False   \n",
       "post_datetime                                      2020-09-12 14:28:00   \n",
       "answer_to_user                                                  iceman   \n",
       "answer_to_post_head            У сабжект сат максимальный возмлжный...   \n",
       "answer_to_user_link  https://forum.littleone.ru/member.php?userid=2...   \n",
       "answer_to_post_link  https://forum.littleone.ru/showthread.php?p=17...   \n",
       "\n",
       "                                                                     5  \\\n",
       "post_text            \\n\\n\\n\\n\\n\\n Сообщение от Живая бабочка\\n\\n\\nС...   \n",
       "user_title                               \\n\\t\\t\\t\\tНаш человек\\n\\t\\t\\t   \n",
       "user_name                                                       iceman   \n",
       "user_link            https://forum.littleone.ru/member.php?u=212676...   \n",
       "Регистрация                                                 06.10.2009   \n",
       "Сообщений                                                         6375   \n",
       "guest                                                            False   \n",
       "post_datetime                                      2020-09-12 15:00:00   \n",
       "answer_to_user                                           Живая бабочка   \n",
       "answer_to_post_head          Сабджект тесты  Же по 2 предметам надо...   \n",
       "answer_to_user_link  https://forum.littleone.ru/member.php?userid=2...   \n",
       "answer_to_post_link  https://forum.littleone.ru/showthread.php?p=17...   \n",
       "\n",
       "                                                                     6  \\\n",
       "post_text            \\n\\t\\t\\t\\t\\t\\t\\tбольшинство экз.центров в сша ...   \n",
       "user_title                                \\n\\t\\t\\t\\tМега-элита\\n\\t\\t\\t   \n",
       "user_name                                                        sirop   \n",
       "user_link            https://forum.littleone.ru/member.php?u=297364...   \n",
       "Регистрация                                                 25.05.2010   \n",
       "Сообщений                                                         3205   \n",
       "guest                                                            False   \n",
       "post_datetime                                      2020-09-12 17:23:00   \n",
       "answer_to_user                                               Katusha88   \n",
       "answer_to_post_head         Высшее образование заграницей БЕСПЛАТНО...   \n",
       "answer_to_user_link  https://forum.littleone.ru/member.php?userid=9...   \n",
       "answer_to_post_link  https://forum.littleone.ru/showthread.php?p=49...   \n",
       "\n",
       "                                                                     7  \\\n",
       "post_text            \\n\\t\\t\\t\\t\\t\\t\\tНичего себе, 1240 считается вы...   \n",
       "user_title                               \\n\\t\\t\\t\\tНаш человек\\n\\t\\t\\t   \n",
       "user_name                                                       iceman   \n",
       "user_link            https://forum.littleone.ru/member.php?u=212676...   \n",
       "Регистрация                                                 06.10.2009   \n",
       "Сообщений                                                         6375   \n",
       "guest                                                            False   \n",
       "post_datetime                                      2020-09-12 18:09:00   \n",
       "answer_to_user                                               Katusha88   \n",
       "answer_to_post_head         Высшее образование заграницей БЕСПЛАТНО...   \n",
       "answer_to_user_link  https://forum.littleone.ru/member.php?userid=9...   \n",
       "answer_to_post_link  https://forum.littleone.ru/showthread.php?p=49...   \n",
       "\n",
       "                                                                     8  \\\n",
       "post_text            \\n\\n\\n\\n\\n\\n Сообщение от iceman\\n\\n\\nНичего с...   \n",
       "user_title                                  \\n\\t\\t\\t\\tСтарожил\\n\\t\\t\\t   \n",
       "user_name                                                Живая бабочка   \n",
       "user_link            https://forum.littleone.ru/member.php?u=250853...   \n",
       "Регистрация                                                 09.01.2010   \n",
       "Сообщений                                                         1292   \n",
       "guest                                                            False   \n",
       "post_datetime                                      2020-09-12 18:13:00   \n",
       "answer_to_user                                                  iceman   \n",
       "answer_to_post_head                Ничего себе, 1240 считается выше...   \n",
       "answer_to_user_link  https://forum.littleone.ru/member.php?userid=2...   \n",
       "answer_to_post_link  https://forum.littleone.ru/showthread.php?p=17...   \n",
       "\n",
       "                                                                     9  \n",
       "post_text            \\n\\n\\n\\n\\n\\n Сообщение от sirop\\n\\n\\nбольшинст...  \n",
       "user_title                                  \\n\\t\\t\\t\\tСтарожил\\n\\t\\t\\t  \n",
       "user_name                                                Живая бабочка  \n",
       "user_link            https://forum.littleone.ru/member.php?u=250853...  \n",
       "Регистрация                                                 09.01.2010  \n",
       "Сообщений                                                         1292  \n",
       "guest                                                            False  \n",
       "post_datetime                                      2020-09-12 18:19:00  \n",
       "answer_to_user                                                   sirop  \n",
       "answer_to_post_head          большинство экз.центров в сша открыто....  \n",
       "answer_to_user_link  https://forum.littleone.ru/member.php?userid=2...  \n",
       "answer_to_post_link  https://forum.littleone.ru/showthread.php?p=17...  "
      ]
     },
     "execution_count": 14,
     "metadata": {},
     "output_type": "execute_result"
    }
   ],
   "source": [
    "get_all_info_from_page(thread_soup).T"
   ]
  },
  {
   "cell_type": "code",
   "execution_count": 25,
   "metadata": {
    "hidden": true
   },
   "outputs": [],
   "source": [
    "posts = get_posts_from_page(thread_soup)"
   ]
  },
  {
   "cell_type": "code",
   "execution_count": 26,
   "metadata": {
    "hidden": true
   },
   "outputs": [
    {
     "name": "stdout",
     "output_type": "stream",
     "text": [
      "ответ для Katusha88 , на сообщение « Высшее образование заграницей БЕСПЛАТНО... » \n"
     ]
    },
    {
     "data": {
      "text/plain": [
       "['Высшее образование заграницей БЕСПЛАТНО...']"
      ]
     },
     "execution_count": 26,
     "metadata": {},
     "output_type": "execute_result"
    }
   ],
   "source": [
    "div = posts[6].find('div', {'class' : 'posthead'}).find(\"div\")\n",
    "print(div.text)\n",
    "re.findall('на сообщение « ([\\S\\s]*) »', div.text)"
   ]
  },
  {
   "cell_type": "code",
   "execution_count": 27,
   "metadata": {
    "hidden": true,
    "scrolled": true
   },
   "outputs": [
    {
     "data": {
      "text/plain": [
       "{'user_title': '\\n\\t\\t\\t\\tНаш человек\\n\\t\\t\\t',\n",
       " 'user_name': 'iceman',\n",
       " 'user_link': 'https://forum.littleone.ru/member.php?u=212676&s=a6819aaeba40c01222eb95532eaaf2e0',\n",
       " 'Регистрация': '06.10.2009',\n",
       " 'Сообщений': '6375',\n",
       " 'guest': False}"
      ]
     },
     "execution_count": 27,
     "metadata": {},
     "output_type": "execute_result"
    }
   ],
   "source": [
    "get_user_info_from_post(posts[5])"
   ]
  },
  {
   "cell_type": "code",
   "execution_count": 28,
   "metadata": {
    "hidden": true,
    "scrolled": true
   },
   "outputs": [
    {
     "data": {
      "text/plain": [
       "{'post_datetime': datetime.datetime(2020, 9, 12, 15, 0),\n",
       " 'answer_to_user': 'Живая бабочка',\n",
       " 'answer_to_post_head': 'Сабджект тесты  Же по 2 предметам надо...',\n",
       " 'answer_to_user_link': 'https://forum.littleone.ru/member.php?userid=250853',\n",
       " 'answer_to_post_link': 'https://forum.littleone.ru/showthread.php?p=172297815#post172297815'}"
      ]
     },
     "execution_count": 28,
     "metadata": {},
     "output_type": "execute_result"
    }
   ],
   "source": [
    "get_info_from_post_header(posts[5], None)"
   ]
  },
  {
   "cell_type": "code",
   "execution_count": 29,
   "metadata": {
    "hidden": true,
    "scrolled": false
   },
   "outputs": [
    {
     "data": {
      "text/plain": [
       "datetime.datetime(2014, 9, 11, 0, 0)"
      ]
     },
     "execution_count": 29,
     "metadata": {},
     "output_type": "execute_result"
    }
   ],
   "source": [
    "parse('09.11.2014')"
   ]
  },
  {
   "cell_type": "markdown",
   "metadata": {},
   "source": [
    "# Parse directly to csv. Not fast, not used"
   ]
  },
  {
   "cell_type": "code",
   "execution_count": 45,
   "metadata": {},
   "outputs": [],
   "source": [
    "def get_save_freq(n_pages):\n",
    "    if n_pages < 1000: return 500\n",
    "    elif n_pages < 10000: return 5000\n",
    "    else: return 10000\n",
    "\n",
    "\n",
    "def get_pages_num(thread_soup):\n",
    "    # it seems that from the moment of first development the engine changed a bit\n",
    "#     last_page_tag = thread_soup.find(\n",
    "#         \"a\", title=lambda title: title and title.startswith(\"Последняя\"))\n",
    "#     top_n_pages = int(re.findall('из ([\\d\\s]*)',\n",
    "#                                  last_page_tag.attrs['title'])[0].replace(u'\\xa0', ''))\n",
    "    # current version\n",
    "    try:\n",
    "        pages_regex = 'Страница [\\d]* из ([\\d]*)'\n",
    "        pages_tag = thread_soup.find('td', text = re.compile(pages_regex))\n",
    "        top_n_pages = int(re.findall(pages_regex, pages_tag.text)[0])\n",
    "        print('found pages', top_n_pages)\n",
    "    except:\n",
    "        top_n_pages = 1\n",
    "        print('Pagination wasn\\'t foudn on the page. Load only one')\n",
    "\n",
    "    return top_n_pages"
   ]
  },
  {
   "cell_type": "code",
   "execution_count": 11,
   "metadata": {},
   "outputs": [],
   "source": [
    "def get_user_info_from_page(soup):\n",
    "    posts = get_posts_from_page(soup)\n",
    "    return [get_user_info_from_post(post) for post in posts]"
   ]
  },
  {
   "cell_type": "code",
   "execution_count": 52,
   "metadata": {
    "code_folding": []
   },
   "outputs": [],
   "source": [
    "def get_thread_msgs(thread_url, top_n_pages=5, save_path=None, close_page=True):\n",
    "    thread_soup, driver = read_html_with_webdriver(thread_url, )\n",
    "    \n",
    "    thread_num = re.findall('\\d{7}', thread_url)[0]\n",
    "    print('Thread num:', thread_num)\n",
    "    \n",
    "    if any('Thread_'+thread_num in filename for filename in os.listdir(save_path)):\n",
    "        matching_files = [f for f in os.listdir(save_path) if 'Thread_'+thread_num in f]\n",
    "        print('The thread is already processed. Files:\\n', matching_files)\n",
    "        driver.close()\n",
    "        print('Return the first one', matching_files[0])\n",
    "        return pd.read_csv(os.path.join(save_path, matching_files[0]))\n",
    "    \n",
    "    result_df = pd.DataFrame()\n",
    "    \n",
    "    if top_n_pages == -1:\n",
    "        print('top_n_pages = -1, so will scrap all pages')\n",
    "        top_n_pages = get_pages_num(thread_soup)\n",
    "        \n",
    "#         if top_n_pages < 1000:\n",
    "#             print('less than 1000 pages')\n",
    "#             driver.close()\n",
    "#             return None # mb return full file is exists\n",
    "    \n",
    "    if save_path is not None:\n",
    "        save_frequency = get_save_freq(top_n_pages)\n",
    "    \n",
    "    for i in tqdm(range(1, top_n_pages+1), total=top_n_pages, mininterval=10):            \n",
    "        all_info_from_page = get_all_info_from_page(thread_soup)\n",
    "        result_df = pd.concat([result_df, all_info_from_page], ignore_index=True)        \n",
    "        \n",
    "        if i % save_frequency == 0 and save_path is not None:\n",
    "            print(\"Saving after {}-th epoch\".format(i))\n",
    "            result_df.to_csv(os.path.join(save_path, 'Thread_'+thread_num+'_{}_pages.csv'.format(i)), index=False)\n",
    "\n",
    "        # where is no page after the last one\n",
    "        if i != top_n_pages:\n",
    "            move_to_next_page(driver)\n",
    "            thread_soup = driver2soup(driver)\n",
    "    \n",
    "    if close_page:\n",
    "        driver.close()\n",
    "        \n",
    "    if save_path is not None:\n",
    "        result_df.to_csv(os.path.join(save_path, 'Thread_'+thread_num+'_full_{}_pages.csv'.format(top_n_pages)), \n",
    "                         index=False)\n",
    "        temp_files = [file for file in os.listdir(save_path) if thread_num in file and 'full' not in file]\n",
    "        [os.remove(os.path.join(save_path, file)) for file in temp_files]\n",
    "        \n",
    "    return result_df"
   ]
  },
  {
   "cell_type": "markdown",
   "metadata": {},
   "source": [
    "## Parsing one thread directly to csv "
   ]
  },
  {
   "cell_type": "code",
   "execution_count": 14,
   "metadata": {},
   "outputs": [],
   "source": [
    "thread_url = 'https://forum.littleone.ru/showthread.php?t=7773530'"
   ]
  },
  {
   "cell_type": "code",
   "execution_count": 35,
   "metadata": {
    "scrolled": true
   },
   "outputs": [
    {
     "name": "stderr",
     "output_type": "stream",
     "text": [
      "\r",
      "  0%|                                                                                            | 0/7 [00:00<?, ?it/s]"
     ]
    },
    {
     "name": "stdout",
     "output_type": "stream",
     "text": [
      "Thread num: 7773530\n",
      "top_n_pages = -1, so will scrap all pages\n",
      "found pages 7\n"
     ]
    },
    {
     "name": "stderr",
     "output_type": "stream",
     "text": [
      "\r",
      "100%|████████████████████████████████████████████████████████████████████████████████████| 7/7 [00:08<00:00,  1.16s/it]"
     ]
    },
    {
     "name": "stdout",
     "output_type": "stream",
     "text": [
      "Unable to get next page\n",
      "Wall time: 20.8 s\n"
     ]
    },
    {
     "name": "stderr",
     "output_type": "stream",
     "text": [
      "\n"
     ]
    }
   ],
   "source": [
    "%%time\n",
    "\n",
    "result_df = get_thread_msgs(thread_url, top_n_pages=top_n_pages, \n",
    "                            save_path=data_path_csv)"
   ]
  },
  {
   "cell_type": "code",
   "execution_count": 36,
   "metadata": {
    "scrolled": false
   },
   "outputs": [
    {
     "data": {
      "text/plain": [
       "((66, 13), 6530)"
      ]
     },
     "execution_count": 36,
     "metadata": {},
     "output_type": "execute_result"
    }
   ],
   "source": [
    "result_df.shape, result_df.memory_usage().sum()"
   ]
  },
  {
   "cell_type": "markdown",
   "metadata": {},
   "source": [
    "check the save query for just loaded file"
   ]
  },
  {
   "cell_type": "code",
   "execution_count": 37,
   "metadata": {
    "scrolled": true
   },
   "outputs": [
    {
     "name": "stdout",
     "output_type": "stream",
     "text": [
      "Thread num: 7773530\n",
      "The thread is already processed. Files:\n",
      " ['Thread_7773530_full_7_pages.csv']\n",
      "Return the first one Thread_7773530_full_7_pages.csv\n"
     ]
    },
    {
     "data": {
      "text/plain": [
       "((66, 13), 6530)"
      ]
     },
     "execution_count": 37,
     "metadata": {},
     "output_type": "execute_result"
    }
   ],
   "source": [
    "result_df = get_thread_msgs(thread_url, top_n_pages=top_n_pages, \n",
    "                            save_path=data_path_csv)\n",
    "result_df.shape, result_df.memory_usage().sum()"
   ]
  },
  {
   "cell_type": "markdown",
   "metadata": {},
   "source": [
    "## Parsing a subsection (collection of threads) directly to csv"
   ]
  },
  {
   "cell_type": "code",
   "execution_count": 38,
   "metadata": {},
   "outputs": [],
   "source": [
    "subsection_url = 'https://forum.littleone.ru/forumdisplay.php?f=322'"
   ]
  },
  {
   "cell_type": "code",
   "execution_count": 40,
   "metadata": {},
   "outputs": [],
   "source": [
    "# TODO: a folder for the whole subsection may be created\n",
    "def get_subsection_msgs(subsection_url, **kwargs):\n",
    "    soup, driver = read_html_with_webdriver(subsection_url)\n",
    "    topics = soup.find('ol', {'id': 'threads'}).find_all('li', {'class': re.compile('threadbit hot *')})\n",
    "    for topic in topics:\n",
    "        print(\"parsing topic: \", topic.find('a', 'title').text)\n",
    "        href = topic.find('a', href=True).attrs['href']\n",
    "        get_thread_msgs('https://forum.littleone.ru/'+href, **kwargs);\n",
    "    driver.close()"
   ]
  },
  {
   "cell_type": "code",
   "execution_count": 47,
   "metadata": {
    "scrolled": true
   },
   "outputs": [
    {
     "name": "stdout",
     "output_type": "stream",
     "text": [
      "parsing topic:  Про питание ребенка - очень важно!\n",
      "Thread num: 8454147\n",
      "The thread is already processed. Files:\n",
      " ['Thread_8454147_full_22_pages.csv']\n",
      "Return the first one Thread_8454147_full_22_pages.csv\n",
      "parsing topic:  Что производят в Петербурге для детей?\n",
      "Thread num: 8218973\n",
      "The thread is already processed. Files:\n",
      " ['Thread_8218973_full_15_pages.csv']\n",
      "Return the first one Thread_8218973_full_15_pages.csv\n",
      "parsing topic:  Как научить ребенка есть овощи и фрукты в 5 лет?\n",
      "Thread num: 8424083\n",
      "The thread is already processed. Files:\n",
      " ['Thread_8424083_full_6_pages.csv']\n",
      "Return the first one Thread_8424083_full_6_pages.csv\n",
      "parsing topic:  Детские рецепты\n",
      "Thread num: 8211736\n",
      "The thread is already processed. Files:\n",
      " ['Thread_8211736_full_16_pages.csv']\n",
      "Return the first one Thread_8211736_full_16_pages.csv\n",
      "parsing topic:  Питание аллергика в детском саду\n",
      "Thread num: 8461409\n",
      "The thread is already processed. Files:\n",
      " ['Thread_8461409_full_2_pages.csv']\n",
      "Return the first one Thread_8461409_full_2_pages.csv\n",
      "parsing topic:  Лактазная недостаточность у 7 летки\n",
      "Thread num: 8425446\n",
      "The thread is already processed. Files:\n",
      " ['Thread_8425446_full_3_pages.csv']\n",
      "Return the first one Thread_8425446_full_3_pages.csv\n",
      "parsing topic:  Плохой аппетит у двухлетки\n",
      "Thread num: 8258677\n",
      "The thread is already processed. Files:\n",
      " ['Thread_8258677_full_6_pages.csv']\n",
      "Return the first one Thread_8258677_full_6_pages.csv\n",
      "parsing topic:  Дала пюре из кабачка и вот реакция\n",
      "Thread num: 8431706\n",
      "The thread is already processed. Files:\n",
      " ['Thread_8431706_full_2_pages.csv']\n",
      "Return the first one Thread_8431706_full_2_pages.csv\n",
      "parsing topic:  Как помочь с животиком?\n",
      "Thread num: 8416209\n",
      "The thread is already processed. Files:\n",
      " ['Thread_8416209_full_2_pages.csv']\n",
      "Return the first one Thread_8416209_full_2_pages.csv\n",
      "parsing topic:  Эмоциональное выгорание мамы - миф или реальность?\n",
      "Thread num: 8338082\n",
      "The thread is already processed. Files:\n",
      " ['Thread_8338082_full_4_pages.csv']\n",
      "Return the first one Thread_8338082_full_4_pages.csv\n",
      "parsing topic:  Ввод кисломолочных продуктов в рацион ребенка\n",
      "Thread num: 8210591\n",
      "The thread is already processed. Files:\n",
      " ['Thread_8210591_full_15_pages.csv']\n",
      "Return the first one Thread_8210591_full_15_pages.csv\n",
      "parsing topic:  Прикорм мясом со скольки месяцев?\n",
      "Thread num: 8415318\n",
      "The thread is already processed. Files:\n",
      " ['Thread_8415318_full_2_pages.csv']\n",
      "Return the first one Thread_8415318_full_2_pages.csv\n",
      "parsing topic:  Важность полдника для малыша\n",
      "Thread num: 8210244\n",
      "The thread is already processed. Files:\n",
      " ['Thread_8210244_full_9_pages.csv']\n",
      "Return the first one Thread_8210244_full_9_pages.csv\n",
      "parsing topic:  Проблемы с животиком. Стоит ли менять смесь?\n"
     ]
    },
    {
     "name": "stderr",
     "output_type": "stream",
     "text": [
      "  0%|                                                                                            | 0/1 [00:00<?, ?it/s]"
     ]
    },
    {
     "name": "stdout",
     "output_type": "stream",
     "text": [
      "Thread num: 8414736\n",
      "top_n_pages = -1, so will scrap all pages\n",
      "Pagination wasn't foudn on the page. Load only one\n",
      "parsing topic:  Молочные смеси\n"
     ]
    },
    {
     "name": "stderr",
     "output_type": "stream",
     "text": [
      "\n",
      "  0%|                                                                                            | 0/1 [00:00<?, ?it/s]"
     ]
    },
    {
     "name": "stdout",
     "output_type": "stream",
     "text": [
      "Thread num: 8381500\n",
      "top_n_pages = -1, so will scrap all pages\n",
      "Pagination wasn't foudn on the page. Load only one\n",
      "parsing topic:  Ввод продуктов после аллергии\n"
     ]
    },
    {
     "name": "stderr",
     "output_type": "stream",
     "text": [
      "\n",
      "  0%|                                                                                            | 0/3 [00:00<?, ?it/s]"
     ]
    },
    {
     "name": "stdout",
     "output_type": "stream",
     "text": [
      "Thread num: 8272742\n",
      "top_n_pages = -1, so will scrap all pages\n",
      "found pages 3\n"
     ]
    },
    {
     "name": "stderr",
     "output_type": "stream",
     "text": [
      " 33%|████████████████████████████                                                        | 1/3 [00:01<00:02,  1.29s/it]\n"
     ]
    },
    {
     "ename": "AssertionError",
     "evalue": "Posts not found on page. Soup:\n<html dir=\"ltr\" id=\"vbulletin_html\" lang=\"ru\" xmlns=\"http://www.w3.org/1999/xhtml\"><head>\n<meta content=\"text/html; charset=utf-8\" http-equiv=\"Content-Type\"/>\n<meta content=\"https://forum.littleone.ru\" id=\"e_vb_meta_bburl\" name=\"vb_meta_bburl\"/>\n<base href=\"https://forum.littleone.ru/\"/><!--[if IE]></base><![endif]-->\n<meta content=\"vBulletin 4.2.1\" name=\"generator\"/>\n<meta content=\"width=1200\" name=\"viewport\"/>\n<meta content=\"IE=edge\" http-equiv=\"X-UA-Compatible\"/>\n<meta content=\"322\" name=\"forum_id\"/>\n<link href=\"favicon.ico\" rel=\"Shortcut Icon\" type=\"image/x-icon\"/>\n<script type=\"text/javascript\">\n<!--\n\tif (typeof YAHOO === 'undefined') // Load ALL YUI Local\n\t{\n\t\tdocument.write('<script type=\"text/javascript\" src=\"clientscript/yui/yuiloader-dom-event/yuiloader-dom-event.js?v=422\"><\\/script>');\n\t\tdocument.write('<script type=\"text/javascript\" src=\"clientscript/yui/connection/connection-min.js?v=422\"><\\/script>');\n\t\tvar yuipath = 'clientscript/yui';\n\t\tvar yuicombopath = '';\n\t\tvar remoteyui = false;\n\t}\n\telse\t// Load Rest of YUI remotely (where possible)\n\t{\n\t\tvar yuipath = 'clientscript/yui';\n\t\tvar yuicombopath = '';\n\t\tvar remoteyui = true;\n\t\tif (!yuicombopath)\n\t\t{\n\t\t\tdocument.write('<script type=\"text/javascript\" src=\"clientscript/yui/connection/connection-min.js?v=422\"><\\/script>');\n\t\t}\n\t}\n\tvar SESSIONURL = \"\";\n\tvar SECURITYTOKEN = \"guest\";\n\tvar IMGDIR_MISC = \"/images/misc\";\n\tvar IMGDIR_BUTTON = \"/images/buttons\";\n\tvar vb_disable_ajax = parseInt(\"1\", 10);\n\tvar SIMPLEVERSION = \"422\";\n\tvar BBURL = \"https://forum.littleone.ru\";\n\tvar LOGGEDIN = 0 > 0 ? true : false;\n\tvar THIS_SCRIPT = \"showthread\";\n\tvar RELPATH = \"showthread.php?t=8272742&amp;page=3\";\n\tvar PATHS = {\n\t\tforum : \"\",\n\t\tcms   : \"\",\n\t\tblog  : \"\"\n\t};\n\tvar AJAXBASEURL = \"https://forum.littleone.ru/\";//JDrew MOD\n// -->\n</script><script src=\"clientscript/yui/yuiloader-dom-event/yuiloader-dom-event.js?v=422\" type=\"text/javascript\"></script><script src=\"clientscript/yui/connection/connection-min.js?v=422\" type=\"text/javascript\"></script>\n<script src=\"https://forum.littleone.ru/clientscript/vbulletin-core.js?v=422\" type=\"text/javascript\"></script>\n<link href=\"https://forum.littleone.ru/external.php?type=RSS2\" rel=\"alternate\" title=\"Littleone RSS\" type=\"application/rss+xml\"/>\n<link href=\"https://forum.littleone.ru/external.php?type=RSS2&amp;forumids=322\" rel=\"alternate\" title=\"Littleone - Все о питании детей - RSS\" type=\"application/rss+xml\"/>\n<link href=\"clientscript/vbulletin_css/style00021l/main-rollup.css?d=1622549978\" rel=\"stylesheet\" type=\"text/css\"/>\n<!--[if lt IE 8]>\n\t<link rel=\"stylesheet\" type=\"text/css\" href=\"clientscript/vbulletin_css/style00021l/popupmenu-ie.css?d=1622549978\" />\n\t<link rel=\"stylesheet\" type=\"text/css\" href=\"clientscript/vbulletin_css/style00021l/vbulletin-ie.css?d=1622549978\" />\n\t<link rel=\"stylesheet\" type=\"text/css\" href=\"clientscript/vbulletin_css/style00021l/vbulletin-chrome-ie.css?d=1622549978\" />\n\t<link rel=\"stylesheet\" type=\"text/css\" href=\"clientscript/vbulletin_css/style00021l/vbulletin-formcontrols-ie.css?d=1622549978\" />\n\t<link rel=\"stylesheet\" type=\"text/css\" href=\"clientscript/vbulletin_css/style00021l/editor-ie.css?d=1622549978\" />\n\t<![endif]-->\n<!-- App Indexing for Google Search -->\n<link href=\"android-app://com.quoord.tapatalkpro.activity/tapatalk/forum.littleone.ru?location=topic&amp;page=3&amp;perpage=10&amp;fid=322&amp;tid=8272742&amp;channel=google-indexing\" rel=\"alternate\"/>\n<link href=\"ios-app://307880732/tapatalk/forum.littleone.ru?location=topic&amp;page=3&amp;perpage=10&amp;fid=322&amp;tid=8272742&amp;channel=google-indexing\" rel=\"alternate\"/>\n<link href=\"/var/www/forum/htdocs/mobiquo/smartbanner/manifest.json\" rel=\"manifest\"/>\n<meta content=\"app-id=307880732, affiliate-data=at=10lR7C, app-argument=tapatalk://forum.littleone.ru?location=topic&amp;page=3&amp;perpage=10&amp;fid=322&amp;tid=8272742\" name=\"apple-itunes-app\"/>\n<meta content=\"все, день, творожок, как, ели, точно, есть, мне, причине, овощи, уже, было, аллергии, фрукты, аллергия, мес, практически, раз, вдруг, типа, той, отменила, говядину, него, накопленная, была, некуда, каждый, недели, хотя, провоцировало, аллергию, фруктами, просто, кормлений, время, засунуть, отмерила, сколько, каши, проблем, никогда, также, заморочек, давались, без, поэтому, если, прикормы, времени\" name=\"keywords\"/>\n<meta content=\"Всем привет. Моя младшей малышке 8,5 месяцев. Ребёнок с 1,5 мес на ИВ. И по причине моей дурости :( (решила я сменить смесь на более дешёвую! И, практически точно на неё началась аллергия! Отменили практически все питание на всякий случай!!!!) у меня дочка сейчас на очень скудном питании. Едим мы 6 раз в день. Из них 2 раза в день каша на смеси (овсяная и гречневая) и раз в день овощи с нерафинированным маслом (брокколи и цв капуста или кабачок и картошка), остальное смесь.То есть, с момента\" name=\"description\"/>\n<title> Ввод продуктов после аллергии - Страница 3</title>\n<link href=\"showthread.php?t=8272742&amp;page=3\" rel=\"canonical\"/>\n<link href=\"/images/logo_f.gif\" rel=\"image_src\"/>\n<script charset=\"windows-1251\" src=\"https://vkontakte.ru/js/api/share.js?9\" type=\"text/javascript\"></script></head></html>",
     "output_type": "error",
     "traceback": [
      "\u001b[1;31m---------------------------------------------------------------------------\u001b[0m",
      "\u001b[1;31mAssertionError\u001b[0m                            Traceback (most recent call last)",
      "\u001b[1;32m<ipython-input-47-21452f18df96>\u001b[0m in \u001b[0;36m<module>\u001b[1;34m\u001b[0m\n\u001b[1;32m----> 1\u001b[1;33m \u001b[0mget_subsection_msgs\u001b[0m\u001b[1;33m(\u001b[0m\u001b[0msubsection_url\u001b[0m\u001b[1;33m,\u001b[0m \u001b[1;33m**\u001b[0m\u001b[0mdict\u001b[0m\u001b[1;33m(\u001b[0m\u001b[0mtop_n_pages\u001b[0m\u001b[1;33m=\u001b[0m\u001b[1;33m-\u001b[0m\u001b[1;36m1\u001b[0m\u001b[1;33m,\u001b[0m \u001b[0msave_path\u001b[0m\u001b[1;33m=\u001b[0m\u001b[0mdata_path_csv\u001b[0m\u001b[1;33m)\u001b[0m\u001b[1;33m)\u001b[0m\u001b[1;33m\u001b[0m\u001b[1;33m\u001b[0m\u001b[0m\n\u001b[0m",
      "\u001b[1;32m<ipython-input-40-0e111187e36c>\u001b[0m in \u001b[0;36mget_subsection_msgs\u001b[1;34m(subsection_url, **kwargs)\u001b[0m\n\u001b[0;32m      6\u001b[0m         \u001b[0mprint\u001b[0m\u001b[1;33m(\u001b[0m\u001b[1;34m\"parsing topic: \"\u001b[0m\u001b[1;33m,\u001b[0m \u001b[0mtopic\u001b[0m\u001b[1;33m.\u001b[0m\u001b[0mfind\u001b[0m\u001b[1;33m(\u001b[0m\u001b[1;34m'a'\u001b[0m\u001b[1;33m,\u001b[0m \u001b[1;34m'title'\u001b[0m\u001b[1;33m)\u001b[0m\u001b[1;33m.\u001b[0m\u001b[0mtext\u001b[0m\u001b[1;33m)\u001b[0m\u001b[1;33m\u001b[0m\u001b[1;33m\u001b[0m\u001b[0m\n\u001b[0;32m      7\u001b[0m         \u001b[0mhref\u001b[0m \u001b[1;33m=\u001b[0m \u001b[0mtopic\u001b[0m\u001b[1;33m.\u001b[0m\u001b[0mfind\u001b[0m\u001b[1;33m(\u001b[0m\u001b[1;34m'a'\u001b[0m\u001b[1;33m,\u001b[0m \u001b[0mhref\u001b[0m\u001b[1;33m=\u001b[0m\u001b[1;32mTrue\u001b[0m\u001b[1;33m)\u001b[0m\u001b[1;33m.\u001b[0m\u001b[0mattrs\u001b[0m\u001b[1;33m[\u001b[0m\u001b[1;34m'href'\u001b[0m\u001b[1;33m]\u001b[0m\u001b[1;33m\u001b[0m\u001b[1;33m\u001b[0m\u001b[0m\n\u001b[1;32m----> 8\u001b[1;33m         \u001b[0mget_thread_msgs\u001b[0m\u001b[1;33m(\u001b[0m\u001b[1;34m'https://forum.littleone.ru/'\u001b[0m\u001b[1;33m+\u001b[0m\u001b[0mhref\u001b[0m\u001b[1;33m,\u001b[0m \u001b[1;33m**\u001b[0m\u001b[0mkwargs\u001b[0m\u001b[1;33m)\u001b[0m\u001b[1;33m;\u001b[0m\u001b[1;33m\u001b[0m\u001b[1;33m\u001b[0m\u001b[0m\n\u001b[0m\u001b[0;32m      9\u001b[0m     \u001b[0mdriver\u001b[0m\u001b[1;33m.\u001b[0m\u001b[0mclose\u001b[0m\u001b[1;33m(\u001b[0m\u001b[1;33m)\u001b[0m\u001b[1;33m\u001b[0m\u001b[1;33m\u001b[0m\u001b[0m\n",
      "\u001b[1;32m<ipython-input-44-b19394558133>\u001b[0m in \u001b[0;36mget_thread_msgs\u001b[1;34m(thread_url, top_n_pages, save_path, close_page)\u001b[0m\n\u001b[0;32m     34\u001b[0m         \u001b[0mthread_soup\u001b[0m \u001b[1;33m=\u001b[0m \u001b[0mdriver2soup\u001b[0m\u001b[1;33m(\u001b[0m\u001b[0mdriver\u001b[0m\u001b[1;33m)\u001b[0m\u001b[1;33m\u001b[0m\u001b[1;33m\u001b[0m\u001b[0m\n\u001b[0;32m     35\u001b[0m \u001b[1;33m\u001b[0m\u001b[0m\n\u001b[1;32m---> 36\u001b[1;33m         \u001b[0mall_info_from_page\u001b[0m \u001b[1;33m=\u001b[0m \u001b[0mget_all_info_from_page\u001b[0m\u001b[1;33m(\u001b[0m\u001b[0mthread_soup\u001b[0m\u001b[1;33m)\u001b[0m\u001b[1;33m\u001b[0m\u001b[1;33m\u001b[0m\u001b[0m\n\u001b[0m\u001b[0;32m     37\u001b[0m         \u001b[0mresult_df\u001b[0m \u001b[1;33m=\u001b[0m \u001b[0mpd\u001b[0m\u001b[1;33m.\u001b[0m\u001b[0mconcat\u001b[0m\u001b[1;33m(\u001b[0m\u001b[1;33m[\u001b[0m\u001b[0mresult_df\u001b[0m\u001b[1;33m,\u001b[0m \u001b[0mall_info_from_page\u001b[0m\u001b[1;33m]\u001b[0m\u001b[1;33m,\u001b[0m \u001b[0mignore_index\u001b[0m\u001b[1;33m=\u001b[0m\u001b[1;32mTrue\u001b[0m\u001b[1;33m)\u001b[0m\u001b[1;33m\u001b[0m\u001b[1;33m\u001b[0m\u001b[0m\n\u001b[0;32m     38\u001b[0m \u001b[1;33m\u001b[0m\u001b[0m\n",
      "\u001b[1;32m<ipython-input-8-a1402bd58bf2>\u001b[0m in \u001b[0;36mget_all_info_from_page\u001b[1;34m(page_soup, file_path)\u001b[0m\n\u001b[0;32m     94\u001b[0m \u001b[1;33m\u001b[0m\u001b[0m\n\u001b[0;32m     95\u001b[0m \u001b[1;32mdef\u001b[0m \u001b[0mget_all_info_from_page\u001b[0m\u001b[1;33m(\u001b[0m\u001b[0mpage_soup\u001b[0m\u001b[1;33m,\u001b[0m \u001b[0mfile_path\u001b[0m\u001b[1;33m=\u001b[0m\u001b[1;32mNone\u001b[0m\u001b[1;33m)\u001b[0m\u001b[1;33m:\u001b[0m\u001b[1;33m\u001b[0m\u001b[1;33m\u001b[0m\u001b[0m\n\u001b[1;32m---> 96\u001b[1;33m     \u001b[0mposts\u001b[0m \u001b[1;33m=\u001b[0m \u001b[0mget_posts_from_page\u001b[0m\u001b[1;33m(\u001b[0m\u001b[0mpage_soup\u001b[0m\u001b[1;33m)\u001b[0m\u001b[1;33m\u001b[0m\u001b[1;33m\u001b[0m\u001b[0m\n\u001b[0m\u001b[0;32m     97\u001b[0m \u001b[1;33m\u001b[0m\u001b[0m\n\u001b[0;32m     98\u001b[0m     \u001b[0mpage_texts\u001b[0m \u001b[1;33m=\u001b[0m \u001b[1;33m[\u001b[0m\u001b[0mget_post_text\u001b[0m\u001b[1;33m(\u001b[0m\u001b[0mpost\u001b[0m\u001b[1;33m)\u001b[0m \u001b[1;32mfor\u001b[0m \u001b[0mpost\u001b[0m \u001b[1;32min\u001b[0m \u001b[0mposts\u001b[0m\u001b[1;33m]\u001b[0m\u001b[1;33m\u001b[0m\u001b[1;33m\u001b[0m\u001b[0m\n",
      "\u001b[1;32m<ipython-input-5-afa144151415>\u001b[0m in \u001b[0;36mget_posts_from_page\u001b[1;34m(soup)\u001b[0m\n\u001b[0;32m      1\u001b[0m \u001b[1;32mdef\u001b[0m \u001b[0mget_posts_from_page\u001b[0m\u001b[1;33m(\u001b[0m\u001b[0msoup\u001b[0m\u001b[1;33m)\u001b[0m\u001b[1;33m:\u001b[0m\u001b[1;33m\u001b[0m\u001b[1;33m\u001b[0m\u001b[0m\n\u001b[0;32m      2\u001b[0m     \u001b[0mposts_ol\u001b[0m \u001b[1;33m=\u001b[0m \u001b[0msoup\u001b[0m\u001b[1;33m.\u001b[0m\u001b[0mfind\u001b[0m\u001b[1;33m(\u001b[0m\u001b[1;34m'ol'\u001b[0m\u001b[1;33m,\u001b[0m \u001b[1;33m{\u001b[0m\u001b[1;34m'id'\u001b[0m\u001b[1;33m:\u001b[0m \u001b[1;34m'posts'\u001b[0m\u001b[1;33m}\u001b[0m\u001b[1;33m)\u001b[0m\u001b[1;33m\u001b[0m\u001b[1;33m\u001b[0m\u001b[0m\n\u001b[1;32m----> 3\u001b[1;33m     \u001b[1;32massert\u001b[0m \u001b[0mposts_ol\u001b[0m \u001b[1;32mis\u001b[0m \u001b[1;32mnot\u001b[0m \u001b[1;32mNone\u001b[0m\u001b[1;33m,\u001b[0m \u001b[1;34m'Posts not found on page. Soup:\\n{}'\u001b[0m\u001b[1;33m.\u001b[0m\u001b[0mformat\u001b[0m\u001b[1;33m(\u001b[0m\u001b[0msoup\u001b[0m\u001b[1;33m)\u001b[0m\u001b[1;33m\u001b[0m\u001b[1;33m\u001b[0m\u001b[0m\n\u001b[0m\u001b[0;32m      4\u001b[0m     \u001b[1;32mreturn\u001b[0m \u001b[0mposts_ol\u001b[0m\u001b[1;33m.\u001b[0m\u001b[0mfind_all\u001b[0m\u001b[1;33m(\u001b[0m\u001b[1;34m'li'\u001b[0m\u001b[1;33m,\u001b[0m \u001b[1;33m{\u001b[0m\u001b[1;34m'class'\u001b[0m\u001b[1;33m:\u001b[0m \u001b[1;34m'postbitlegacy postbitim postcontainer old'\u001b[0m\u001b[1;33m}\u001b[0m\u001b[1;33m)\u001b[0m\u001b[1;33m\u001b[0m\u001b[1;33m\u001b[0m\u001b[0m\n\u001b[0;32m      5\u001b[0m \u001b[1;33m\u001b[0m\u001b[0m\n",
      "\u001b[1;31mAssertionError\u001b[0m: Posts not found on page. Soup:\n<html dir=\"ltr\" id=\"vbulletin_html\" lang=\"ru\" xmlns=\"http://www.w3.org/1999/xhtml\"><head>\n<meta content=\"text/html; charset=utf-8\" http-equiv=\"Content-Type\"/>\n<meta content=\"https://forum.littleone.ru\" id=\"e_vb_meta_bburl\" name=\"vb_meta_bburl\"/>\n<base href=\"https://forum.littleone.ru/\"/><!--[if IE]></base><![endif]-->\n<meta content=\"vBulletin 4.2.1\" name=\"generator\"/>\n<meta content=\"width=1200\" name=\"viewport\"/>\n<meta content=\"IE=edge\" http-equiv=\"X-UA-Compatible\"/>\n<meta content=\"322\" name=\"forum_id\"/>\n<link href=\"favicon.ico\" rel=\"Shortcut Icon\" type=\"image/x-icon\"/>\n<script type=\"text/javascript\">\n<!--\n\tif (typeof YAHOO === 'undefined') // Load ALL YUI Local\n\t{\n\t\tdocument.write('<script type=\"text/javascript\" src=\"clientscript/yui/yuiloader-dom-event/yuiloader-dom-event.js?v=422\"><\\/script>');\n\t\tdocument.write('<script type=\"text/javascript\" src=\"clientscript/yui/connection/connection-min.js?v=422\"><\\/script>');\n\t\tvar yuipath = 'clientscript/yui';\n\t\tvar yuicombopath = '';\n\t\tvar remoteyui = false;\n\t}\n\telse\t// Load Rest of YUI remotely (where possible)\n\t{\n\t\tvar yuipath = 'clientscript/yui';\n\t\tvar yuicombopath = '';\n\t\tvar remoteyui = true;\n\t\tif (!yuicombopath)\n\t\t{\n\t\t\tdocument.write('<script type=\"text/javascript\" src=\"clientscript/yui/connection/connection-min.js?v=422\"><\\/script>');\n\t\t}\n\t}\n\tvar SESSIONURL = \"\";\n\tvar SECURITYTOKEN = \"guest\";\n\tvar IMGDIR_MISC = \"/images/misc\";\n\tvar IMGDIR_BUTTON = \"/images/buttons\";\n\tvar vb_disable_ajax = parseInt(\"1\", 10);\n\tvar SIMPLEVERSION = \"422\";\n\tvar BBURL = \"https://forum.littleone.ru\";\n\tvar LOGGEDIN = 0 > 0 ? true : false;\n\tvar THIS_SCRIPT = \"showthread\";\n\tvar RELPATH = \"showthread.php?t=8272742&amp;page=3\";\n\tvar PATHS = {\n\t\tforum : \"\",\n\t\tcms   : \"\",\n\t\tblog  : \"\"\n\t};\n\tvar AJAXBASEURL = \"https://forum.littleone.ru/\";//JDrew MOD\n// -->\n</script><script src=\"clientscript/yui/yuiloader-dom-event/yuiloader-dom-event.js?v=422\" type=\"text/javascript\"></script><script src=\"clientscript/yui/connection/connection-min.js?v=422\" type=\"text/javascript\"></script>\n<script src=\"https://forum.littleone.ru/clientscript/vbulletin-core.js?v=422\" type=\"text/javascript\"></script>\n<link href=\"https://forum.littleone.ru/external.php?type=RSS2\" rel=\"alternate\" title=\"Littleone RSS\" type=\"application/rss+xml\"/>\n<link href=\"https://forum.littleone.ru/external.php?type=RSS2&amp;forumids=322\" rel=\"alternate\" title=\"Littleone - Все о питании детей - RSS\" type=\"application/rss+xml\"/>\n<link href=\"clientscript/vbulletin_css/style00021l/main-rollup.css?d=1622549978\" rel=\"stylesheet\" type=\"text/css\"/>\n<!--[if lt IE 8]>\n\t<link rel=\"stylesheet\" type=\"text/css\" href=\"clientscript/vbulletin_css/style00021l/popupmenu-ie.css?d=1622549978\" />\n\t<link rel=\"stylesheet\" type=\"text/css\" href=\"clientscript/vbulletin_css/style00021l/vbulletin-ie.css?d=1622549978\" />\n\t<link rel=\"stylesheet\" type=\"text/css\" href=\"clientscript/vbulletin_css/style00021l/vbulletin-chrome-ie.css?d=1622549978\" />\n\t<link rel=\"stylesheet\" type=\"text/css\" href=\"clientscript/vbulletin_css/style00021l/vbulletin-formcontrols-ie.css?d=1622549978\" />\n\t<link rel=\"stylesheet\" type=\"text/css\" href=\"clientscript/vbulletin_css/style00021l/editor-ie.css?d=1622549978\" />\n\t<![endif]-->\n<!-- App Indexing for Google Search -->\n<link href=\"android-app://com.quoord.tapatalkpro.activity/tapatalk/forum.littleone.ru?location=topic&amp;page=3&amp;perpage=10&amp;fid=322&amp;tid=8272742&amp;channel=google-indexing\" rel=\"alternate\"/>\n<link href=\"ios-app://307880732/tapatalk/forum.littleone.ru?location=topic&amp;page=3&amp;perpage=10&amp;fid=322&amp;tid=8272742&amp;channel=google-indexing\" rel=\"alternate\"/>\n<link href=\"/var/www/forum/htdocs/mobiquo/smartbanner/manifest.json\" rel=\"manifest\"/>\n<meta content=\"app-id=307880732, affiliate-data=at=10lR7C, app-argument=tapatalk://forum.littleone.ru?location=topic&amp;page=3&amp;perpage=10&amp;fid=322&amp;tid=8272742\" name=\"apple-itunes-app\"/>\n<meta content=\"все, день, творожок, как, ели, точно, есть, мне, причине, овощи, уже, было, аллергии, фрукты, аллергия, мес, практически, раз, вдруг, типа, той, отменила, говядину, него, накопленная, была, некуда, каждый, недели, хотя, провоцировало, аллергию, фруктами, просто, кормлений, время, засунуть, отмерила, сколько, каши, проблем, никогда, также, заморочек, давались, без, поэтому, если, прикормы, времени\" name=\"keywords\"/>\n<meta content=\"Всем привет. Моя младшей малышке 8,5 месяцев. Ребёнок с 1,5 мес на ИВ. И по причине моей дурости :( (решила я сменить смесь на более дешёвую! И, практически точно на неё началась аллергия! Отменили практически все питание на всякий случай!!!!) у меня дочка сейчас на очень скудном питании. Едим мы 6 раз в день. Из них 2 раза в день каша на смеси (овсяная и гречневая) и раз в день овощи с нерафинированным маслом (брокколи и цв капуста или кабачок и картошка), остальное смесь.То есть, с момента\" name=\"description\"/>\n<title> Ввод продуктов после аллергии - Страница 3</title>\n<link href=\"showthread.php?t=8272742&amp;page=3\" rel=\"canonical\"/>\n<link href=\"/images/logo_f.gif\" rel=\"image_src\"/>\n<script charset=\"windows-1251\" src=\"https://vkontakte.ru/js/api/share.js?9\" type=\"text/javascript\"></script></head></html>"
     ]
    }
   ],
   "source": [
    "get_subsection_msgs(subsection_url, **dict(top_n_pages=-1, save_path=data_path_csv))"
   ]
  },
  {
   "cell_type": "code",
   "execution_count": 54,
   "metadata": {
    "scrolled": true
   },
   "outputs": [
    {
     "name": "stderr",
     "output_type": "stream",
     "text": [
      "\r",
      "  0%|                                                                                            | 0/3 [00:00<?, ?it/s]"
     ]
    },
    {
     "name": "stdout",
     "output_type": "stream",
     "text": [
      "Thread num: 8272742\n",
      "top_n_pages = -1, so will scrap all pages\n",
      "found pages 3\n"
     ]
    },
    {
     "name": "stderr",
     "output_type": "stream",
     "text": [
      "100%|████████████████████████████████████████████████████████████████████████████████████| 3/3 [00:01<00:00,  1.81it/s]\n"
     ]
    },
    {
     "data": {
      "text/html": [
       "<div>\n",
       "<style scoped>\n",
       "    .dataframe tbody tr th:only-of-type {\n",
       "        vertical-align: middle;\n",
       "    }\n",
       "\n",
       "    .dataframe tbody tr th {\n",
       "        vertical-align: top;\n",
       "    }\n",
       "\n",
       "    .dataframe thead th {\n",
       "        text-align: right;\n",
       "    }\n",
       "</style>\n",
       "<table border=\"1\" class=\"dataframe\">\n",
       "  <thead>\n",
       "    <tr style=\"text-align: right;\">\n",
       "      <th></th>\n",
       "      <th>post_text</th>\n",
       "      <th>user_title</th>\n",
       "      <th>user_name</th>\n",
       "      <th>user_link</th>\n",
       "      <th>Регистрация</th>\n",
       "      <th>Сообщений</th>\n",
       "      <th>guest</th>\n",
       "      <th>Адрес</th>\n",
       "      <th>post_datetime</th>\n",
       "      <th>answer_to_user</th>\n",
       "      <th>answer_to_post_head</th>\n",
       "      <th>answer_to_user_link</th>\n",
       "      <th>answer_to_post_link</th>\n",
       "    </tr>\n",
       "  </thead>\n",
       "  <tbody>\n",
       "    <tr>\n",
       "      <th>0</th>\n",
       "      <td>\\n\\t\\t\\t\\t\\t\\t\\tВсем привет. Моя младшей малыш...</td>\n",
       "      <td>\\n\\t\\t\\t\\tс Луны\\n\\t\\t\\t</td>\n",
       "      <td>-АпЕлЬсИнКа-</td>\n",
       "      <td>https://forum.littleone.ru/member.php?u=47470&amp;...</td>\n",
       "      <td>24.09.2007</td>\n",
       "      <td>32183</td>\n",
       "      <td>False</td>\n",
       "      <td>NaN</td>\n",
       "      <td>2019-01-22 02:36:00</td>\n",
       "      <td>NaN</td>\n",
       "      <td>NaN</td>\n",
       "      <td>NaN</td>\n",
       "      <td>NaN</td>\n",
       "    </tr>\n",
       "    <tr>\n",
       "      <th>1</th>\n",
       "      <td>\\n\\t\\t\\t\\t\\t\\t\\tа врач то что говорит?\\nобычно...</td>\n",
       "      <td>\\n\\t\\t\\t\\tНаш человек\\n\\t\\t\\t</td>\n",
       "      <td>Мамулечка троих</td>\n",
       "      <td>https://forum.littleone.ru/member.php?u=842298...</td>\n",
       "      <td>02.04.2018</td>\n",
       "      <td>5041</td>\n",
       "      <td>False</td>\n",
       "      <td>NaN</td>\n",
       "      <td>2019-01-22 09:19:00</td>\n",
       "      <td>-АпЕлЬсИнКа-</td>\n",
       "      <td>Ввод продуктов после аллергии</td>\n",
       "      <td>https://forum.littleone.ru/member.php?userid=4...</td>\n",
       "      <td>https://forum.littleone.ru/showthread.php?p=16...</td>\n",
       "    </tr>\n",
       "    <tr>\n",
       "      <th>2</th>\n",
       "      <td>\\n\\n\\n\\n\\n\\n Сообщение от -АпЕлЬсИнКа-\\n\\n\\nВс...</td>\n",
       "      <td>\\n\\t\\t\\t\\tКосмонавт\\n\\t\\t\\t</td>\n",
       "      <td>Tatta1</td>\n",
       "      <td>https://forum.littleone.ru/member.php?u=501565...</td>\n",
       "      <td>15.02.2012</td>\n",
       "      <td>20873</td>\n",
       "      <td>False</td>\n",
       "      <td>Красногвардейский  р-н</td>\n",
       "      <td>2019-01-22 10:08:00</td>\n",
       "      <td>-АпЕлЬсИнКа-</td>\n",
       "      <td>Ввод продуктов после аллергии</td>\n",
       "      <td>https://forum.littleone.ru/member.php?userid=4...</td>\n",
       "      <td>https://forum.littleone.ru/showthread.php?p=16...</td>\n",
       "    </tr>\n",
       "    <tr>\n",
       "      <th>3</th>\n",
       "      <td>\\n\\n\\n\\n\\n\\n Сообщение от Мамулечка троих\\n\\n\\...</td>\n",
       "      <td>\\n\\t\\t\\t\\tс Луны\\n\\t\\t\\t</td>\n",
       "      <td>-АпЕлЬсИнКа-</td>\n",
       "      <td>https://forum.littleone.ru/member.php?u=47470&amp;...</td>\n",
       "      <td>24.09.2007</td>\n",
       "      <td>32183</td>\n",
       "      <td>False</td>\n",
       "      <td>NaN</td>\n",
       "      <td>2019-01-22 12:52:00</td>\n",
       "      <td>Tatta1</td>\n",
       "      <td>Приветик!  \\nЕсли кожа очистилась и в...</td>\n",
       "      <td>https://forum.littleone.ru/member.php?userid=5...</td>\n",
       "      <td>https://forum.littleone.ru/showthread.php?p=16...</td>\n",
       "    </tr>\n",
       "    <tr>\n",
       "      <th>4</th>\n",
       "      <td>\\n\\n\\n\\n\\n\\n Сообщение от -АпЕлЬсИнКа-\\n\\n\\nВр...</td>\n",
       "      <td>\\n\\t\\t\\t\\tКосмонавт\\n\\t\\t\\t</td>\n",
       "      <td>Tatta1</td>\n",
       "      <td>https://forum.littleone.ru/member.php?u=501565...</td>\n",
       "      <td>15.02.2012</td>\n",
       "      <td>20873</td>\n",
       "      <td>False</td>\n",
       "      <td>Красногвардейский  р-н</td>\n",
       "      <td>2019-01-22 13:30:00</td>\n",
       "      <td>-АпЕлЬсИнКа-</td>\n",
       "      <td>Врачу неудобно писать и спрашивать... И...</td>\n",
       "      <td>https://forum.littleone.ru/member.php?userid=4...</td>\n",
       "      <td>https://forum.littleone.ru/showthread.php?p=16...</td>\n",
       "    </tr>\n",
       "    <tr>\n",
       "      <th>5</th>\n",
       "      <td>\\n\\n\\n\\n\\n\\n Сообщение от Tatta1\\n\\n\\nДа, если...</td>\n",
       "      <td>\\n\\t\\t\\t\\tс Луны\\n\\t\\t\\t</td>\n",
       "      <td>-АпЕлЬсИнКа-</td>\n",
       "      <td>https://forum.littleone.ru/member.php?u=47470&amp;...</td>\n",
       "      <td>24.09.2007</td>\n",
       "      <td>32183</td>\n",
       "      <td>False</td>\n",
       "      <td>NaN</td>\n",
       "      <td>2019-01-22 15:35:00</td>\n",
       "      <td>Tatta1</td>\n",
       "      <td>Да, если была аллергия, то примерно 2...</td>\n",
       "      <td>https://forum.littleone.ru/member.php?userid=5...</td>\n",
       "      <td>https://forum.littleone.ru/showthread.php?p=16...</td>\n",
       "    </tr>\n",
       "    <tr>\n",
       "      <th>6</th>\n",
       "      <td>\\n\\t\\t\\t\\t\\t\\t\\tпримерно так. главное, чтобы п...</td>\n",
       "      <td>\\n\\t\\t\\t\\tНаш человек\\n\\t\\t\\t</td>\n",
       "      <td>Мамулечка троих</td>\n",
       "      <td>https://forum.littleone.ru/member.php?u=842298...</td>\n",
       "      <td>02.04.2018</td>\n",
       "      <td>5041</td>\n",
       "      <td>False</td>\n",
       "      <td>NaN</td>\n",
       "      <td>2019-01-22 15:46:00</td>\n",
       "      <td>-АпЕлЬсИнКа-</td>\n",
       "      <td>Врачу неудобно писать и спрашивать... И...</td>\n",
       "      <td>https://forum.littleone.ru/member.php?userid=4...</td>\n",
       "      <td>https://forum.littleone.ru/showthread.php?p=16...</td>\n",
       "    </tr>\n",
       "    <tr>\n",
       "      <th>7</th>\n",
       "      <td>\\n\\n\\n\\n\\n\\n Сообщение от Мамулечка троих\\n\\n\\...</td>\n",
       "      <td>\\n\\t\\t\\t\\tс Луны\\n\\t\\t\\t</td>\n",
       "      <td>-АпЕлЬсИнКа-</td>\n",
       "      <td>https://forum.littleone.ru/member.php?u=47470&amp;...</td>\n",
       "      <td>24.09.2007</td>\n",
       "      <td>32183</td>\n",
       "      <td>False</td>\n",
       "      <td>NaN</td>\n",
       "      <td>2019-01-22 21:25:00</td>\n",
       "      <td>Мамулечка троих</td>\n",
       "      <td>примерно так. главное, чтобы потом не...</td>\n",
       "      <td>https://forum.littleone.ru/member.php?userid=8...</td>\n",
       "      <td>https://forum.littleone.ru/showthread.php?p=16...</td>\n",
       "    </tr>\n",
       "    <tr>\n",
       "      <th>8</th>\n",
       "      <td>\\n\\t\\t\\t\\t\\t\\t\\tНа витамин Д часто бывает алле...</td>\n",
       "      <td>\\n\\t\\t\\t\\tМега-элита\\n\\t\\t\\t</td>\n",
       "      <td>Наталинка</td>\n",
       "      <td>https://forum.littleone.ru/member.php?u=715117...</td>\n",
       "      <td>16.11.2014</td>\n",
       "      <td>4890</td>\n",
       "      <td>False</td>\n",
       "      <td>Приморский</td>\n",
       "      <td>2019-01-22 22:34:00</td>\n",
       "      <td>-АпЕлЬсИнКа-</td>\n",
       "      <td>Ввод продуктов после аллергии</td>\n",
       "      <td>https://forum.littleone.ru/member.php?userid=4...</td>\n",
       "      <td>https://forum.littleone.ru/showthread.php?p=16...</td>\n",
       "    </tr>\n",
       "    <tr>\n",
       "      <th>9</th>\n",
       "      <td>\\n\\n\\n\\n\\n\\n Сообщение от Наталинка\\n\\n\\nНа ви...</td>\n",
       "      <td>\\n\\t\\t\\t\\tс Луны\\n\\t\\t\\t</td>\n",
       "      <td>-АпЕлЬсИнКа-</td>\n",
       "      <td>https://forum.littleone.ru/member.php?u=47470&amp;...</td>\n",
       "      <td>24.09.2007</td>\n",
       "      <td>32183</td>\n",
       "      <td>False</td>\n",
       "      <td>NaN</td>\n",
       "      <td>2019-01-23 00:15:00</td>\n",
       "      <td>Наталинка</td>\n",
       "      <td>На витамин Д часто бывает аллергия,...</td>\n",
       "      <td>https://forum.littleone.ru/member.php?userid=7...</td>\n",
       "      <td>https://forum.littleone.ru/showthread.php?p=16...</td>\n",
       "    </tr>\n",
       "    <tr>\n",
       "      <th>10</th>\n",
       "      <td>\\n\\t\\t\\t\\t\\t\\t\\tда, с детскими аллергиями все ...</td>\n",
       "      <td>\\n\\t\\t\\t\\tНаш человек\\n\\t\\t\\t</td>\n",
       "      <td>Мамулечка троих</td>\n",
       "      <td>https://forum.littleone.ru/member.php?u=842298</td>\n",
       "      <td>02.04.2018</td>\n",
       "      <td>5041</td>\n",
       "      <td>False</td>\n",
       "      <td>NaN</td>\n",
       "      <td>2019-01-23 08:29:00</td>\n",
       "      <td>-АпЕлЬсИнКа-</td>\n",
       "      <td>Спасибо! Надеюсь все же, что аллергеном...</td>\n",
       "      <td>https://forum.littleone.ru/member.php?userid=4...</td>\n",
       "      <td>https://forum.littleone.ru/showthread.php?p=16...</td>\n",
       "    </tr>\n",
       "    <tr>\n",
       "      <th>11</th>\n",
       "      <td>\\n\\n\\n\\n\\n\\n Сообщение от Мамулечка троих\\n\\n\\...</td>\n",
       "      <td>\\n\\t\\t\\t\\tс Луны\\n\\t\\t\\t</td>\n",
       "      <td>-АпЕлЬсИнКа-</td>\n",
       "      <td>https://forum.littleone.ru/member.php?u=47470</td>\n",
       "      <td>24.09.2007</td>\n",
       "      <td>32183</td>\n",
       "      <td>False</td>\n",
       "      <td>NaN</td>\n",
       "      <td>2019-01-23 13:12:00</td>\n",
       "      <td>Мамулечка троих</td>\n",
       "      <td>да, с детскими аллергиями все сложно....</td>\n",
       "      <td>https://forum.littleone.ru/member.php?userid=8...</td>\n",
       "      <td>https://forum.littleone.ru/showthread.php?p=16...</td>\n",
       "    </tr>\n",
       "    <tr>\n",
       "      <th>12</th>\n",
       "      <td>\\n\\t\\t\\t\\t\\t\\t\\tДевочки, привет! Индейку мы ус...</td>\n",
       "      <td>\\n\\t\\t\\t\\tс Луны\\n\\t\\t\\t</td>\n",
       "      <td>-АпЕлЬсИнКа-</td>\n",
       "      <td>https://forum.littleone.ru/member.php?u=47470</td>\n",
       "      <td>24.09.2007</td>\n",
       "      <td>32183</td>\n",
       "      <td>False</td>\n",
       "      <td>NaN</td>\n",
       "      <td>2019-02-06 01:59:00</td>\n",
       "      <td>-АпЕлЬсИнКа-</td>\n",
       "      <td>Ввод продуктов после аллергии</td>\n",
       "      <td>https://forum.littleone.ru/member.php?userid=4...</td>\n",
       "      <td>https://forum.littleone.ru/showthread.php?p=16...</td>\n",
       "    </tr>\n",
       "    <tr>\n",
       "      <th>13</th>\n",
       "      <td>\\n\\t\\t\\t\\t\\t\\t\\tйогурты/биолакты с 8 месяцев т...</td>\n",
       "      <td>\\n\\t\\t\\t\\tНаш человек\\n\\t\\t\\t</td>\n",
       "      <td>Мамулечка троих</td>\n",
       "      <td>https://forum.littleone.ru/member.php?u=842298</td>\n",
       "      <td>02.04.2018</td>\n",
       "      <td>5041</td>\n",
       "      <td>False</td>\n",
       "      <td>NaN</td>\n",
       "      <td>2019-02-06 08:21:00</td>\n",
       "      <td>-АпЕлЬсИнКа-</td>\n",
       "      <td>Девочки, привет! Индейку мы успешно...</td>\n",
       "      <td>https://forum.littleone.ru/member.php?userid=4...</td>\n",
       "      <td>https://forum.littleone.ru/showthread.php?p=16...</td>\n",
       "    </tr>\n",
       "    <tr>\n",
       "      <th>14</th>\n",
       "      <td>\\n\\n\\n\\n\\n\\n Сообщение от Мамулечка троих\\n\\n\\...</td>\n",
       "      <td>\\n\\t\\t\\t\\tс Луны\\n\\t\\t\\t</td>\n",
       "      <td>-АпЕлЬсИнКа-</td>\n",
       "      <td>https://forum.littleone.ru/member.php?u=47470</td>\n",
       "      <td>24.09.2007</td>\n",
       "      <td>32183</td>\n",
       "      <td>False</td>\n",
       "      <td>NaN</td>\n",
       "      <td>2019-02-06 13:50:00</td>\n",
       "      <td>Мамулечка троих</td>\n",
       "      <td>йогурты/биолакты с 8 месяцев...</td>\n",
       "      <td>https://forum.littleone.ru/member.php?userid=8...</td>\n",
       "      <td>https://forum.littleone.ru/showthread.php?p=16...</td>\n",
       "    </tr>\n",
       "    <tr>\n",
       "      <th>15</th>\n",
       "      <td>\\n\\n\\n\\n\\n\\n Сообщение от -АпЕлЬсИнКа-\\n\\n\\nА ...</td>\n",
       "      <td>\\n\\t\\t\\t\\tНаш человек\\n\\t\\t\\t</td>\n",
       "      <td>Мамулечка троих</td>\n",
       "      <td>https://forum.littleone.ru/member.php?u=842298</td>\n",
       "      <td>02.04.2018</td>\n",
       "      <td>5041</td>\n",
       "      <td>False</td>\n",
       "      <td>NaN</td>\n",
       "      <td>2019-02-06 14:29:00</td>\n",
       "      <td>-АпЕлЬсИнКа-</td>\n",
       "      <td>А зачем вводить печенье? И добавлять...</td>\n",
       "      <td>https://forum.littleone.ru/member.php?userid=4...</td>\n",
       "      <td>https://forum.littleone.ru/showthread.php?p=16...</td>\n",
       "    </tr>\n",
       "    <tr>\n",
       "      <th>16</th>\n",
       "      <td>\\n\\n\\n\\n\\n\\n Сообщение от Мамулечка троих\\n\\n\\...</td>\n",
       "      <td>\\n\\t\\t\\t\\tс Луны\\n\\t\\t\\t</td>\n",
       "      <td>-АпЕлЬсИнКа-</td>\n",
       "      <td>https://forum.littleone.ru/member.php?u=47470</td>\n",
       "      <td>24.09.2007</td>\n",
       "      <td>32183</td>\n",
       "      <td>False</td>\n",
       "      <td>NaN</td>\n",
       "      <td>2019-02-10 23:04:00</td>\n",
       "      <td>Мамулечка троих</td>\n",
       "      <td>макароны я блендером в пюре, варю их...</td>\n",
       "      <td>https://forum.littleone.ru/member.php?userid=8...</td>\n",
       "      <td>https://forum.littleone.ru/showthread.php?p=16...</td>\n",
       "    </tr>\n",
       "    <tr>\n",
       "      <th>17</th>\n",
       "      <td>\\n\\t\\t\\t\\t\\t\\t\\tУ нас тоже на яйца аллергия, п...</td>\n",
       "      <td>\\n\\t\\t\\t\\tЧастый гость\\n\\t\\t\\t</td>\n",
       "      <td>SurbanaJulia</td>\n",
       "      <td>https://forum.littleone.ru/member.php?u=855723</td>\n",
       "      <td>20.02.2019</td>\n",
       "      <td>62</td>\n",
       "      <td>False</td>\n",
       "      <td>NaN</td>\n",
       "      <td>2019-05-21 16:11:00</td>\n",
       "      <td>-АпЕлЬсИнКа-</td>\n",
       "      <td>Ввод продуктов после аллергии</td>\n",
       "      <td>https://forum.littleone.ru/member.php?userid=4...</td>\n",
       "      <td>https://forum.littleone.ru/showthread.php?p=16...</td>\n",
       "    </tr>\n",
       "    <tr>\n",
       "      <th>18</th>\n",
       "      <td>\\n\\t\\t\\t\\t\\t\\t\\tпочему?\\nвозьмут. омлет или ва...</td>\n",
       "      <td>\\n\\t\\t\\t\\tНаш человек\\n\\t\\t\\t</td>\n",
       "      <td>Мамулечка троих</td>\n",
       "      <td>https://forum.littleone.ru/member.php?u=842298</td>\n",
       "      <td>02.04.2018</td>\n",
       "      <td>5041</td>\n",
       "      <td>False</td>\n",
       "      <td>NaN</td>\n",
       "      <td>2019-05-21 20:05:00</td>\n",
       "      <td>SurbanaJulia</td>\n",
       "      <td>У нас тоже на яйца аллергия,...</td>\n",
       "      <td>https://forum.littleone.ru/member.php?userid=8...</td>\n",
       "      <td>https://forum.littleone.ru/showthread.php?p=16...</td>\n",
       "    </tr>\n",
       "    <tr>\n",
       "      <th>19</th>\n",
       "      <td>\\n\\t\\t\\t\\t\\t\\t\\tМы кетотифен пьем, но он ведь ...</td>\n",
       "      <td>\\n\\t\\t\\t\\tЧастый гость\\n\\t\\t\\t</td>\n",
       "      <td>SurbanaJulia</td>\n",
       "      <td>https://forum.littleone.ru/member.php?u=855723</td>\n",
       "      <td>20.02.2019</td>\n",
       "      <td>62</td>\n",
       "      <td>False</td>\n",
       "      <td>NaN</td>\n",
       "      <td>2019-05-23 17:09:00</td>\n",
       "      <td>SurbanaJulia</td>\n",
       "      <td>У нас тоже на яйца аллергия,...</td>\n",
       "      <td>https://forum.littleone.ru/member.php?userid=8...</td>\n",
       "      <td>https://forum.littleone.ru/showthread.php?p=16...</td>\n",
       "    </tr>\n",
       "    <tr>\n",
       "      <th>20</th>\n",
       "      <td>\\n\\t\\t\\t\\t\\t\\t\\tДевочки, на счет кромоглициево...</td>\n",
       "      <td>\\n\\t\\t\\t\\tГость\\n\\t\\t\\t</td>\n",
       "      <td>КатюшкаЛит</td>\n",
       "      <td>https://forum.littleone.ru/member.php?u=851639</td>\n",
       "      <td>07.11.2018</td>\n",
       "      <td>22</td>\n",
       "      <td>False</td>\n",
       "      <td>NaN</td>\n",
       "      <td>2019-05-24 08:50:00</td>\n",
       "      <td>-АпЕлЬсИнКа-</td>\n",
       "      <td>Ввод продуктов после аллергии</td>\n",
       "      <td>https://forum.littleone.ru/member.php?userid=4...</td>\n",
       "      <td>https://forum.littleone.ru/showthread.php?p=16...</td>\n",
       "    </tr>\n",
       "    <tr>\n",
       "      <th>21</th>\n",
       "      <td>\\n\\t\\t\\t\\t\\t\\t\\tВводите по одному в неделю и с...</td>\n",
       "      <td>\\n\\t\\t\\t\\tBanned\\n\\t\\t\\t</td>\n",
       "      <td>чтожетутписать</td>\n",
       "      <td>https://forum.littleone.ru/member.php?u=868174</td>\n",
       "      <td>12.03.2020</td>\n",
       "      <td>6</td>\n",
       "      <td>False</td>\n",
       "      <td>NaN</td>\n",
       "      <td>2020-03-28 17:50:00</td>\n",
       "      <td>-АпЕлЬсИнКа-</td>\n",
       "      <td>Ввод продуктов после аллергии</td>\n",
       "      <td>https://forum.littleone.ru/member.php?userid=4...</td>\n",
       "      <td>https://forum.littleone.ru/showthread.php?p=16...</td>\n",
       "    </tr>\n",
       "    <tr>\n",
       "      <th>22</th>\n",
       "      <td>\\n\\t\\t\\t\\t\\t\\t\\tа где взять ее?\\n\\t\\t\\t\\t\\t\\t</td>\n",
       "      <td>\\n\\t\\t\\t\\tBanned\\n\\t\\t\\t</td>\n",
       "      <td>чтожетутписать</td>\n",
       "      <td>https://forum.littleone.ru/member.php?u=868174</td>\n",
       "      <td>12.03.2020</td>\n",
       "      <td>6</td>\n",
       "      <td>False</td>\n",
       "      <td>NaN</td>\n",
       "      <td>2020-03-28 17:50:00</td>\n",
       "      <td>КатюшкаЛит</td>\n",
       "      <td>Девочки, на счет кромоглициевой...</td>\n",
       "      <td>https://forum.littleone.ru/member.php?userid=8...</td>\n",
       "      <td>https://forum.littleone.ru/showthread.php?p=16...</td>\n",
       "    </tr>\n",
       "  </tbody>\n",
       "</table>\n",
       "</div>"
      ],
      "text/plain": [
       "                                            post_text  \\\n",
       "0   \\n\\t\\t\\t\\t\\t\\t\\tВсем привет. Моя младшей малыш...   \n",
       "1   \\n\\t\\t\\t\\t\\t\\t\\tа врач то что говорит?\\nобычно...   \n",
       "2   \\n\\n\\n\\n\\n\\n Сообщение от -АпЕлЬсИнКа-\\n\\n\\nВс...   \n",
       "3   \\n\\n\\n\\n\\n\\n Сообщение от Мамулечка троих\\n\\n\\...   \n",
       "4   \\n\\n\\n\\n\\n\\n Сообщение от -АпЕлЬсИнКа-\\n\\n\\nВр...   \n",
       "5   \\n\\n\\n\\n\\n\\n Сообщение от Tatta1\\n\\n\\nДа, если...   \n",
       "6   \\n\\t\\t\\t\\t\\t\\t\\tпримерно так. главное, чтобы п...   \n",
       "7   \\n\\n\\n\\n\\n\\n Сообщение от Мамулечка троих\\n\\n\\...   \n",
       "8   \\n\\t\\t\\t\\t\\t\\t\\tНа витамин Д часто бывает алле...   \n",
       "9   \\n\\n\\n\\n\\n\\n Сообщение от Наталинка\\n\\n\\nНа ви...   \n",
       "10  \\n\\t\\t\\t\\t\\t\\t\\tда, с детскими аллергиями все ...   \n",
       "11  \\n\\n\\n\\n\\n\\n Сообщение от Мамулечка троих\\n\\n\\...   \n",
       "12  \\n\\t\\t\\t\\t\\t\\t\\tДевочки, привет! Индейку мы ус...   \n",
       "13  \\n\\t\\t\\t\\t\\t\\t\\tйогурты/биолакты с 8 месяцев т...   \n",
       "14  \\n\\n\\n\\n\\n\\n Сообщение от Мамулечка троих\\n\\n\\...   \n",
       "15  \\n\\n\\n\\n\\n\\n Сообщение от -АпЕлЬсИнКа-\\n\\n\\nА ...   \n",
       "16  \\n\\n\\n\\n\\n\\n Сообщение от Мамулечка троих\\n\\n\\...   \n",
       "17  \\n\\t\\t\\t\\t\\t\\t\\tУ нас тоже на яйца аллергия, п...   \n",
       "18  \\n\\t\\t\\t\\t\\t\\t\\tпочему?\\nвозьмут. омлет или ва...   \n",
       "19  \\n\\t\\t\\t\\t\\t\\t\\tМы кетотифен пьем, но он ведь ...   \n",
       "20  \\n\\t\\t\\t\\t\\t\\t\\tДевочки, на счет кромоглициево...   \n",
       "21  \\n\\t\\t\\t\\t\\t\\t\\tВводите по одному в неделю и с...   \n",
       "22      \\n\\t\\t\\t\\t\\t\\t\\tа где взять ее?\\n\\t\\t\\t\\t\\t\\t   \n",
       "\n",
       "                        user_title        user_name  \\\n",
       "0         \\n\\t\\t\\t\\tс Луны\\n\\t\\t\\t     -АпЕлЬсИнКа-   \n",
       "1    \\n\\t\\t\\t\\tНаш человек\\n\\t\\t\\t  Мамулечка троих   \n",
       "2      \\n\\t\\t\\t\\tКосмонавт\\n\\t\\t\\t           Tatta1   \n",
       "3         \\n\\t\\t\\t\\tс Луны\\n\\t\\t\\t     -АпЕлЬсИнКа-   \n",
       "4      \\n\\t\\t\\t\\tКосмонавт\\n\\t\\t\\t           Tatta1   \n",
       "5         \\n\\t\\t\\t\\tс Луны\\n\\t\\t\\t     -АпЕлЬсИнКа-   \n",
       "6    \\n\\t\\t\\t\\tНаш человек\\n\\t\\t\\t  Мамулечка троих   \n",
       "7         \\n\\t\\t\\t\\tс Луны\\n\\t\\t\\t     -АпЕлЬсИнКа-   \n",
       "8     \\n\\t\\t\\t\\tМега-элита\\n\\t\\t\\t        Наталинка   \n",
       "9         \\n\\t\\t\\t\\tс Луны\\n\\t\\t\\t     -АпЕлЬсИнКа-   \n",
       "10   \\n\\t\\t\\t\\tНаш человек\\n\\t\\t\\t  Мамулечка троих   \n",
       "11        \\n\\t\\t\\t\\tс Луны\\n\\t\\t\\t     -АпЕлЬсИнКа-   \n",
       "12        \\n\\t\\t\\t\\tс Луны\\n\\t\\t\\t     -АпЕлЬсИнКа-   \n",
       "13   \\n\\t\\t\\t\\tНаш человек\\n\\t\\t\\t  Мамулечка троих   \n",
       "14        \\n\\t\\t\\t\\tс Луны\\n\\t\\t\\t     -АпЕлЬсИнКа-   \n",
       "15   \\n\\t\\t\\t\\tНаш человек\\n\\t\\t\\t  Мамулечка троих   \n",
       "16        \\n\\t\\t\\t\\tс Луны\\n\\t\\t\\t     -АпЕлЬсИнКа-   \n",
       "17  \\n\\t\\t\\t\\tЧастый гость\\n\\t\\t\\t     SurbanaJulia   \n",
       "18   \\n\\t\\t\\t\\tНаш человек\\n\\t\\t\\t  Мамулечка троих   \n",
       "19  \\n\\t\\t\\t\\tЧастый гость\\n\\t\\t\\t     SurbanaJulia   \n",
       "20         \\n\\t\\t\\t\\tГость\\n\\t\\t\\t       КатюшкаЛит   \n",
       "21        \\n\\t\\t\\t\\tBanned\\n\\t\\t\\t   чтожетутписать   \n",
       "22        \\n\\t\\t\\t\\tBanned\\n\\t\\t\\t   чтожетутписать   \n",
       "\n",
       "                                            user_link Регистрация Сообщений  \\\n",
       "0   https://forum.littleone.ru/member.php?u=47470&...  24.09.2007     32183   \n",
       "1   https://forum.littleone.ru/member.php?u=842298...  02.04.2018      5041   \n",
       "2   https://forum.littleone.ru/member.php?u=501565...  15.02.2012     20873   \n",
       "3   https://forum.littleone.ru/member.php?u=47470&...  24.09.2007     32183   \n",
       "4   https://forum.littleone.ru/member.php?u=501565...  15.02.2012     20873   \n",
       "5   https://forum.littleone.ru/member.php?u=47470&...  24.09.2007     32183   \n",
       "6   https://forum.littleone.ru/member.php?u=842298...  02.04.2018      5041   \n",
       "7   https://forum.littleone.ru/member.php?u=47470&...  24.09.2007     32183   \n",
       "8   https://forum.littleone.ru/member.php?u=715117...  16.11.2014      4890   \n",
       "9   https://forum.littleone.ru/member.php?u=47470&...  24.09.2007     32183   \n",
       "10     https://forum.littleone.ru/member.php?u=842298  02.04.2018      5041   \n",
       "11      https://forum.littleone.ru/member.php?u=47470  24.09.2007     32183   \n",
       "12      https://forum.littleone.ru/member.php?u=47470  24.09.2007     32183   \n",
       "13     https://forum.littleone.ru/member.php?u=842298  02.04.2018      5041   \n",
       "14      https://forum.littleone.ru/member.php?u=47470  24.09.2007     32183   \n",
       "15     https://forum.littleone.ru/member.php?u=842298  02.04.2018      5041   \n",
       "16      https://forum.littleone.ru/member.php?u=47470  24.09.2007     32183   \n",
       "17     https://forum.littleone.ru/member.php?u=855723  20.02.2019        62   \n",
       "18     https://forum.littleone.ru/member.php?u=842298  02.04.2018      5041   \n",
       "19     https://forum.littleone.ru/member.php?u=855723  20.02.2019        62   \n",
       "20     https://forum.littleone.ru/member.php?u=851639  07.11.2018        22   \n",
       "21     https://forum.littleone.ru/member.php?u=868174  12.03.2020         6   \n",
       "22     https://forum.littleone.ru/member.php?u=868174  12.03.2020         6   \n",
       "\n",
       "    guest                   Адрес       post_datetime   answer_to_user  \\\n",
       "0   False                     NaN 2019-01-22 02:36:00              NaN   \n",
       "1   False                     NaN 2019-01-22 09:19:00     -АпЕлЬсИнКа-   \n",
       "2   False  Красногвардейский  р-н 2019-01-22 10:08:00     -АпЕлЬсИнКа-   \n",
       "3   False                     NaN 2019-01-22 12:52:00           Tatta1   \n",
       "4   False  Красногвардейский  р-н 2019-01-22 13:30:00     -АпЕлЬсИнКа-   \n",
       "5   False                     NaN 2019-01-22 15:35:00           Tatta1   \n",
       "6   False                     NaN 2019-01-22 15:46:00     -АпЕлЬсИнКа-   \n",
       "7   False                     NaN 2019-01-22 21:25:00  Мамулечка троих   \n",
       "8   False              Приморский 2019-01-22 22:34:00     -АпЕлЬсИнКа-   \n",
       "9   False                     NaN 2019-01-23 00:15:00        Наталинка   \n",
       "10  False                     NaN 2019-01-23 08:29:00     -АпЕлЬсИнКа-   \n",
       "11  False                     NaN 2019-01-23 13:12:00  Мамулечка троих   \n",
       "12  False                     NaN 2019-02-06 01:59:00     -АпЕлЬсИнКа-   \n",
       "13  False                     NaN 2019-02-06 08:21:00     -АпЕлЬсИнКа-   \n",
       "14  False                     NaN 2019-02-06 13:50:00  Мамулечка троих   \n",
       "15  False                     NaN 2019-02-06 14:29:00     -АпЕлЬсИнКа-   \n",
       "16  False                     NaN 2019-02-10 23:04:00  Мамулечка троих   \n",
       "17  False                     NaN 2019-05-21 16:11:00     -АпЕлЬсИнКа-   \n",
       "18  False                     NaN 2019-05-21 20:05:00     SurbanaJulia   \n",
       "19  False                     NaN 2019-05-23 17:09:00     SurbanaJulia   \n",
       "20  False                     NaN 2019-05-24 08:50:00     -АпЕлЬсИнКа-   \n",
       "21  False                     NaN 2020-03-28 17:50:00     -АпЕлЬсИнКа-   \n",
       "22  False                     NaN 2020-03-28 17:50:00       КатюшкаЛит   \n",
       "\n",
       "                           answer_to_post_head  \\\n",
       "0                                          NaN   \n",
       "1                Ввод продуктов после аллергии   \n",
       "2                Ввод продуктов после аллергии   \n",
       "3     Приветик!  \\nЕсли кожа очистилась и в...   \n",
       "4   Врачу неудобно писать и спрашивать... И...   \n",
       "5     Да, если была аллергия, то примерно 2...   \n",
       "6   Врачу неудобно писать и спрашивать... И...   \n",
       "7     примерно так. главное, чтобы потом не...   \n",
       "8                Ввод продуктов после аллергии   \n",
       "9       На витамин Д часто бывает аллергия,...   \n",
       "10  Спасибо! Надеюсь все же, что аллергеном...   \n",
       "11    да, с детскими аллергиями все сложно....   \n",
       "12               Ввод продуктов после аллергии   \n",
       "13      Девочки, привет! Индейку мы успешно...   \n",
       "14             йогурты/биолакты с 8 месяцев...   \n",
       "15     А зачем вводить печенье? И добавлять...   \n",
       "16     макароны я блендером в пюре, варю их...   \n",
       "17               Ввод продуктов после аллергии   \n",
       "18             У нас тоже на яйца аллергия,...   \n",
       "19             У нас тоже на яйца аллергия,...   \n",
       "20               Ввод продуктов после аллергии   \n",
       "21               Ввод продуктов после аллергии   \n",
       "22          Девочки, на счет кромоглициевой...   \n",
       "\n",
       "                                  answer_to_user_link  \\\n",
       "0                                                 NaN   \n",
       "1   https://forum.littleone.ru/member.php?userid=4...   \n",
       "2   https://forum.littleone.ru/member.php?userid=4...   \n",
       "3   https://forum.littleone.ru/member.php?userid=5...   \n",
       "4   https://forum.littleone.ru/member.php?userid=4...   \n",
       "5   https://forum.littleone.ru/member.php?userid=5...   \n",
       "6   https://forum.littleone.ru/member.php?userid=4...   \n",
       "7   https://forum.littleone.ru/member.php?userid=8...   \n",
       "8   https://forum.littleone.ru/member.php?userid=4...   \n",
       "9   https://forum.littleone.ru/member.php?userid=7...   \n",
       "10  https://forum.littleone.ru/member.php?userid=4...   \n",
       "11  https://forum.littleone.ru/member.php?userid=8...   \n",
       "12  https://forum.littleone.ru/member.php?userid=4...   \n",
       "13  https://forum.littleone.ru/member.php?userid=4...   \n",
       "14  https://forum.littleone.ru/member.php?userid=8...   \n",
       "15  https://forum.littleone.ru/member.php?userid=4...   \n",
       "16  https://forum.littleone.ru/member.php?userid=8...   \n",
       "17  https://forum.littleone.ru/member.php?userid=4...   \n",
       "18  https://forum.littleone.ru/member.php?userid=8...   \n",
       "19  https://forum.littleone.ru/member.php?userid=8...   \n",
       "20  https://forum.littleone.ru/member.php?userid=4...   \n",
       "21  https://forum.littleone.ru/member.php?userid=4...   \n",
       "22  https://forum.littleone.ru/member.php?userid=8...   \n",
       "\n",
       "                                  answer_to_post_link  \n",
       "0                                                 NaN  \n",
       "1   https://forum.littleone.ru/showthread.php?p=16...  \n",
       "2   https://forum.littleone.ru/showthread.php?p=16...  \n",
       "3   https://forum.littleone.ru/showthread.php?p=16...  \n",
       "4   https://forum.littleone.ru/showthread.php?p=16...  \n",
       "5   https://forum.littleone.ru/showthread.php?p=16...  \n",
       "6   https://forum.littleone.ru/showthread.php?p=16...  \n",
       "7   https://forum.littleone.ru/showthread.php?p=16...  \n",
       "8   https://forum.littleone.ru/showthread.php?p=16...  \n",
       "9   https://forum.littleone.ru/showthread.php?p=16...  \n",
       "10  https://forum.littleone.ru/showthread.php?p=16...  \n",
       "11  https://forum.littleone.ru/showthread.php?p=16...  \n",
       "12  https://forum.littleone.ru/showthread.php?p=16...  \n",
       "13  https://forum.littleone.ru/showthread.php?p=16...  \n",
       "14  https://forum.littleone.ru/showthread.php?p=16...  \n",
       "15  https://forum.littleone.ru/showthread.php?p=16...  \n",
       "16  https://forum.littleone.ru/showthread.php?p=16...  \n",
       "17  https://forum.littleone.ru/showthread.php?p=16...  \n",
       "18  https://forum.littleone.ru/showthread.php?p=16...  \n",
       "19  https://forum.littleone.ru/showthread.php?p=16...  \n",
       "20  https://forum.littleone.ru/showthread.php?p=16...  \n",
       "21  https://forum.littleone.ru/showthread.php?p=16...  \n",
       "22  https://forum.littleone.ru/showthread.php?p=16...  "
      ]
     },
     "execution_count": 54,
     "metadata": {},
     "output_type": "execute_result"
    }
   ],
   "source": [
    "get_thread_msgs('https://forum.littleone.ru/showthread.php?t=8272742', top_n_pages=top_n_pages, \n",
    "                            save_path=data_path_csv)"
   ]
  },
  {
   "cell_type": "code",
   "execution_count": null,
   "metadata": {
    "scrolled": true
   },
   "outputs": [],
   "source": [
    "pd.read_csv(os.path.join(data_path, 'Thread_8429026_full.csv'))"
   ]
  },
  {
   "cell_type": "markdown",
   "metadata": {},
   "source": [
    "# Load link and process after"
   ]
  },
  {
   "cell_type": "markdown",
   "metadata": {
    "heading_collapsed": true
   },
   "source": [
    "## Get all links for a subsection"
   ]
  },
  {
   "cell_type": "markdown",
   "metadata": {
    "hidden": true
   },
   "source": [
    "https://youtu.be/nR8WhdcRJwM?t=4009"
   ]
  },
  {
   "cell_type": "code",
   "execution_count": 22,
   "metadata": {
    "hidden": true
   },
   "outputs": [],
   "source": [
    "def get_topic_pages_num_from_subsection(topic):\n",
    "    last_page_tag = topic.find(\"a\", title=lambda title: title and title.startswith(\"Перейти\"))\n",
    "    #print('last_page_tag', last_page_tag)\n",
    "    if last_page_tag is not None: # this may occur if there is no \"go to specific page in preview\"\n",
    "        print('enough pages')\n",
    "        return int(re.findall('стр. ([\\d]*)', last_page_tag.attrs['title'])[0])\n",
    "    \n",
    "    pagination = topic.find('dl', {'class': 'pagination'})\n",
    "    if pagination is not None:       \n",
    "        print('use pagination \\(few pages\\)')\n",
    "        return int(pagination.find('dd').find_all('span')[-1].text)\n",
    "    \n",
    "    print('only one page')\n",
    "    return 1"
   ]
  },
  {
   "cell_type": "code",
   "execution_count": 23,
   "metadata": {
    "hidden": true
   },
   "outputs": [],
   "source": [
    "# rename to more specific\n",
    "def get_link(forum, thread_num, page):\n",
    "    return forum + 'showthread.php?t=' + str(thread_num) + '&page=' + str(page)"
   ]
  },
  {
   "cell_type": "code",
   "execution_count": 24,
   "metadata": {
    "hidden": true
   },
   "outputs": [],
   "source": [
    "def download_subsection_threads(subsection_url, subsection_pages=2, **kwargs):\n",
    "    soup, driver = read_html_with_webdriver(subsection_url, headless=True)\n",
    "    for subsection_page in range(subsection_pages):\n",
    "        print(f'\\n\\n{subsection_page + 1} page in subsection')\n",
    "        topics = soup.find('ol', {'id': 'threads'}).find_all('li', {'class': re.compile('threadbit hot *')})\n",
    "        for topic in topics:\n",
    "            pages = get_topic_pages_num_from_subsection(topic)\n",
    "            topic_name = topic.find('a', 'title').text\n",
    "            href = topic.find('a', href=True).attrs['href']\n",
    "            #print('href', href)\n",
    "            topic_num = re.findall('\\d{7}', href)[0]\n",
    "            print(\"topic_num: \", topic_num, \"topic name: \", topic_name, \"pages:\", pages)\n",
    "            topic_local_dir = os.path.join(raw_data_path, str(topic_num))\n",
    "            if not os.path.exists(topic_local_dir):\n",
    "                os.makedirs(topic_local_dir)\n",
    "            else:\n",
    "                print('already exists')\n",
    "                continue\n",
    "\n",
    "            for i in tqdm_notebook(range(1, pages + 1), total=pages):\n",
    "                wget.download(get_link('https://forum.littleone.ru/',topic_num, i),\n",
    "                              out=os.path.join(topic_local_dir, str(i)))\n",
    "\n",
    "        move_to_next_page(driver)\n",
    "        soup = driver2soup(driver)\n",
    "    driver.close()"
   ]
  },
  {
   "cell_type": "code",
   "execution_count": 39,
   "metadata": {
    "hidden": true
   },
   "outputs": [],
   "source": [
    "subsection_url = 'https://forum.littleone.ru/forumdisplay.php?f=264'"
   ]
  },
  {
   "cell_type": "code",
   "execution_count": 41,
   "metadata": {
    "hidden": true,
    "scrolled": true
   },
   "outputs": [
    {
     "name": "stdout",
     "output_type": "stream",
     "text": [
      "\n",
      "\n",
      "1 page in subsection\n",
      "enough pages\n",
      "topic_num:  8430795 topic name:  ДевятиКЛАССные будни 2020-2021:))) pages: 289\n",
      "already exists\n",
      "enough pages\n",
      "topic_num:  8447234 topic name:  Коронный выпуск 2020, держим строй! pages: 226\n",
      "already exists\n",
      "enough pages\n",
      "topic_num:  5422320 topic name:  куда поступают подростки у которых невысокие баллы по ЕГЭ pages: 1728\n",
      "already exists\n",
      "enough pages\n",
      "topic_num:  6941702 topic name:  Поступили в ВШЭ...все сюда pages: 347\n",
      "already exists\n",
      "enough pages\n",
      "topic_num:  8429026 topic name:  11 класс - Финишная прямая 2020-2021 pages: 100\n",
      "already exists\n",
      "enough pages\n",
      "topic_num:  7376205 topic name:  ЛЭТИ 1курс.Кто с нами? pages: 529\n",
      "already exists\n",
      "enough pages\n",
      "topic_num:  8447227 topic name:  Будни и праздники студентов СПО pages: 54\n",
      "already exists\n",
      "enough pages\n",
      "topic_num:  8427171 topic name:  ^ↀᴥↀ^_10_КЛАСС_2020-2021_^ↀᴥↀ^ pages: 381\n",
      "already exists\n",
      "enough pages\n",
      "topic_num:  8225593 topic name:  Питерские родители московских студентов. pages: 375\n",
      "already exists\n",
      "enough pages\n",
      "topic_num:  6857993 topic name:  Медицинские ВУЗы поступление pages: 2388\n",
      "already exists\n",
      "enough pages\n",
      "topic_num:  7319331 topic name:  Колледжи - выбор и поступление pages: 2251\n",
      "already exists\n",
      "enough pages\n",
      "topic_num:  8227834 topic name:  Про военкомат и медосвидетельствование-3 pages: 399\n",
      "already exists\n",
      "enough pages\n",
      "topic_num:  8434957 topic name:  ВУЗы в условиях пандемии pages: 185\n",
      "already exists\n",
      "enough pages\n",
      "topic_num:  8210092 topic name:  Родительское собрание выпускников школы 2018 pages: 1680\n",
      "already exists\n",
      "enough pages\n",
      "topic_num:  8206179 topic name:  Привет поступившим в СПБГУ в 2018. Давайте общаться?)) pages: 122\n",
      "already exists\n",
      "enough pages\n",
      "topic_num:  5599851 topic name:  Военкомат. Постановка на воинский учет. pages: 824\n",
      "already exists\n",
      "enough pages\n",
      "topic_num:  3275945 topic name:  Высшее образование заграницей БЕСПЛАТНО и платно. pages: 941\n",
      "already exists\n",
      "enough pages\n",
      "topic_num:  8327399 topic name:  Курсы подготовки к ЕГЭ . Какие ? pages: 71\n",
      "already exists\n",
      "enough pages\n",
      "topic_num:  7764006 topic name:  Олимпиады 2016-2020 pages: 1305\n",
      "already exists\n",
      "enough pages\n",
      "topic_num:  6924497 topic name:  Мамы студентов ИТМО, пообщаемся? pages: 122\n",
      "already exists\n",
      "enough pages\n",
      "topic_num:  5600277 topic name:  ПОЛИТЕХ 1-ый курс - все сюда! pages: 506\n",
      "already exists\n",
      "enough pages\n",
      "topic_num:  8340824 topic name:  Мамины волнения после поступления. Выпускники 2019. pages: 164\n",
      "already exists\n",
      "enough pages\n",
      "topic_num:  8445559 topic name:  РГПУ им. Герцена!  ВУЗ где растят педагогов). pages: 10\n",
      "already exists\n",
      "enough pages\n",
      "topic_num:  7741352 topic name:  Лесгафта - Поступать ли? pages: 50\n",
      "already exists\n",
      "enough pages\n",
      "topic_num:  8434394 topic name:  Просто наши мысли о всяком-разном pages: 30\n",
      "already exists\n",
      "enough pages\n",
      "topic_num:  8003242 topic name:  Петербургский университет путей сообщения ( ПГУПС ) pages: 10\n",
      "already exists\n",
      "enough pages\n",
      "topic_num:  8434105 topic name:  \"Я - бисексуал\". Подростковый закидон или ...? pages: 19\n",
      "already exists\n",
      "\n",
      "\n",
      "2 page in subsection\n",
      "enough pages\n",
      "topic_num:  4251847 topic name:  Поступление по целевому pages: 666\n"
     ]
    },
    {
     "data": {
      "application/vnd.jupyter.widget-view+json": {
       "model_id": "0950f359f404428b810692f5db8287c5",
       "version_major": 2,
       "version_minor": 0
      },
      "text/plain": [
       "HBox(children=(IntProgress(value=0, max=666), HTML(value='')))"
      ]
     },
     "metadata": {},
     "output_type": "display_data"
    },
    {
     "name": "stdout",
     "output_type": "stream",
     "text": [
      "\n",
      "use pagination \\(few pages\\)\n",
      "topic_num:  8446363 topic name:  Информатика и физика, с чего начать изучение для поступления? pages: 6\n"
     ]
    },
    {
     "data": {
      "application/vnd.jupyter.widget-view+json": {
       "model_id": "4601ddbc09b8453eb515615c76757802",
       "version_major": 2,
       "version_minor": 0
      },
      "text/plain": [
       "HBox(children=(IntProgress(value=0, max=6), HTML(value='')))"
      ]
     },
     "metadata": {},
     "output_type": "display_data"
    },
    {
     "name": "stdout",
     "output_type": "stream",
     "text": [
      "\n",
      "enough pages\n",
      "topic_num:  8343677 topic name:  Будущим абитуриентам колледжей. Проходные баллы. pages: 43\n"
     ]
    },
    {
     "data": {
      "application/vnd.jupyter.widget-view+json": {
       "model_id": "9b961f68bf854ca5ac2c3ce89a678d86",
       "version_major": 2,
       "version_minor": 0
      },
      "text/plain": [
       "HBox(children=(IntProgress(value=0, max=43), HTML(value='')))"
      ]
     },
     "metadata": {},
     "output_type": "display_data"
    },
    {
     "name": "stdout",
     "output_type": "stream",
     "text": [
      "\n",
      "use pagination \\(few pages\\)\n",
      "topic_num:  8139455 topic name:  Некрасовский педколледж pages: 3\n"
     ]
    },
    {
     "data": {
      "application/vnd.jupyter.widget-view+json": {
       "model_id": "5a217814b94a49aba2230ca93b8072b2",
       "version_major": 2,
       "version_minor": 0
      },
      "text/plain": [
       "HBox(children=(IntProgress(value=0, max=3), HTML(value='')))"
      ]
     },
     "metadata": {},
     "output_type": "display_data"
    },
    {
     "name": "stdout",
     "output_type": "stream",
     "text": [
      "\n",
      "enough pages\n",
      "topic_num:  8205988 topic name:  Пусть и про БОНЧ будет тема :) pages: 36\n"
     ]
    },
    {
     "data": {
      "application/vnd.jupyter.widget-view+json": {
       "model_id": "fb6c138ca6d846f6808ae45e2bf85f03",
       "version_major": 2,
       "version_minor": 0
      },
      "text/plain": [
       "HBox(children=(IntProgress(value=0, max=36), HTML(value='')))"
      ]
     },
     "metadata": {},
     "output_type": "display_data"
    },
    {
     "name": "stdout",
     "output_type": "stream",
     "text": [
      "\n",
      "enough pages\n",
      "topic_num:  8343445 topic name:  Школа. Финал 20 20 pages: 5561\n"
     ]
    },
    {
     "data": {
      "application/vnd.jupyter.widget-view+json": {
       "model_id": "8a5395bbeef54c8fbda6c45be0a99794",
       "version_major": 2,
       "version_minor": 0
      },
      "text/plain": [
       "HBox(children=(IntProgress(value=0, max=5561), HTML(value='')))"
      ]
     },
     "metadata": {},
     "output_type": "display_data"
    },
    {
     "name": "stdout",
     "output_type": "stream",
     "text": [
      "\n",
      "enough pages\n",
      "topic_num:  6056812 topic name:  УНИВЕРСИТЕТЫ. Муки выбора. pages: 985\n"
     ]
    },
    {
     "data": {
      "application/vnd.jupyter.widget-view+json": {
       "model_id": "bf1e746898314bc89a1fe5ab371f6358",
       "version_major": 2,
       "version_minor": 0
      },
      "text/plain": [
       "HBox(children=(IntProgress(value=0, max=985), HTML(value='')))"
      ]
     },
     "metadata": {},
     "output_type": "display_data"
    },
    {
     "name": "stdout",
     "output_type": "stream",
     "text": [
      "\n",
      "enough pages\n",
      "topic_num:  8016935 topic name:  12 класс 2017-...студенты и не студенты (пережившие ЕГЭ) pages: 592\n"
     ]
    },
    {
     "data": {
      "application/vnd.jupyter.widget-view+json": {
       "model_id": "ff43194612fa4e7c965e362378a8def6",
       "version_major": 2,
       "version_minor": 0
      },
      "text/plain": [
       "HBox(children=(IntProgress(value=0, max=592), HTML(value='')))"
      ]
     },
     "metadata": {},
     "output_type": "display_data"
    },
    {
     "name": "stdout",
     "output_type": "stream",
     "text": [
      "\n",
      "enough pages\n",
      "topic_num:  7617457 topic name:  Ужасы Фармакадемии pages: 92\n"
     ]
    },
    {
     "data": {
      "application/vnd.jupyter.widget-view+json": {
       "model_id": "b4a83e278e6e4c5ead4c27135d433d80",
       "version_major": 2,
       "version_minor": 0
      },
      "text/plain": [
       "HBox(children=(IntProgress(value=0, max=92), HTML(value='')))"
      ]
     },
     "metadata": {},
     "output_type": "display_data"
    },
    {
     "name": "stdout",
     "output_type": "stream",
     "text": [
      "\n",
      "enough pages\n",
      "topic_num:  7905320 topic name:  Абитуриенты-рецидивисты pages: 11\n"
     ]
    },
    {
     "data": {
      "application/vnd.jupyter.widget-view+json": {
       "model_id": "c25f0d371c534280b9c98a171af5cdf4",
       "version_major": 2,
       "version_minor": 0
      },
      "text/plain": [
       "HBox(children=(IntProgress(value=0, max=11), HTML(value='')))"
      ]
     },
     "metadata": {},
     "output_type": "display_data"
    },
    {
     "name": "stdout",
     "output_type": "stream",
     "text": [
      "\n",
      "enough pages\n",
      "topic_num:  8315412 topic name:  Университет им.Герцена 1курс pages: 12\n"
     ]
    },
    {
     "data": {
      "application/vnd.jupyter.widget-view+json": {
       "model_id": "30318f4569474dfcba8a1fffff7a7859",
       "version_major": 2,
       "version_minor": 0
      },
      "text/plain": [
       "HBox(children=(IntProgress(value=0, max=12), HTML(value='')))"
      ]
     },
     "metadata": {},
     "output_type": "display_data"
    },
    {
     "name": "stdout",
     "output_type": "stream",
     "text": [
      "\n",
      "enough pages\n",
      "topic_num:  6928444 topic name:  СПбГУ Первый курс 2014 г. pages: 144\n"
     ]
    },
    {
     "data": {
      "application/vnd.jupyter.widget-view+json": {
       "model_id": "c8b7d092b46b402788342c36cbefef1a",
       "version_major": 2,
       "version_minor": 0
      },
      "text/plain": [
       "HBox(children=(IntProgress(value=0, max=144), HTML(value='')))"
      ]
     },
     "metadata": {},
     "output_type": "display_data"
    },
    {
     "name": "stdout",
     "output_type": "stream",
     "text": [
      "\n",
      "use pagination \\(few pages\\)\n",
      "topic_num:  8440735 topic name:  Сириус. pages: 5\n"
     ]
    },
    {
     "data": {
      "application/vnd.jupyter.widget-view+json": {
       "model_id": "fc5b5b33620f492cbc49b484526d3ea2",
       "version_major": 2,
       "version_minor": 0
      },
      "text/plain": [
       "HBox(children=(IntProgress(value=0, max=5), HTML(value='')))"
      ]
     },
     "metadata": {},
     "output_type": "display_data"
    },
    {
     "name": "stdout",
     "output_type": "stream",
     "text": [
      "\n",
      "enough pages\n",
      "topic_num:  7539634 topic name:  Ветеринарная академия pages: 16\n"
     ]
    },
    {
     "data": {
      "application/vnd.jupyter.widget-view+json": {
       "model_id": "3a699170f3ee47c0ab12f6ac1952b629",
       "version_major": 2,
       "version_minor": 0
      },
      "text/plain": [
       "HBox(children=(IntProgress(value=0, max=16), HTML(value='')))"
      ]
     },
     "metadata": {},
     "output_type": "display_data"
    },
    {
     "name": "stdout",
     "output_type": "stream",
     "text": [
      "\n",
      "enough pages\n",
      "topic_num:  7983177 topic name:  Магистратура, кто, где, почем? pages: 19\n"
     ]
    },
    {
     "data": {
      "application/vnd.jupyter.widget-view+json": {
       "model_id": "041afac3e26e46bea489cd91441d8dcd",
       "version_major": 2,
       "version_minor": 0
      },
      "text/plain": [
       "HBox(children=(IntProgress(value=0, max=19), HTML(value='')))"
      ]
     },
     "metadata": {},
     "output_type": "display_data"
    },
    {
     "name": "stdout",
     "output_type": "stream",
     "text": [
      "\n",
      "use pagination \\(few pages\\)\n",
      "topic_num:  8408903 topic name:  Подросток, посоветуйте психолога. pages: 3\n"
     ]
    },
    {
     "data": {
      "application/vnd.jupyter.widget-view+json": {
       "model_id": "1baafb57e6ac4a9c836cf4d6eba7fb45",
       "version_major": 2,
       "version_minor": 0
      },
      "text/plain": [
       "HBox(children=(IntProgress(value=0, max=3), HTML(value='')))"
      ]
     },
     "metadata": {},
     "output_type": "display_data"
    },
    {
     "name": "stdout",
     "output_type": "stream",
     "text": [
      "\n",
      "enough pages\n",
      "topic_num:  6877836 topic name:  Бакалавриат АУ pages: 236\n"
     ]
    },
    {
     "data": {
      "application/vnd.jupyter.widget-view+json": {
       "model_id": "165159ea08a0449589d4439fe0d8af1a",
       "version_major": 2,
       "version_minor": 0
      },
      "text/plain": [
       "HBox(children=(IntProgress(value=0, max=236), HTML(value='')))"
      ]
     },
     "metadata": {},
     "output_type": "display_data"
    },
    {
     "name": "stdout",
     "output_type": "stream",
     "text": [
      "\n",
      "enough pages\n",
      "topic_num:  8316334 topic name:  Высшее образование в Чехии pages: 21\n"
     ]
    },
    {
     "data": {
      "application/vnd.jupyter.widget-view+json": {
       "model_id": "63b1fd8ece4d4b8aae43a1c6276039ca",
       "version_major": 2,
       "version_minor": 0
      },
      "text/plain": [
       "HBox(children=(IntProgress(value=0, max=21), HTML(value='')))"
      ]
     },
     "metadata": {},
     "output_type": "display_data"
    },
    {
     "name": "stdout",
     "output_type": "stream",
     "text": [
      "\n",
      "\n",
      "\n",
      "3 page in subsection\n",
      "enough pages\n",
      "topic_num:  7718036 topic name:  Корабелка pages: 9\n"
     ]
    },
    {
     "data": {
      "application/vnd.jupyter.widget-view+json": {
       "model_id": "7a7e1d94a4b643c397f38a3cb833e209",
       "version_major": 2,
       "version_minor": 0
      },
      "text/plain": [
       "HBox(children=(IntProgress(value=0, max=9), HTML(value='')))"
      ]
     },
     "metadata": {},
     "output_type": "display_data"
    },
    {
     "name": "stdout",
     "output_type": "stream",
     "text": [
      "\n",
      "enough pages\n",
      "topic_num:  6868132 topic name:  Экономика. Выбор ВУЗа. pages: 56\n"
     ]
    },
    {
     "data": {
      "application/vnd.jupyter.widget-view+json": {
       "model_id": "31de06b7435a46a39223a0c6cab8e21c",
       "version_major": 2,
       "version_minor": 0
      },
      "text/plain": [
       "HBox(children=(IntProgress(value=0, max=56), HTML(value='')))"
      ]
     },
     "metadata": {},
     "output_type": "display_data"
    },
    {
     "name": "stdout",
     "output_type": "stream",
     "text": [
      "\n",
      "enough pages\n",
      "topic_num:  7717404 topic name:  Посоветуйте приличный юр.фак( кроме СПбГУ). pages: 10\n"
     ]
    },
    {
     "data": {
      "application/vnd.jupyter.widget-view+json": {
       "model_id": "9621666492e64cb7a6ae89b3b81378ff",
       "version_major": 2,
       "version_minor": 0
      },
      "text/plain": [
       "HBox(children=(IntProgress(value=0, max=10), HTML(value='')))"
      ]
     },
     "metadata": {},
     "output_type": "display_data"
    },
    {
     "name": "stdout",
     "output_type": "stream",
     "text": [
      "\n",
      "enough pages\n",
      "topic_num:  8338504 topic name:  ГУАП знакомимся! pages: 25\n"
     ]
    },
    {
     "data": {
      "application/vnd.jupyter.widget-view+json": {
       "model_id": "d31129e970674cbf89cd75de4e93d1ca",
       "version_major": 2,
       "version_minor": 0
      },
      "text/plain": [
       "HBox(children=(IntProgress(value=0, max=25), HTML(value='')))"
      ]
     },
     "metadata": {},
     "output_type": "display_data"
    },
    {
     "name": "stdout",
     "output_type": "stream",
     "text": [
      "\n",
      "use pagination \\(few pages\\)\n",
      "topic_num:  8437364 topic name:  253 балла. Что выбрать из информационных технологий??? pages: 5\n"
     ]
    },
    {
     "data": {
      "application/vnd.jupyter.widget-view+json": {
       "model_id": "aeefb4736abf46e3807ee81a35d5e4f7",
       "version_major": 2,
       "version_minor": 0
      },
      "text/plain": [
       "HBox(children=(IntProgress(value=0, max=5), HTML(value='')))"
      ]
     },
     "metadata": {},
     "output_type": "display_data"
    },
    {
     "name": "stdout",
     "output_type": "stream",
     "text": [
      "\n",
      "enough pages\n",
      "topic_num:  7309580 topic name:  Военная кафедра pages: 29\n"
     ]
    },
    {
     "data": {
      "application/vnd.jupyter.widget-view+json": {
       "model_id": "54137857b48b4a30a40dc8e9ef8ec984",
       "version_major": 2,
       "version_minor": 0
      },
      "text/plain": [
       "HBox(children=(IntProgress(value=0, max=29), HTML(value='')))"
      ]
     },
     "metadata": {},
     "output_type": "display_data"
    },
    {
     "name": "stdout",
     "output_type": "stream",
     "text": [
      "\n",
      "use pagination \\(few pages\\)\n",
      "topic_num:  8365693 topic name:  За и против ухода из школы после 9-го pages: 4\n"
     ]
    },
    {
     "data": {
      "application/vnd.jupyter.widget-view+json": {
       "model_id": "98afd0e07cb347afa19d6429744753de",
       "version_major": 2,
       "version_minor": 0
      },
      "text/plain": [
       "HBox(children=(IntProgress(value=0, max=4), HTML(value='')))"
      ]
     },
     "metadata": {},
     "output_type": "display_data"
    },
    {
     "name": "stdout",
     "output_type": "stream",
     "text": [
      "\n",
      "enough pages\n",
      "topic_num:  8409407 topic name:  Чем занять себя и детей на период карантина pages: 19\n"
     ]
    },
    {
     "data": {
      "application/vnd.jupyter.widget-view+json": {
       "model_id": "7217502dc5674ab9a83c6bb3ddf47b7d",
       "version_major": 2,
       "version_minor": 0
      },
      "text/plain": [
       "HBox(children=(IntProgress(value=0, max=19), HTML(value='')))"
      ]
     },
     "metadata": {},
     "output_type": "display_data"
    },
    {
     "name": "stdout",
     "output_type": "stream",
     "text": [
      "\n",
      "enough pages\n",
      "topic_num:  8325259 topic name:  Дружно сдали все ОГЭ - перерыв перед ЕГЭ (десятый класс 2019-2020) pages: 260\n"
     ]
    },
    {
     "data": {
      "application/vnd.jupyter.widget-view+json": {
       "model_id": "608f27a2320d43f0b487f7a0f2208c23",
       "version_major": 2,
       "version_minor": 0
      },
      "text/plain": [
       "HBox(children=(IntProgress(value=0, max=260), HTML(value='')))"
      ]
     },
     "metadata": {},
     "output_type": "display_data"
    },
    {
     "name": "stdout",
     "output_type": "stream",
     "text": [
      "\n",
      "enough pages\n",
      "topic_num:  8270794 topic name:  Окончание колледжа  , расскажите что дальше. pages: 8\n"
     ]
    },
    {
     "data": {
      "application/vnd.jupyter.widget-view+json": {
       "model_id": "c18aa7eba78b4e69a2bed3308a17da99",
       "version_major": 2,
       "version_minor": 0
      },
      "text/plain": [
       "HBox(children=(IntProgress(value=0, max=8), HTML(value='')))"
      ]
     },
     "metadata": {},
     "output_type": "display_data"
    },
    {
     "name": "stdout",
     "output_type": "stream",
     "text": [
      "\n",
      "enough pages\n",
      "topic_num:  8316741 topic name:  ʕ◉ᴥ◉ʔ__9 КЛАСС__2019-2020__ʕ◉ᴥ◉ʔ pages: 1489\n"
     ]
    },
    {
     "data": {
      "application/vnd.jupyter.widget-view+json": {
       "model_id": "2ae021116bd44d1bac3dacf2134a3b65",
       "version_major": 2,
       "version_minor": 0
      },
      "text/plain": [
       "HBox(children=(IntProgress(value=0, max=1489), HTML(value='')))"
      ]
     },
     "metadata": {},
     "output_type": "display_data"
    },
    {
     "name": "stdout",
     "output_type": "stream",
     "text": [
      "\n",
      "use pagination \\(few pages\\)\n",
      "topic_num:  8347084 topic name:  Посоветуйте, пожалуйста, профессию девушке. pages: 6\n"
     ]
    },
    {
     "data": {
      "application/vnd.jupyter.widget-view+json": {
       "model_id": "8ad55987c4484f428d3827c0e6747c41",
       "version_major": 2,
       "version_minor": 0
      },
      "text/plain": [
       "HBox(children=(IntProgress(value=0, max=6), HTML(value='')))"
      ]
     },
     "metadata": {},
     "output_type": "display_data"
    },
    {
     "name": "stdout",
     "output_type": "stream",
     "text": [
      "\n",
      "use pagination \\(few pages\\)\n",
      "topic_num:  7785682 topic name:  IT специальности. Помогите разобраться pages: 6\n"
     ]
    },
    {
     "data": {
      "application/vnd.jupyter.widget-view+json": {
       "model_id": "f19a7176cd644d898745f81f069ce808",
       "version_major": 2,
       "version_minor": 0
      },
      "text/plain": [
       "HBox(children=(IntProgress(value=0, max=6), HTML(value='')))"
      ]
     },
     "metadata": {},
     "output_type": "display_data"
    },
    {
     "name": "stdout",
     "output_type": "stream",
     "text": [
      "\n",
      "enough pages\n",
      "topic_num:  8219190 topic name:  Поступление в ВУЗ после колледжа, 2019 pages: 20\n"
     ]
    },
    {
     "data": {
      "application/vnd.jupyter.widget-view+json": {
       "model_id": "535ef841c8b2429aa255ab0320b01a7c",
       "version_major": 2,
       "version_minor": 0
      },
      "text/plain": [
       "HBox(children=(IntProgress(value=0, max=20), HTML(value='')))"
      ]
     },
     "metadata": {},
     "output_type": "display_data"
    },
    {
     "name": "stdout",
     "output_type": "stream",
     "text": [
      "\n",
      "\n",
      "\n",
      "4 page in subsection\n",
      "use pagination \\(few pages\\)\n",
      "topic_num:  6876859 topic name:  Социология. СПбГУ или ВШЭ? pages: 6\n"
     ]
    },
    {
     "data": {
      "application/vnd.jupyter.widget-view+json": {
       "model_id": "103545d1ebee494e8bdfbca3af63d74f",
       "version_major": 2,
       "version_minor": 0
      },
      "text/plain": [
       "HBox(children=(IntProgress(value=0, max=6), HTML(value='')))"
      ]
     },
     "metadata": {},
     "output_type": "display_data"
    },
    {
     "name": "stdout",
     "output_type": "stream",
     "text": [
      "\n",
      "enough pages\n",
      "topic_num:  7999695 topic name:  Физтех ИТМО pages: 28\n"
     ]
    },
    {
     "data": {
      "application/vnd.jupyter.widget-view+json": {
       "model_id": "7eb0bf9776254147a0a832004cb5a3bb",
       "version_major": 2,
       "version_minor": 0
      },
      "text/plain": [
       "HBox(children=(IntProgress(value=0, max=28), HTML(value='')))"
      ]
     },
     "metadata": {},
     "output_type": "display_data"
    },
    {
     "name": "stdout",
     "output_type": "stream",
     "text": [
      "\n",
      "enough pages\n",
      "topic_num:  6522944 topic name:  Успешные дизайнеры - какой вуз вы окончили? pages: 74\n"
     ]
    },
    {
     "data": {
      "application/vnd.jupyter.widget-view+json": {
       "model_id": "95532f73b8c2449789fff818b6536193",
       "version_major": 2,
       "version_minor": 0
      },
      "text/plain": [
       "HBox(children=(IntProgress(value=0, max=74), HTML(value='')))"
      ]
     },
     "metadata": {},
     "output_type": "display_data"
    },
    {
     "name": "stdout",
     "output_type": "stream",
     "text": [
      "\n",
      "enough pages\n",
      "topic_num:  5534754 topic name:  В петербуржской стороне, на чужой планете, предстоит учиться нам в университете... pages: 101\n"
     ]
    },
    {
     "data": {
      "application/vnd.jupyter.widget-view+json": {
       "model_id": "ebc0beaae7434bb9bbe7576cbc981a0b",
       "version_major": 2,
       "version_minor": 0
      },
      "text/plain": [
       "HBox(children=(IntProgress(value=0, max=101), HTML(value='')))"
      ]
     },
     "metadata": {},
     "output_type": "display_data"
    },
    {
     "name": "stdout",
     "output_type": "stream",
     "text": [
      "\n",
      "use pagination \\(few pages\\)\n",
      "topic_num:  8375677 topic name:  Самые удачные подарки учителям на выпускной 11 класса - какие? pages: 3\n"
     ]
    },
    {
     "data": {
      "application/vnd.jupyter.widget-view+json": {
       "model_id": "2a9f6ab1b3544a1abd4580f0bb0131e1",
       "version_major": 2,
       "version_minor": 0
      },
      "text/plain": [
       "HBox(children=(IntProgress(value=0, max=3), HTML(value='')))"
      ]
     },
     "metadata": {},
     "output_type": "display_data"
    },
    {
     "name": "stdout",
     "output_type": "stream",
     "text": [
      "\n",
      "enough pages\n",
      "topic_num:  7204711 topic name:  Отправлять ли сына за 1000 км? pages: 65\n"
     ]
    },
    {
     "data": {
      "application/vnd.jupyter.widget-view+json": {
       "model_id": "6ac07f24d27840b19ccb08305804453e",
       "version_major": 2,
       "version_minor": 0
      },
      "text/plain": [
       "HBox(children=(IntProgress(value=0, max=65), HTML(value='')))"
      ]
     },
     "metadata": {},
     "output_type": "display_data"
    },
    {
     "name": "stdout",
     "output_type": "stream",
     "text": [
      "\n",
      "enough pages\n",
      "topic_num:  8175800 topic name:  Сын забрал документы из колледжа в конце первого курса. Поговорите со мной pages: 79\n"
     ]
    },
    {
     "data": {
      "application/vnd.jupyter.widget-view+json": {
       "model_id": "d9f21cba8a214a9088de0ee18554c4c6",
       "version_major": 2,
       "version_minor": 0
      },
      "text/plain": [
       "HBox(children=(IntProgress(value=0, max=79), HTML(value='')))"
      ]
     },
     "metadata": {},
     "output_type": "display_data"
    },
    {
     "name": "stdout",
     "output_type": "stream",
     "text": [
      "\n",
      "use pagination \\(few pages\\)\n",
      "topic_num:  7609612 topic name:  Про Академии МВД, МЧС  расскажите, пожалуйста pages: 4\n"
     ]
    },
    {
     "data": {
      "application/vnd.jupyter.widget-view+json": {
       "model_id": "b900a888583843788f86dba7c2af6fda",
       "version_major": 2,
       "version_minor": 0
      },
      "text/plain": [
       "HBox(children=(IntProgress(value=0, max=4), HTML(value='')))"
      ]
     },
     "metadata": {},
     "output_type": "display_data"
    },
    {
     "name": "stdout",
     "output_type": "stream",
     "text": [
      "\n",
      "use pagination \\(few pages\\)\n",
      "topic_num:  8354314 topic name:  Что лучше курсы ЕГЭ или репетитор? pages: 3\n"
     ]
    },
    {
     "data": {
      "application/vnd.jupyter.widget-view+json": {
       "model_id": "9e238d1c35f24a0dae5da0279d37f1bf",
       "version_major": 2,
       "version_minor": 0
      },
      "text/plain": [
       "HBox(children=(IntProgress(value=0, max=3), HTML(value='')))"
      ]
     },
     "metadata": {},
     "output_type": "display_data"
    },
    {
     "name": "stdout",
     "output_type": "stream",
     "text": [
      "\n",
      "enough pages\n",
      "topic_num:  8354848 topic name:  ЕГЭ - ПЕРЕДАЧА ОПЫТА и что бы вы сейчас сделали по-другому? pages: 24\n"
     ]
    },
    {
     "data": {
      "application/vnd.jupyter.widget-view+json": {
       "model_id": "8030297d00804cbfb6f97d1c519f3058",
       "version_major": 2,
       "version_minor": 0
      },
      "text/plain": [
       "HBox(children=(IntProgress(value=0, max=24), HTML(value='')))"
      ]
     },
     "metadata": {},
     "output_type": "display_data"
    },
    {
     "name": "stdout",
     "output_type": "stream",
     "text": [
      "\n",
      "enough pages\n",
      "topic_num:  8390543 topic name:  Нужна ли программисту магистратура? pages: 11\n"
     ]
    },
    {
     "data": {
      "application/vnd.jupyter.widget-view+json": {
       "model_id": "7592dad0599c45ae8f58155649b76db8",
       "version_major": 2,
       "version_minor": 0
      },
      "text/plain": [
       "HBox(children=(IntProgress(value=0, max=11), HTML(value='')))"
      ]
     },
     "metadata": {},
     "output_type": "display_data"
    },
    {
     "name": "stdout",
     "output_type": "stream",
     "text": [
      "\n",
      "enough pages\n",
      "topic_num:  8002725 topic name:  Университет Иннополис pages: 15\n"
     ]
    },
    {
     "data": {
      "application/vnd.jupyter.widget-view+json": {
       "model_id": "72461a668fc44518bd3675958423be84",
       "version_major": 2,
       "version_minor": 0
      },
      "text/plain": [
       "HBox(children=(IntProgress(value=0, max=15), HTML(value='')))"
      ]
     },
     "metadata": {},
     "output_type": "display_data"
    },
    {
     "name": "stdout",
     "output_type": "stream",
     "text": [
      "\n",
      "enough pages\n",
      "topic_num:  7415337 topic name:  Биологический факультет pages: 12\n"
     ]
    },
    {
     "data": {
      "application/vnd.jupyter.widget-view+json": {
       "model_id": "52a80fc754584814ad59dd0c100b88bf",
       "version_major": 2,
       "version_minor": 0
      },
      "text/plain": [
       "HBox(children=(IntProgress(value=0, max=12), HTML(value='')))"
      ]
     },
     "metadata": {},
     "output_type": "display_data"
    },
    {
     "name": "stdout",
     "output_type": "stream",
     "text": [
      "\n",
      "enough pages\n",
      "topic_num:  8191752 topic name:  Проф ориентация - посоветуйте! pages: 8\n"
     ]
    },
    {
     "data": {
      "application/vnd.jupyter.widget-view+json": {
       "model_id": "0ac322d3f0ba435cb24bd7436ef25c62",
       "version_major": 2,
       "version_minor": 0
      },
      "text/plain": [
       "HBox(children=(IntProgress(value=0, max=8), HTML(value='')))"
      ]
     },
     "metadata": {},
     "output_type": "display_data"
    },
    {
     "name": "stdout",
     "output_type": "stream",
     "text": [
      "\n",
      "enough pages\n",
      "topic_num:  8384628 topic name:  Все сдали ОГЭ ? pages: 14\n"
     ]
    },
    {
     "data": {
      "application/vnd.jupyter.widget-view+json": {
       "model_id": "8f431434352b42ae803b3937fec2a645",
       "version_major": 2,
       "version_minor": 0
      },
      "text/plain": [
       "HBox(children=(IntProgress(value=0, max=14), HTML(value='')))"
      ]
     },
     "metadata": {},
     "output_type": "display_data"
    },
    {
     "name": "stdout",
     "output_type": "stream",
     "text": [
      "\n",
      "enough pages\n",
      "topic_num:  8394522 topic name:  Китай, коронавирус, учеба или срочно домой??? pages: 9\n"
     ]
    },
    {
     "data": {
      "application/vnd.jupyter.widget-view+json": {
       "model_id": "777295acbf9d4a94893dad9d1a5d9ed6",
       "version_major": 2,
       "version_minor": 0
      },
      "text/plain": [
       "HBox(children=(IntProgress(value=0, max=9), HTML(value='')))"
      ]
     },
     "metadata": {},
     "output_type": "display_data"
    },
    {
     "name": "stdout",
     "output_type": "stream",
     "text": [
      "\n",
      "use pagination \\(few pages\\)\n",
      "topic_num:  7271618 topic name:  Обучение в школе вожатского мастерства, для ребят от 18 лет pages: 4\n"
     ]
    },
    {
     "data": {
      "application/vnd.jupyter.widget-view+json": {
       "model_id": "568dd787faca4a40b2b9bc4acef1ed0e",
       "version_major": 2,
       "version_minor": 0
      },
      "text/plain": [
       "HBox(children=(IntProgress(value=0, max=4), HTML(value='')))"
      ]
     },
     "metadata": {},
     "output_type": "display_data"
    },
    {
     "name": "stdout",
     "output_type": "stream",
     "text": [
      "\n",
      "use pagination \\(few pages\\)\n",
      "topic_num:  8283986 topic name:  Подготовка к ОГЭ ЕГЭ Максимум ? кто-нибудь ходит? pages: 6\n"
     ]
    },
    {
     "data": {
      "application/vnd.jupyter.widget-view+json": {
       "model_id": "f6c7552b98024143992a824d1a54820d",
       "version_major": 2,
       "version_minor": 0
      },
      "text/plain": [
       "HBox(children=(IntProgress(value=0, max=6), HTML(value='')))"
      ]
     },
     "metadata": {},
     "output_type": "display_data"
    },
    {
     "name": "stdout",
     "output_type": "stream",
     "text": [
      "\n",
      "enough pages\n",
      "topic_num:  7144336 topic name:  Раннее развитие - есть ли толк? pages: 146\n"
     ]
    },
    {
     "data": {
      "application/vnd.jupyter.widget-view+json": {
       "model_id": "a64fef25c5764910b874d054bf2450b7",
       "version_major": 2,
       "version_minor": 0
      },
      "text/plain": [
       "HBox(children=(IntProgress(value=0, max=146), HTML(value='')))"
      ]
     },
     "metadata": {},
     "output_type": "display_data"
    },
    {
     "name": "stdout",
     "output_type": "stream",
     "text": [
      "\n",
      "\n",
      "\n",
      "5 page in subsection\n",
      "enough pages\n",
      "topic_num:  8354911 topic name:  Жить отдельно от родителей в 16-17 лет. Нормально? pages: 132\n"
     ]
    },
    {
     "data": {
      "application/vnd.jupyter.widget-view+json": {
       "model_id": "e36d9542368244fbb12c705d8d1334f5",
       "version_major": 2,
       "version_minor": 0
      },
      "text/plain": [
       "HBox(children=(IntProgress(value=0, max=132), HTML(value='')))"
      ]
     },
     "metadata": {},
     "output_type": "display_data"
    },
    {
     "name": "stdout",
     "output_type": "stream",
     "text": [
      "\n",
      "use pagination \\(few pages\\)\n",
      "topic_num:  8370064 topic name:  требуется психотерапевт pages: 2\n"
     ]
    },
    {
     "data": {
      "application/vnd.jupyter.widget-view+json": {
       "model_id": "1d618862ae084c9899c5750e6b7609e9",
       "version_major": 2,
       "version_minor": 0
      },
      "text/plain": [
       "HBox(children=(IntProgress(value=0, max=2), HTML(value='')))"
      ]
     },
     "metadata": {},
     "output_type": "display_data"
    },
    {
     "name": "stdout",
     "output_type": "stream",
     "text": [
      "\n",
      "enough pages\n",
      "topic_num:  6796713 topic name:  Выпускной в 11классе - поделитесь отзывами pages: 105\n"
     ]
    },
    {
     "data": {
      "application/vnd.jupyter.widget-view+json": {
       "model_id": "018c93cf727f48578a81745ed22ab466",
       "version_major": 2,
       "version_minor": 0
      },
      "text/plain": [
       "HBox(children=(IntProgress(value=0, max=105), HTML(value='')))"
      ]
     },
     "metadata": {},
     "output_type": "display_data"
    },
    {
     "name": "stdout",
     "output_type": "stream",
     "text": [
      "\n",
      "enough pages\n",
      "topic_num:  7163483 topic name:  Куда пойти учиться любителю химии pages: 84\n"
     ]
    },
    {
     "data": {
      "application/vnd.jupyter.widget-view+json": {
       "model_id": "cb906a6c01c444278d07e73ef5b3f32b",
       "version_major": 2,
       "version_minor": 0
      },
      "text/plain": [
       "HBox(children=(IntProgress(value=0, max=84), HTML(value='')))"
      ]
     },
     "metadata": {},
     "output_type": "display_data"
    },
    {
     "name": "stdout",
     "output_type": "stream",
     "text": [
      "\n",
      "use pagination \\(few pages\\)\n",
      "topic_num:  8359247 topic name:  Профессия режиссёра и все, что с ней связано - вопросы. pages: 4\n"
     ]
    },
    {
     "data": {
      "application/vnd.jupyter.widget-view+json": {
       "model_id": "c8e444915e6349239b06e47f017319b0",
       "version_major": 2,
       "version_minor": 0
      },
      "text/plain": [
       "HBox(children=(IntProgress(value=0, max=4), HTML(value='')))"
      ]
     },
     "metadata": {},
     "output_type": "display_data"
    },
    {
     "name": "stdout",
     "output_type": "stream",
     "text": [
      "\n",
      "enough pages\n",
      "topic_num:  8342196 topic name:  Замуж дочки в 18 лет за неместного мальчика одобрили бы? pages: 419\n"
     ]
    },
    {
     "data": {
      "application/vnd.jupyter.widget-view+json": {
       "model_id": "89c85935990347108e635defb0e3fac8",
       "version_major": 2,
       "version_minor": 0
      },
      "text/plain": [
       "HBox(children=(IntProgress(value=0, max=419), HTML(value='')))"
      ]
     },
     "metadata": {},
     "output_type": "display_data"
    },
    {
     "name": "stdout",
     "output_type": "stream",
     "text": [
      "\n",
      "enough pages\n",
      "topic_num:  8360658 topic name:  Физфак в ВШЭ (СПб) pages: 13\n"
     ]
    },
    {
     "data": {
      "application/vnd.jupyter.widget-view+json": {
       "model_id": "5be870d9295d4f3d93310e48e02b04aa",
       "version_major": 2,
       "version_minor": 0
      },
      "text/plain": [
       "HBox(children=(IntProgress(value=0, max=13), HTML(value='')))"
      ]
     },
     "metadata": {},
     "output_type": "display_data"
    },
    {
     "name": "stdout",
     "output_type": "stream",
     "text": [
      "\n",
      "use pagination \\(few pages\\)\n",
      "topic_num:  8366575 topic name:  Дайте совет куда пойти учиться pages: 3\n"
     ]
    },
    {
     "data": {
      "application/vnd.jupyter.widget-view+json": {
       "model_id": "cd1fd6446d59431bac8c5662cf13dc60",
       "version_major": 2,
       "version_minor": 0
      },
      "text/plain": [
       "HBox(children=(IntProgress(value=0, max=3), HTML(value='')))"
      ]
     },
     "metadata": {},
     "output_type": "display_data"
    },
    {
     "name": "stdout",
     "output_type": "stream",
     "text": [
      "\n",
      "enough pages\n",
      "topic_num:  8203009 topic name:  2018-2019 * Мы 11 класс. Будет все на 100 у нас! pages: 1499\n"
     ]
    },
    {
     "data": {
      "application/vnd.jupyter.widget-view+json": {
       "model_id": "0822581f4d254a34a2edbb000bb5f125",
       "version_major": 2,
       "version_minor": 0
      },
      "text/plain": [
       "HBox(children=(IntProgress(value=0, max=1499), HTML(value='')))"
      ]
     },
     "metadata": {},
     "output_type": "display_data"
    },
    {
     "name": "stdout",
     "output_type": "stream",
     "text": [
      "\n",
      "use pagination \\(few pages\\)\n",
      "topic_num:  7305262 topic name:  ПЕДАГОГИЧЕСКИЙ КОЛЛЕДЖ, ВЫБОР, КАК ПОСТУПИТЬ ПОСЛЕ 9 КЛАССА, ЧТО ДЕЛЬШЕ... pages: 3\n"
     ]
    },
    {
     "data": {
      "application/vnd.jupyter.widget-view+json": {
       "model_id": "0ede1b9ddff24031ae9d6431cdfab56c",
       "version_major": 2,
       "version_minor": 0
      },
      "text/plain": [
       "HBox(children=(IntProgress(value=0, max=3), HTML(value='')))"
      ]
     },
     "metadata": {},
     "output_type": "display_data"
    },
    {
     "name": "stdout",
     "output_type": "stream",
     "text": [
      "\n",
      "enough pages\n",
      "topic_num:  8357754 topic name:  выбор ВУЗа pages: 8\n"
     ]
    },
    {
     "data": {
      "application/vnd.jupyter.widget-view+json": {
       "model_id": "dead939c53a74bdaa45779e262e75d74",
       "version_major": 2,
       "version_minor": 0
      },
      "text/plain": [
       "HBox(children=(IntProgress(value=0, max=8), HTML(value='')))"
      ]
     },
     "metadata": {},
     "output_type": "display_data"
    },
    {
     "name": "stdout",
     "output_type": "stream",
     "text": [
      "\n",
      "use pagination \\(few pages\\)\n",
      "topic_num:  8359667 topic name:  ЗА и ПРОТИВ выпускного на кораблике. pages: 4\n"
     ]
    },
    {
     "data": {
      "application/vnd.jupyter.widget-view+json": {
       "model_id": "003db70b1da44bbea205f0d73bcd1cc9",
       "version_major": 2,
       "version_minor": 0
      },
      "text/plain": [
       "HBox(children=(IntProgress(value=0, max=4), HTML(value='')))"
      ]
     },
     "metadata": {},
     "output_type": "display_data"
    },
    {
     "name": "stdout",
     "output_type": "stream",
     "text": [
      "\n",
      "enough pages\n",
      "topic_num:  8206851 topic name:  Десятиклассники 2018-2019 учебный год pages: 487\n"
     ]
    },
    {
     "data": {
      "application/vnd.jupyter.widget-view+json": {
       "model_id": "51f517d7b0c74664b4fa09894e0b0769",
       "version_major": 2,
       "version_minor": 0
      },
      "text/plain": [
       "HBox(children=(IntProgress(value=0, max=487), HTML(value='')))"
      ]
     },
     "metadata": {},
     "output_type": "display_data"
    },
    {
     "name": "stdout",
     "output_type": "stream",
     "text": [
      "\n",
      "use pagination \\(few pages\\)\n",
      "topic_num:  8323557 topic name:  Исторический факультет СПбГУ - расскажите о нем, пожалуйста. pages: 4\n"
     ]
    },
    {
     "data": {
      "application/vnd.jupyter.widget-view+json": {
       "model_id": "39a6baca91944ed8a5d1b41dc43ad7f1",
       "version_major": 2,
       "version_minor": 0
      },
      "text/plain": [
       "HBox(children=(IntProgress(value=0, max=4), HTML(value='')))"
      ]
     },
     "metadata": {},
     "output_type": "display_data"
    },
    {
     "name": "stdout",
     "output_type": "stream",
     "text": [
      "\n",
      "use pagination \\(few pages\\)\n",
      "topic_num:  7782703 topic name:  Курсы при  \"СПбЦОКОиИТ\" pages: 3\n"
     ]
    },
    {
     "data": {
      "application/vnd.jupyter.widget-view+json": {
       "model_id": "9bcf0c26b30445ca8b65145c667544fd",
       "version_major": 2,
       "version_minor": 0
      },
      "text/plain": [
       "HBox(children=(IntProgress(value=0, max=3), HTML(value='')))"
      ]
     },
     "metadata": {},
     "output_type": "display_data"
    },
    {
     "name": "stdout",
     "output_type": "stream",
     "text": [
      "\n",
      "\n",
      "\n",
      "6 page in subsection\n",
      "use pagination \\(few pages\\)\n",
      "topic_num:  8357393 topic name:  Меня выносит от подарка на день первокурсника. Не знаю, то ли ржать, то ли плакать pages: 7\n"
     ]
    },
    {
     "data": {
      "application/vnd.jupyter.widget-view+json": {
       "model_id": "2356bc7828d94f74ab922e954a78d659",
       "version_major": 2,
       "version_minor": 0
      },
      "text/plain": [
       "HBox(children=(IntProgress(value=0, max=7), HTML(value='')))"
      ]
     },
     "metadata": {},
     "output_type": "display_data"
    },
    {
     "name": "stdout",
     "output_type": "stream",
     "text": [
      "\n",
      "use pagination \\(few pages\\)\n",
      "topic_num:  6912352 topic name:  Прожиточный минимум иногороднего студента в СПб pages: 6\n"
     ]
    },
    {
     "data": {
      "application/vnd.jupyter.widget-view+json": {
       "model_id": "d4a7d6fc79ac474da3af486f4f7874aa",
       "version_major": 2,
       "version_minor": 0
      },
      "text/plain": [
       "HBox(children=(IntProgress(value=0, max=6), HTML(value='')))"
      ]
     },
     "metadata": {},
     "output_type": "display_data"
    },
    {
     "name": "stdout",
     "output_type": "stream",
     "text": [
      "\n",
      "enough pages\n",
      "topic_num:  8224992 topic name:  Новый проект библиотеки Маяковского - бесплатный разговорный клуб для подростков pages: 10\n"
     ]
    },
    {
     "data": {
      "application/vnd.jupyter.widget-view+json": {
       "model_id": "27ab004d9fc747b88d46e4c5ecf698f1",
       "version_major": 2,
       "version_minor": 0
      },
      "text/plain": [
       "HBox(children=(IntProgress(value=0, max=10), HTML(value='')))"
      ]
     },
     "metadata": {},
     "output_type": "display_data"
    },
    {
     "name": "stdout",
     "output_type": "stream",
     "text": [
      "\n",
      "enough pages\n",
      "topic_num:  8184059 topic name:  Бакалавриат ЧБ, СП и анализ данных. pages: 23\n"
     ]
    },
    {
     "data": {
      "application/vnd.jupyter.widget-view+json": {
       "model_id": "01e976bea2824f30a3e14f55a3c7a4e2",
       "version_major": 2,
       "version_minor": 0
      },
      "text/plain": [
       "HBox(children=(IntProgress(value=0, max=23), HTML(value='')))"
      ]
     },
     "metadata": {},
     "output_type": "display_data"
    },
    {
     "name": "stdout",
     "output_type": "stream",
     "text": [
      "\n",
      "enough pages\n",
      "topic_num:  8079113 topic name:  А как сейчас с романтикой у 17-ти летних девушек? pages: 8\n"
     ]
    },
    {
     "data": {
      "application/vnd.jupyter.widget-view+json": {
       "model_id": "8d4dd476f5964815af9148bafe4d69f3",
       "version_major": 2,
       "version_minor": 0
      },
      "text/plain": [
       "HBox(children=(IntProgress(value=0, max=8), HTML(value='')))"
      ]
     },
     "metadata": {},
     "output_type": "display_data"
    },
    {
     "name": "stdout",
     "output_type": "stream",
     "text": [
      "\n",
      "use pagination \\(few pages\\)\n",
      "topic_num:  8214424 topic name:  Давайте соберём отзывы о фотографах и фотоальбомах. pages: 2\n"
     ]
    },
    {
     "data": {
      "application/vnd.jupyter.widget-view+json": {
       "model_id": "c944b6350f67400e9c752279e7f5b9dc",
       "version_major": 2,
       "version_minor": 0
      },
      "text/plain": [
       "HBox(children=(IntProgress(value=0, max=2), HTML(value='')))"
      ]
     },
     "metadata": {},
     "output_type": "display_data"
    },
    {
     "name": "stdout",
     "output_type": "stream",
     "text": [
      "\n",
      "use pagination \\(few pages\\)\n",
      "topic_num:  8272892 topic name:  После исторического образования где можно работать? pages: 7\n"
     ]
    },
    {
     "data": {
      "application/vnd.jupyter.widget-view+json": {
       "model_id": "65cb20937853451092b6857ad9387a41",
       "version_major": 2,
       "version_minor": 0
      },
      "text/plain": [
       "HBox(children=(IntProgress(value=0, max=7), HTML(value='')))"
      ]
     },
     "metadata": {},
     "output_type": "display_data"
    },
    {
     "name": "stdout",
     "output_type": "stream",
     "text": [
      "\n",
      "use pagination \\(few pages\\)\n",
      "topic_num:  7641000 topic name:  Курсы ЕГЭ в ФТШ pages: 5\n"
     ]
    },
    {
     "data": {
      "application/vnd.jupyter.widget-view+json": {
       "model_id": "f0616e3a8dd9494babb54993f89e2227",
       "version_major": 2,
       "version_minor": 0
      },
      "text/plain": [
       "HBox(children=(IntProgress(value=0, max=5), HTML(value='')))"
      ]
     },
     "metadata": {},
     "output_type": "display_data"
    },
    {
     "name": "stdout",
     "output_type": "stream",
     "text": [
      "\n",
      "use pagination \\(few pages\\)\n",
      "topic_num:  8343179 topic name:  Поздний прием документов в учебное заведение pages: 3\n"
     ]
    },
    {
     "data": {
      "application/vnd.jupyter.widget-view+json": {
       "model_id": "b9776a30810a4a559796bb763a62b643",
       "version_major": 2,
       "version_minor": 0
      },
      "text/plain": [
       "HBox(children=(IntProgress(value=0, max=3), HTML(value='')))"
      ]
     },
     "metadata": {},
     "output_type": "display_data"
    },
    {
     "name": "stdout",
     "output_type": "stream",
     "text": [
      "\n",
      "use pagination \\(few pages\\)\n",
      "topic_num:  8339900 topic name:  Магистратура в  Сколтехе: за или против. pages: 3\n"
     ]
    },
    {
     "data": {
      "application/vnd.jupyter.widget-view+json": {
       "model_id": "da4a809110a54befa66a540a5de66381",
       "version_major": 2,
       "version_minor": 0
      },
      "text/plain": [
       "HBox(children=(IntProgress(value=0, max=3), HTML(value='')))"
      ]
     },
     "metadata": {},
     "output_type": "display_data"
    },
    {
     "name": "stdout",
     "output_type": "stream",
     "text": [
      "\n",
      "enough pages\n",
      "topic_num:  6892264 topic name:  Музыкальное образование pages: 25\n"
     ]
    },
    {
     "data": {
      "application/vnd.jupyter.widget-view+json": {
       "model_id": "8fc5e5b285384dafb5af4cbcf537f145",
       "version_major": 2,
       "version_minor": 0
      },
      "text/plain": [
       "HBox(children=(IntProgress(value=0, max=25), HTML(value='')))"
      ]
     },
     "metadata": {},
     "output_type": "display_data"
    },
    {
     "name": "stdout",
     "output_type": "stream",
     "text": [
      "\n",
      "use pagination \\(few pages\\)\n",
      "topic_num:  8159853 topic name:  Мамы(папы) одиннадцатиклассников посоветуйте пожалуйста ваших репетиторов!)))) pages: 4\n"
     ]
    },
    {
     "data": {
      "application/vnd.jupyter.widget-view+json": {
       "model_id": "1e7d103af0ac47449882f7e95e271b90",
       "version_major": 2,
       "version_minor": 0
      },
      "text/plain": [
       "HBox(children=(IntProgress(value=0, max=4), HTML(value='')))"
      ]
     },
     "metadata": {},
     "output_type": "display_data"
    },
    {
     "name": "stdout",
     "output_type": "stream",
     "text": [
      "\n",
      "enough pages\n",
      "topic_num:  6080109 topic name:  Поступление в ВШМ pages: 19\n"
     ]
    },
    {
     "data": {
      "application/vnd.jupyter.widget-view+json": {
       "model_id": "b04296b854914304aced4aa969772936",
       "version_major": 2,
       "version_minor": 0
      },
      "text/plain": [
       "HBox(children=(IntProgress(value=0, max=19), HTML(value='')))"
      ]
     },
     "metadata": {},
     "output_type": "display_data"
    },
    {
     "name": "stdout",
     "output_type": "stream",
     "text": [
      "\n",
      "\n",
      "\n",
      "7 page in subsection\n",
      "enough pages\n",
      "topic_num:  7720107 topic name:  Среднее образование в Чехии pages: 22\n"
     ]
    },
    {
     "data": {
      "application/vnd.jupyter.widget-view+json": {
       "model_id": "28ddd9b5df644d4a9f452e51fe9d8679",
       "version_major": 2,
       "version_minor": 0
      },
      "text/plain": [
       "HBox(children=(IntProgress(value=0, max=22), HTML(value='')))"
      ]
     },
     "metadata": {},
     "output_type": "display_data"
    },
    {
     "name": "stdout",
     "output_type": "stream",
     "text": [
      "\n",
      "use pagination \\(few pages\\)\n",
      "topic_num:  8328309 topic name:  неаттестации за 10 класс: кто виноват - зачеркнуто - что делать? pages: 4\n"
     ]
    },
    {
     "data": {
      "application/vnd.jupyter.widget-view+json": {
       "model_id": "fb3df0865ed2494d8b6044762e042923",
       "version_major": 2,
       "version_minor": 0
      },
      "text/plain": [
       "HBox(children=(IntProgress(value=0, max=4), HTML(value='')))"
      ]
     },
     "metadata": {},
     "output_type": "display_data"
    },
    {
     "name": "stdout",
     "output_type": "stream",
     "text": [
      "\n",
      "use pagination \\(few pages\\)\n",
      "topic_num:  6874132 topic name:  Расскажите мне про факультеты ИТМО pages: 5\n"
     ]
    },
    {
     "data": {
      "application/vnd.jupyter.widget-view+json": {
       "model_id": "7937cef118da4262bfc18b1d6f73baae",
       "version_major": 2,
       "version_minor": 0
      },
      "text/plain": [
       "HBox(children=(IntProgress(value=0, max=5), HTML(value='')))"
      ]
     },
     "metadata": {},
     "output_type": "display_data"
    },
    {
     "name": "stdout",
     "output_type": "stream",
     "text": [
      "\n",
      "enough pages\n",
      "topic_num:  8204313 topic name:  Класс 9 или выбор дальнейшего пути 2018-2019 гг. pages: 732\n"
     ]
    },
    {
     "data": {
      "application/vnd.jupyter.widget-view+json": {
       "model_id": "575e5aeeb8d447478d3b59dc27447838",
       "version_major": 2,
       "version_minor": 0
      },
      "text/plain": [
       "HBox(children=(IntProgress(value=0, max=732), HTML(value='')))"
      ]
     },
     "metadata": {},
     "output_type": "display_data"
    },
    {
     "name": "stdout",
     "output_type": "stream",
     "text": [
      "\n",
      "enough pages\n",
      "topic_num:  7515355 topic name:  Как наладить отношения с дочерью? pages: 150\n"
     ]
    },
    {
     "data": {
      "application/vnd.jupyter.widget-view+json": {
       "model_id": "cc7bdd0765894f95a1f14f086ec618ce",
       "version_major": 2,
       "version_minor": 0
      },
      "text/plain": [
       "HBox(children=(IntProgress(value=0, max=150), HTML(value='')))"
      ]
     },
     "metadata": {},
     "output_type": "display_data"
    },
    {
     "name": "stdout",
     "output_type": "stream",
     "text": [
      "\n",
      "use pagination \\(few pages\\)\n",
      "topic_num:  8320717 topic name:  Апелляция ОГЭ pages: 7\n"
     ]
    },
    {
     "data": {
      "application/vnd.jupyter.widget-view+json": {
       "model_id": "f8c59e305f834675a28efcf0f73be68d",
       "version_major": 2,
       "version_minor": 0
      },
      "text/plain": [
       "HBox(children=(IntProgress(value=0, max=7), HTML(value='')))"
      ]
     },
     "metadata": {},
     "output_type": "display_data"
    },
    {
     "name": "stdout",
     "output_type": "stream",
     "text": [
      "\n",
      "enough pages\n",
      "topic_num:  5408459 topic name:  Горный университет pages: 18\n"
     ]
    },
    {
     "data": {
      "application/vnd.jupyter.widget-view+json": {
       "model_id": "51da77dbccfd453fac7d21501cc1a670",
       "version_major": 2,
       "version_minor": 0
      },
      "text/plain": [
       "HBox(children=(IntProgress(value=0, max=18), HTML(value='')))"
      ]
     },
     "metadata": {},
     "output_type": "display_data"
    },
    {
     "name": "stdout",
     "output_type": "stream",
     "text": [
      "\n",
      "enough pages\n",
      "topic_num:  7339300 topic name:  Радиополитехникум или ФСПО ИТМО? pages: 34\n"
     ]
    },
    {
     "data": {
      "application/vnd.jupyter.widget-view+json": {
       "model_id": "4f6e5b9abc954d41a555408ef312522b",
       "version_major": 2,
       "version_minor": 0
      },
      "text/plain": [
       "HBox(children=(IntProgress(value=0, max=34), HTML(value='')))"
      ]
     },
     "metadata": {},
     "output_type": "display_data"
    },
    {
     "name": "stdout",
     "output_type": "stream",
     "text": [
      "\n",
      "enough pages\n",
      "topic_num:  8213501 topic name:  Модные старшеклассники (и выпускники) pages: 168\n"
     ]
    },
    {
     "data": {
      "application/vnd.jupyter.widget-view+json": {
       "model_id": "0fd5201fccd841c0ac42a631e907af69",
       "version_major": 2,
       "version_minor": 0
      },
      "text/plain": [
       "HBox(children=(IntProgress(value=0, max=168), HTML(value='')))"
      ]
     },
     "metadata": {},
     "output_type": "display_data"
    },
    {
     "name": "stdout",
     "output_type": "stream",
     "text": [
      "\n",
      "use pagination \\(few pages\\)\n",
      "topic_num:  8279639 topic name:  Родители, будьте бдительны! pages: 7\n"
     ]
    },
    {
     "data": {
      "application/vnd.jupyter.widget-view+json": {
       "model_id": "2c7797d15d9746b28560772e32c9c13d",
       "version_major": 2,
       "version_minor": 0
      },
      "text/plain": [
       "HBox(children=(IntProgress(value=0, max=7), HTML(value='')))"
      ]
     },
     "metadata": {},
     "output_type": "display_data"
    },
    {
     "name": "stdout",
     "output_type": "stream",
     "text": [
      "\n",
      "use pagination \\(few pages\\)\n",
      "topic_num:  8306548 topic name:  Заочное обучение или техникум   после 11 класса pages: 4\n"
     ]
    },
    {
     "data": {
      "application/vnd.jupyter.widget-view+json": {
       "model_id": "7fbc0542b63a46ca8ac433be9afdfb42",
       "version_major": 2,
       "version_minor": 0
      },
      "text/plain": [
       "HBox(children=(IntProgress(value=0, max=4), HTML(value='')))"
      ]
     },
     "metadata": {},
     "output_type": "display_data"
    },
    {
     "name": "stdout",
     "output_type": "stream",
     "text": [
      "\n",
      "enough pages\n",
      "topic_num:  8290409 topic name:  Рост и вес девушек до 18 лет pages: 10\n"
     ]
    },
    {
     "data": {
      "application/vnd.jupyter.widget-view+json": {
       "model_id": "d51f9e97735a456faeadb82e46daece9",
       "version_major": 2,
       "version_minor": 0
      },
      "text/plain": [
       "HBox(children=(IntProgress(value=0, max=10), HTML(value='')))"
      ]
     },
     "metadata": {},
     "output_type": "display_data"
    },
    {
     "name": "stdout",
     "output_type": "stream",
     "text": [
      "\n",
      "\n",
      "\n",
      "8 page in subsection\n",
      "use pagination \\(few pages\\)\n",
      "topic_num:  8070534 topic name:  Рисующие дети - где и на кого учатся? pages: 6\n"
     ]
    },
    {
     "data": {
      "application/vnd.jupyter.widget-view+json": {
       "model_id": "a5c8a4388b894f6fb2c523cb6dd9ab3e",
       "version_major": 2,
       "version_minor": 0
      },
      "text/plain": [
       "HBox(children=(IntProgress(value=0, max=6), HTML(value='')))"
      ]
     },
     "metadata": {},
     "output_type": "display_data"
    },
    {
     "name": "stdout",
     "output_type": "stream",
     "text": [
      "\n",
      "use pagination \\(few pages\\)\n",
      "topic_num:  8268200 topic name:  Работа или учеба pages: 3\n"
     ]
    },
    {
     "data": {
      "application/vnd.jupyter.widget-view+json": {
       "model_id": "d66d147560d34f24ad18c5f0f1a2c3dd",
       "version_major": 2,
       "version_minor": 0
      },
      "text/plain": [
       "HBox(children=(IntProgress(value=0, max=3), HTML(value='')))"
      ]
     },
     "metadata": {},
     "output_type": "display_data"
    },
    {
     "name": "stdout",
     "output_type": "stream",
     "text": [
      "\n",
      "use pagination \\(few pages\\)\n",
      "topic_num:  8236713 topic name:  Альтернативы срочной службе pages: 6\n"
     ]
    },
    {
     "data": {
      "application/vnd.jupyter.widget-view+json": {
       "model_id": "fe5a269593ac420d8edbbbe771b6d762",
       "version_major": 2,
       "version_minor": 0
      },
      "text/plain": [
       "HBox(children=(IntProgress(value=0, max=6), HTML(value='')))"
      ]
     },
     "metadata": {},
     "output_type": "display_data"
    },
    {
     "name": "stdout",
     "output_type": "stream",
     "text": [
      "\n",
      "use pagination \\(few pages\\)\n",
      "topic_num:  8275882 topic name:  Подросток стал рано ложиться спать. Что это? pages: 2\n"
     ]
    },
    {
     "data": {
      "application/vnd.jupyter.widget-view+json": {
       "model_id": "ca31ad5ac2a84a8aa664be23790361ea",
       "version_major": 2,
       "version_minor": 0
      },
      "text/plain": [
       "HBox(children=(IntProgress(value=0, max=2), HTML(value='')))"
      ]
     },
     "metadata": {},
     "output_type": "display_data"
    },
    {
     "name": "stdout",
     "output_type": "stream",
     "text": [
      "\n",
      "use pagination \\(few pages\\)\n",
      "topic_num:  8035041 topic name:  выпускной для 11 класса-2018 где? pages: 4\n"
     ]
    },
    {
     "data": {
      "application/vnd.jupyter.widget-view+json": {
       "model_id": "c89a038b4487477983ed0a5d2af17d25",
       "version_major": 2,
       "version_minor": 0
      },
      "text/plain": [
       "HBox(children=(IntProgress(value=0, max=4), HTML(value='')))"
      ]
     },
     "metadata": {},
     "output_type": "display_data"
    },
    {
     "name": "stdout",
     "output_type": "stream",
     "text": [
      "\n",
      "enough pages\n",
      "topic_num:  8255208 topic name:  Неадекватный учитель. Есть возможность убрать в середине года? pages: 9\n"
     ]
    },
    {
     "data": {
      "application/vnd.jupyter.widget-view+json": {
       "model_id": "2c53179eab964d1e88f24baf6f6c23d4",
       "version_major": 2,
       "version_minor": 0
      },
      "text/plain": [
       "HBox(children=(IntProgress(value=0, max=9), HTML(value='')))"
      ]
     },
     "metadata": {},
     "output_type": "display_data"
    },
    {
     "name": "stdout",
     "output_type": "stream",
     "text": [
      "\n",
      "use pagination \\(few pages\\)\n",
      "topic_num:  8216799 topic name:  Пробный ЕГЭ pages: 3\n"
     ]
    },
    {
     "data": {
      "application/vnd.jupyter.widget-view+json": {
       "model_id": "e8f73dee2ebb443a9e714de6247ecda7",
       "version_major": 2,
       "version_minor": 0
      },
      "text/plain": [
       "HBox(children=(IntProgress(value=0, max=3), HTML(value='')))"
      ]
     },
     "metadata": {},
     "output_type": "display_data"
    },
    {
     "name": "stdout",
     "output_type": "stream",
     "text": [
      "\n",
      "use pagination \\(few pages\\)\n",
      "topic_num:  7790799 topic name:  Как отметить 18-летие? pages: 5\n"
     ]
    },
    {
     "data": {
      "application/vnd.jupyter.widget-view+json": {
       "model_id": "c0f3b96f0ef147bb8b0973e56c4cc417",
       "version_major": 2,
       "version_minor": 0
      },
      "text/plain": [
       "HBox(children=(IntProgress(value=0, max=5), HTML(value='')))"
      ]
     },
     "metadata": {},
     "output_type": "display_data"
    },
    {
     "name": "stdout",
     "output_type": "stream",
     "text": [
      "\n",
      "enough pages\n",
      "topic_num:  8267769 topic name:  Вы как с ними спорите? С переходными нашими? pages: 73\n"
     ]
    },
    {
     "data": {
      "application/vnd.jupyter.widget-view+json": {
       "model_id": "eb0af280ac2c418dbd1e8269d824562b",
       "version_major": 2,
       "version_minor": 0
      },
      "text/plain": [
       "HBox(children=(IntProgress(value=0, max=73), HTML(value='')))"
      ]
     },
     "metadata": {},
     "output_type": "display_data"
    },
    {
     "name": "stdout",
     "output_type": "stream",
     "text": [
      "\n",
      "enough pages\n",
      "topic_num:  7103863 topic name:  Двухкоридорное образование. Пазл складывается pages: 114\n"
     ]
    },
    {
     "data": {
      "application/vnd.jupyter.widget-view+json": {
       "model_id": "eacb1bb4187344c3a93d57da88c62667",
       "version_major": 2,
       "version_minor": 0
      },
      "text/plain": [
       "HBox(children=(IntProgress(value=0, max=114), HTML(value='')))"
      ]
     },
     "metadata": {},
     "output_type": "display_data"
    },
    {
     "name": "stdout",
     "output_type": "stream",
     "text": [
      "\n",
      "use pagination \\(few pages\\)\n",
      "topic_num:  8215944 topic name:  Реально ли найти студенту подработку вечером ? pages: 5\n"
     ]
    },
    {
     "data": {
      "application/vnd.jupyter.widget-view+json": {
       "model_id": "d007b4189cb546e58e13fe928d588aca",
       "version_major": 2,
       "version_minor": 0
      },
      "text/plain": [
       "HBox(children=(IntProgress(value=0, max=5), HTML(value='')))"
      ]
     },
     "metadata": {},
     "output_type": "display_data"
    },
    {
     "name": "stdout",
     "output_type": "stream",
     "text": [
      "\n",
      "use pagination \\(few pages\\)\n",
      "topic_num:  8259388 topic name:  В России изменился порядок сдачи ЕГЭ И ГИА pages: 4\n"
     ]
    },
    {
     "data": {
      "application/vnd.jupyter.widget-view+json": {
       "model_id": "4bf0ea6f0bb840499ad9da9861c16b9e",
       "version_major": 2,
       "version_minor": 0
      },
      "text/plain": [
       "HBox(children=(IntProgress(value=0, max=4), HTML(value='')))"
      ]
     },
     "metadata": {},
     "output_type": "display_data"
    },
    {
     "name": "stdout",
     "output_type": "stream",
     "text": [
      "\n",
      "use pagination \\(few pages\\)\n",
      "topic_num:  8048633 topic name:  И еще раз Сегрис-ФСПО-ИТМО pages: 4\n"
     ]
    },
    {
     "data": {
      "application/vnd.jupyter.widget-view+json": {
       "model_id": "84e8f16a85e04a18bd22e69f108723fb",
       "version_major": 2,
       "version_minor": 0
      },
      "text/plain": [
       "HBox(children=(IntProgress(value=0, max=4), HTML(value='')))"
      ]
     },
     "metadata": {},
     "output_type": "display_data"
    },
    {
     "name": "stdout",
     "output_type": "stream",
     "text": [
      "\n",
      "use pagination \\(few pages\\)\n",
      "topic_num:  8235273 topic name:  Оценки в аттестате pages: 4\n"
     ]
    },
    {
     "data": {
      "application/vnd.jupyter.widget-view+json": {
       "model_id": "042d9c9c6af349d3b1e6b26f8ba7ce9e",
       "version_major": 2,
       "version_minor": 0
      },
      "text/plain": [
       "HBox(children=(IntProgress(value=0, max=4), HTML(value='')))"
      ]
     },
     "metadata": {},
     "output_type": "display_data"
    },
    {
     "name": "stdout",
     "output_type": "stream",
     "text": [
      "\n",
      "\n",
      "\n",
      "9 page in subsection\n",
      "enough pages\n",
      "topic_num:  8182535 topic name:  военная кафедра и военная подготовка - в чем различие? pages: 9\n"
     ]
    },
    {
     "data": {
      "application/vnd.jupyter.widget-view+json": {
       "model_id": "40e6849f7f9c4b07a0095b199ab2d83f",
       "version_major": 2,
       "version_minor": 0
      },
      "text/plain": [
       "HBox(children=(IntProgress(value=0, max=9), HTML(value='')))"
      ]
     },
     "metadata": {},
     "output_type": "display_data"
    },
    {
     "name": "stdout",
     "output_type": "stream",
     "text": [
      "\n",
      "use pagination \\(few pages\\)\n",
      "topic_num:  8212288 topic name:  Где подрабатывают ваши студенты? pages: 4\n"
     ]
    },
    {
     "data": {
      "application/vnd.jupyter.widget-view+json": {
       "model_id": "48f9451485db40949a14ee719532b3d9",
       "version_major": 2,
       "version_minor": 0
      },
      "text/plain": [
       "HBox(children=(IntProgress(value=0, max=4), HTML(value='')))"
      ]
     },
     "metadata": {},
     "output_type": "display_data"
    },
    {
     "name": "stdout",
     "output_type": "stream",
     "text": [
      "\n",
      "enough pages\n",
      "topic_num:  8243512 topic name:  ЕГЭ математика,русский, физика посоветуйте ВУЗ pages: 11\n"
     ]
    },
    {
     "data": {
      "application/vnd.jupyter.widget-view+json": {
       "model_id": "7a4518159b1a4a47bc08e3b85514acf1",
       "version_major": 2,
       "version_minor": 0
      },
      "text/plain": [
       "HBox(children=(IntProgress(value=0, max=11), HTML(value='')))"
      ]
     },
     "metadata": {},
     "output_type": "display_data"
    },
    {
     "name": "stdout",
     "output_type": "stream",
     "text": [
      "\n",
      "enough pages\n",
      "topic_num:  7923555 topic name:  В Миланский Политех по обмену, дневник  on-line pages: 22\n"
     ]
    },
    {
     "data": {
      "application/vnd.jupyter.widget-view+json": {
       "model_id": "fec42d4775554dca831e5370c85b0e83",
       "version_major": 2,
       "version_minor": 0
      },
      "text/plain": [
       "HBox(children=(IntProgress(value=0, max=22), HTML(value='')))"
      ]
     },
     "metadata": {},
     "output_type": "display_data"
    },
    {
     "name": "stdout",
     "output_type": "stream",
     "text": [
      "\n",
      "use pagination \\(few pages\\)\n",
      "topic_num:  8236209 topic name:  Есть идеи, куда податься, сдав историю и обществознание не блестяще? pages: 5\n"
     ]
    },
    {
     "data": {
      "application/vnd.jupyter.widget-view+json": {
       "model_id": "9eb3217863b24c4982d8a6aa395ab2ac",
       "version_major": 2,
       "version_minor": 0
      },
      "text/plain": [
       "HBox(children=(IntProgress(value=0, max=5), HTML(value='')))"
      ]
     },
     "metadata": {},
     "output_type": "display_data"
    },
    {
     "name": "stdout",
     "output_type": "stream",
     "text": [
      "\n",
      "use pagination \\(few pages\\)\n",
      "topic_num:  8000606 topic name:  стюардесса pages: 3\n"
     ]
    },
    {
     "data": {
      "application/vnd.jupyter.widget-view+json": {
       "model_id": "51e7ad74abfa4d49887c54cdaaea6669",
       "version_major": 2,
       "version_minor": 0
      },
      "text/plain": [
       "HBox(children=(IntProgress(value=0, max=3), HTML(value='')))"
      ]
     },
     "metadata": {},
     "output_type": "display_data"
    },
    {
     "name": "stdout",
     "output_type": "stream",
     "text": [
      "\n",
      "use pagination \\(few pages\\)\n",
      "topic_num:  8190923 topic name:  Экономика/Менеджмент со средненькими баллами. Куда? pages: 6\n"
     ]
    },
    {
     "data": {
      "application/vnd.jupyter.widget-view+json": {
       "model_id": "988dd013fba8424eba73626367cc4f5c",
       "version_major": 2,
       "version_minor": 0
      },
      "text/plain": [
       "HBox(children=(IntProgress(value=0, max=6), HTML(value='')))"
      ]
     },
     "metadata": {},
     "output_type": "display_data"
    },
    {
     "name": "stdout",
     "output_type": "stream",
     "text": [
      "\n",
      "use pagination \\(few pages\\)\n",
      "topic_num:  8214926 topic name:  отпраздновать 18-летие pages: 3\n"
     ]
    },
    {
     "data": {
      "application/vnd.jupyter.widget-view+json": {
       "model_id": "9727c3b7ce4a47bc98b37ec1331ab4d6",
       "version_major": 2,
       "version_minor": 0
      },
      "text/plain": [
       "HBox(children=(IntProgress(value=0, max=3), HTML(value='')))"
      ]
     },
     "metadata": {},
     "output_type": "display_data"
    },
    {
     "name": "stdout",
     "output_type": "stream",
     "text": [
      "\n",
      "use pagination \\(few pages\\)\n",
      "topic_num:  8216811 topic name:  Волонтерство - дополнительный балл к ЕГЭ pages: 3\n"
     ]
    },
    {
     "data": {
      "application/vnd.jupyter.widget-view+json": {
       "model_id": "b02ffc28bf5645639d1207206bec5bb5",
       "version_major": 2,
       "version_minor": 0
      },
      "text/plain": [
       "HBox(children=(IntProgress(value=0, max=3), HTML(value='')))"
      ]
     },
     "metadata": {},
     "output_type": "display_data"
    },
    {
     "name": "stdout",
     "output_type": "stream",
     "text": [
      "\n",
      "enough pages\n",
      "topic_num:  6439904 topic name:  Про военкомат и медосвидетельствование-2 pages: 1129\n"
     ]
    },
    {
     "data": {
      "application/vnd.jupyter.widget-view+json": {
       "model_id": "0813c244616a424fab0dcdc14dd0ef5b",
       "version_major": 2,
       "version_minor": 0
      },
      "text/plain": [
       "HBox(children=(IntProgress(value=0, max=1129), HTML(value='')))"
      ]
     },
     "metadata": {},
     "output_type": "display_data"
    },
    {
     "name": "stdout",
     "output_type": "stream",
     "text": [
      "\n",
      "enough pages\n",
      "topic_num:  8187766 topic name:  Личный маньяк или глупый поклонник? pages: 10\n"
     ]
    },
    {
     "data": {
      "application/vnd.jupyter.widget-view+json": {
       "model_id": "fb410cde2186426fb83fd624b8b88e2e",
       "version_major": 2,
       "version_minor": 0
      },
      "text/plain": [
       "HBox(children=(IntProgress(value=0, max=10), HTML(value='')))"
      ]
     },
     "metadata": {},
     "output_type": "display_data"
    },
    {
     "name": "stdout",
     "output_type": "stream",
     "text": [
      "\n",
      "\n",
      "\n",
      "10 page in subsection\n",
      "enough pages\n",
      "topic_num:  8215938 topic name:  Выбор аспирантуры. Нужна помощь pages: 9\n"
     ]
    },
    {
     "data": {
      "application/vnd.jupyter.widget-view+json": {
       "model_id": "32e631b82c7f4840b2ab533d9961d54e",
       "version_major": 2,
       "version_minor": 0
      },
      "text/plain": [
       "HBox(children=(IntProgress(value=0, max=9), HTML(value='')))"
      ]
     },
     "metadata": {},
     "output_type": "display_data"
    },
    {
     "name": "stdout",
     "output_type": "stream",
     "text": [
      "\n",
      "only one page\n",
      "topic_num:  7324410 topic name:  кто-нибудь что-нибудь про полицейский колледж ? pages: 1\n"
     ]
    },
    {
     "data": {
      "application/vnd.jupyter.widget-view+json": {
       "model_id": "a9613878484e476b944a0d3d358301c8",
       "version_major": 2,
       "version_minor": 0
      },
      "text/plain": [
       "HBox(children=(IntProgress(value=0, max=1), HTML(value='')))"
      ]
     },
     "metadata": {},
     "output_type": "display_data"
    },
    {
     "name": "stdout",
     "output_type": "stream",
     "text": [
      "\n",
      "enough pages\n",
      "topic_num:  7999143 topic name:  выпускной 11класс 2017-2018= Олимпиады нипочём МЫ 300 баллов НАБЕРЁМ pages: 1967\n"
     ]
    },
    {
     "data": {
      "application/vnd.jupyter.widget-view+json": {
       "model_id": "be250d786593434b9872e187ad52a32a",
       "version_major": 2,
       "version_minor": 0
      },
      "text/plain": [
       "HBox(children=(IntProgress(value=0, max=1967), HTML(value='')))"
      ]
     },
     "metadata": {},
     "output_type": "display_data"
    },
    {
     "name": "stdout",
     "output_type": "stream",
     "text": [
      "\n",
      "use pagination \\(few pages\\)\n",
      "topic_num:  8164099 topic name:  Куда поступают троечники ? pages: 4\n"
     ]
    },
    {
     "data": {
      "application/vnd.jupyter.widget-view+json": {
       "model_id": "29d2d8c884644f7b96b4a5aef19298c5",
       "version_major": 2,
       "version_minor": 0
      },
      "text/plain": [
       "HBox(children=(IntProgress(value=0, max=4), HTML(value='')))"
      ]
     },
     "metadata": {},
     "output_type": "display_data"
    },
    {
     "name": "stdout",
     "output_type": "stream",
     "text": [
      "\n",
      "enough pages\n",
      "topic_num:  7979477 topic name:  Девятиклассники 2017-2018 учебный год pages: 607\n"
     ]
    },
    {
     "data": {
      "application/vnd.jupyter.widget-view+json": {
       "model_id": "5a10fce03846454db127ac5bf4ddf8ab",
       "version_major": 2,
       "version_minor": 0
      },
      "text/plain": [
       "HBox(children=(IntProgress(value=0, max=607), HTML(value='')))"
      ]
     },
     "metadata": {},
     "output_type": "display_data"
    },
    {
     "name": "stdout",
     "output_type": "stream",
     "text": [
      "\n",
      "use pagination \\(few pages\\)\n",
      "topic_num:  8197758 topic name:  18 один за границу pages: 6\n"
     ]
    },
    {
     "data": {
      "application/vnd.jupyter.widget-view+json": {
       "model_id": "3cec246727a7457f9780414c3f40ae5e",
       "version_major": 2,
       "version_minor": 0
      },
      "text/plain": [
       "HBox(children=(IntProgress(value=0, max=6), HTML(value='')))"
      ]
     },
     "metadata": {},
     "output_type": "display_data"
    },
    {
     "name": "stdout",
     "output_type": "stream",
     "text": [
      "\n",
      "enough pages\n",
      "topic_num:  7999147 topic name:  Класс десятый - в десять дома! Мы давным-давно знакомы! (10 класс 2017-2018) pages: 252\n"
     ]
    },
    {
     "data": {
      "application/vnd.jupyter.widget-view+json": {
       "model_id": "99345372aa234169ac8ea0e45c9cacdc",
       "version_major": 2,
       "version_minor": 0
      },
      "text/plain": [
       "HBox(children=(IntProgress(value=0, max=252), HTML(value='')))"
      ]
     },
     "metadata": {},
     "output_type": "display_data"
    },
    {
     "name": "stdout",
     "output_type": "stream",
     "text": [
      "\n",
      "enough pages\n",
      "topic_num:  8118120 topic name:  специальность \"Гостиничный сервис\" pages: 8\n"
     ]
    },
    {
     "data": {
      "application/vnd.jupyter.widget-view+json": {
       "model_id": "17b7cf2837814e65a8d28aff749a851c",
       "version_major": 2,
       "version_minor": 0
      },
      "text/plain": [
       "HBox(children=(IntProgress(value=0, max=8), HTML(value='')))"
      ]
     },
     "metadata": {},
     "output_type": "display_data"
    },
    {
     "name": "stdout",
     "output_type": "stream",
     "text": [
      "\n",
      "use pagination \\(few pages\\)\n",
      "topic_num:  8199839 topic name:  Гидромет (РГГМУ) pages: 4\n"
     ]
    },
    {
     "data": {
      "application/vnd.jupyter.widget-view+json": {
       "model_id": "1dbb66ff6b054fb58fe4ab9a0921ad77",
       "version_major": 2,
       "version_minor": 0
      },
      "text/plain": [
       "HBox(children=(IntProgress(value=0, max=4), HTML(value='')))"
      ]
     },
     "metadata": {},
     "output_type": "display_data"
    },
    {
     "name": "stdout",
     "output_type": "stream",
     "text": [
      "\n",
      "use pagination \\(few pages\\)\n",
      "topic_num:  8197314 topic name:  Ранхигс или СПбГЭУ (экс-Финэк/Инжекон)?  Помогите с принятием решения. pages: 2\n"
     ]
    },
    {
     "data": {
      "application/vnd.jupyter.widget-view+json": {
       "model_id": "568983420c8440ecbc4a15379f6047d2",
       "version_major": 2,
       "version_minor": 0
      },
      "text/plain": [
       "HBox(children=(IntProgress(value=0, max=2), HTML(value='')))"
      ]
     },
     "metadata": {},
     "output_type": "display_data"
    },
    {
     "name": "stdout",
     "output_type": "stream",
     "text": [
      "\n",
      "use pagination \\(few pages\\)\n",
      "topic_num:  6300374 topic name:  Прошу отзывов о Политехническом колледже городского хозяйства!! pages: 4\n"
     ]
    },
    {
     "data": {
      "application/vnd.jupyter.widget-view+json": {
       "model_id": "6ec095fd0765421981d88e44dabe8aab",
       "version_major": 2,
       "version_minor": 0
      },
      "text/plain": [
       "HBox(children=(IntProgress(value=0, max=4), HTML(value='')))"
      ]
     },
     "metadata": {},
     "output_type": "display_data"
    },
    {
     "name": "stdout",
     "output_type": "stream",
     "text": [
      "\n",
      "use pagination \\(few pages\\)\n",
      "topic_num:  7291768 topic name:  Если летом уже 17 лет , посоветуйте лагерь pages: 6\n"
     ]
    },
    {
     "data": {
      "application/vnd.jupyter.widget-view+json": {
       "model_id": "2daf850f9fe1451296685a3994422f54",
       "version_major": 2,
       "version_minor": 0
      },
      "text/plain": [
       "HBox(children=(IntProgress(value=0, max=6), HTML(value='')))"
      ]
     },
     "metadata": {},
     "output_type": "display_data"
    },
    {
     "name": "stdout",
     "output_type": "stream",
     "text": [
      "\n",
      "use pagination \\(few pages\\)\n",
      "topic_num:  8159699 topic name:  Нарвский Колледж Тартуского Университета/ бесплатное обучение pages: 3\n"
     ]
    },
    {
     "data": {
      "application/vnd.jupyter.widget-view+json": {
       "model_id": "25ba619d44764ab78d089a8c2b1aaa51",
       "version_major": 2,
       "version_minor": 0
      },
      "text/plain": [
       "HBox(children=(IntProgress(value=0, max=3), HTML(value='')))"
      ]
     },
     "metadata": {},
     "output_type": "display_data"
    },
    {
     "name": "stdout",
     "output_type": "stream",
     "text": [
      "\n"
     ]
    }
   ],
   "source": [
    "download_subsection_threads(subsection_url=subsection_url, subsection_pages=10)"
   ]
  },
  {
   "cell_type": "markdown",
   "metadata": {},
   "source": [
    "## Processing loaded links"
   ]
  },
  {
   "cell_type": "code",
   "execution_count": 15,
   "metadata": {
    "code_folding": []
   },
   "outputs": [
    {
     "name": "stdout",
     "output_type": "stream",
     "text": [
      "D:\\Data\\littleone_csv_with_names already exists\n",
      "thread_num 3275945\n"
     ]
    },
    {
     "name": "stderr",
     "output_type": "stream",
     "text": [
      "D:\\Programs\\IDE_and_for_programming\\Anaconda\\lib\\site-packages\\ipykernel_launcher.py:17: FutureWarning: Sorting because non-concatenation axis is not aligned. A future version\n",
      "of pandas will change to not sort by default.\n",
      "\n",
      "To accept the future behavior, pass 'sort=False'.\n",
      "\n",
      "To retain the current behavior and silence the warning, pass 'sort=True'.\n",
      "\n"
     ]
    },
    {
     "name": "stdout",
     "output_type": "stream",
     "text": [
      "thread_num 4251847\n",
      "thread_num 5408459\n",
      "thread_num 5422320\n",
      "thread_num 5534754\n",
      "thread_num 5599851\n",
      "thread_num 5600277\n",
      "thread_num 6056812\n",
      "thread_num 6080109\n",
      "thread_num 6300374\n",
      "thread_num 6439904\n",
      "thread_num 6522944\n",
      "thread_num 6796713\n",
      "thread_num 6857993\n",
      "thread_num 6868132\n",
      "thread_num 6874132\n",
      "thread_num 6876859\n",
      "thread_num 6877836\n",
      "thread_num 6892264\n",
      "thread_num 6912352\n",
      "thread_num 6924497\n",
      "thread_num 6928444\n",
      "thread_num 6941702\n",
      "thread_num 7103863\n",
      "thread_num 7144336\n",
      "thread_num 7163483\n",
      "thread_num 7204711\n",
      "thread_num 7271618\n",
      "thread_num 7291768\n",
      "thread_num 7305262\n",
      "thread_num 7309580\n",
      "thread_num 7319331\n",
      "thread_num 7324410\n",
      "thread_num 7339300\n",
      "thread_num 7376205\n",
      "thread_num 7415337\n",
      "thread_num 7515355\n",
      "thread_num 7539634\n",
      "thread_num 7609612\n",
      "thread_num 7617457\n",
      "thread_num 7641000\n",
      "thread_num 7717404\n",
      "thread_num 7718036\n",
      "thread_num 7720107\n",
      "thread_num 7741352\n",
      "thread_num 7764006\n",
      "thread_num 7782703\n",
      "thread_num 7785682\n",
      "thread_num 7790799\n",
      "thread_num 7905320\n",
      "thread_num 7923555\n",
      "thread_num 7979477\n",
      "thread_num 7983177\n",
      "thread_num 7999143\n",
      "thread_num 7999147\n",
      "thread_num 7999695\n",
      "thread_num 8000606\n",
      "thread_num 8002725\n",
      "thread_num 8003242\n",
      "thread_num 8016935\n",
      "thread_num 8035041\n",
      "thread_num 8048633\n",
      "thread_num 8070534\n",
      "thread_num 8079113\n",
      "thread_num 8118120\n",
      "thread_num 8139455\n",
      "thread_num 8159699\n",
      "thread_num 8159853\n",
      "thread_num 8164099\n",
      "thread_num 8175800\n",
      "thread_num 8182535\n",
      "thread_num 8184059\n",
      "thread_num 8187766\n",
      "thread_num 8190923\n",
      "thread_num 8191752\n",
      "thread_num 8197314\n",
      "thread_num 8197758\n",
      "thread_num 8199839\n",
      "thread_num 8203009\n",
      "thread_num 8204313\n",
      "thread_num 8205988\n",
      "thread_num 8206179\n",
      "thread_num 8206851\n",
      "thread_num 8210092\n",
      "thread_num 8212288\n",
      "thread_num 8213501\n",
      "thread_num 8214424\n",
      "thread_num 8214926\n",
      "thread_num 8215938\n",
      "thread_num 8215944\n",
      "thread_num 8216799\n",
      "thread_num 8216811\n",
      "thread_num 8219190\n",
      "thread_num 8224992\n",
      "thread_num 8225593\n",
      "thread_num 8227834\n",
      "thread_num 8235273\n",
      "thread_num 8236209\n",
      "thread_num 8236713\n",
      "thread_num 8243512\n",
      "thread_num 8255208\n",
      "thread_num 8259388\n",
      "thread_num 8267769\n",
      "thread_num 8268200\n",
      "thread_num 8270794\n",
      "thread_num 8272892\n",
      "thread_num 8275882\n",
      "thread_num 8279639\n",
      "thread_num 8283986\n",
      "thread_num 8290409\n",
      "thread_num 8306548\n",
      "thread_num 8315412\n",
      "thread_num 8316334\n",
      "thread_num 8316741\n",
      "thread_num 8320717\n",
      "thread_num 8323557\n",
      "thread_num 8325259\n",
      "thread_num 8327399\n",
      "thread_num 8328309\n",
      "thread_num 8338504\n",
      "thread_num 8339900\n",
      "thread_num 8340824\n",
      "thread_num 8342196\n",
      "thread_num 8343179\n",
      "thread_num 8343445\n",
      "thread_num 8343677\n",
      "thread_num 8347084\n",
      "thread_num 8354314\n",
      "thread_num 8354848\n",
      "thread_num 8354911\n",
      "thread_num 8357393\n",
      "thread_num 8357754\n",
      "thread_num 8359247\n",
      "thread_num 8359667\n",
      "thread_num 8360658\n",
      "thread_num 8365693\n",
      "thread_num 8366575\n",
      "thread_num 8370064\n",
      "thread_num 8375677\n",
      "thread_num 8384628\n",
      "thread_num 8390543\n",
      "thread_num 8394522\n",
      "thread_num 8408903\n",
      "thread_num 8409407\n",
      "thread_num 8427171\n",
      "thread_num 8429026\n",
      "thread_num 8430795\n",
      "thread_num 8434105\n",
      "thread_num 8434394\n",
      "thread_num 8434957\n",
      "thread_num 8437364\n",
      "thread_num 8440735\n",
      "thread_num 8445559\n",
      "thread_num 8446363\n",
      "thread_num 8447227\n",
      "thread_num 8447234\n",
      "Wall time: 48min 37s\n"
     ]
    }
   ],
   "source": [
    "%%time\n",
    "\n",
    "if not os.path.exists(data_path_csv):\n",
    "    os.makedirs(data_path_csv)\n",
    "else:\n",
    "    print(data_path_csv, 'already exists')\n",
    "\n",
    "def process_thread(thread_num, raw_data_path, data_path_csv):\n",
    "    result_df = pd.DataFrame()\n",
    "    print('thread_num', thread_num)\n",
    "\n",
    "    if any('Thread_' + thread_num in s for s in os.listdir(data_path_csv)):\n",
    "        print('already processed')\n",
    "        return 0\n",
    "\n",
    "    pages = os.listdir(os.path.join(raw_data_path, thread_num))\n",
    "    for file in pages:\n",
    "        all_info_from_page = get_all_info_from_file(os.path.join(raw_data_path, thread_num, file))\n",
    "        result_df = pd.concat([result_df, all_info_from_page], ignore_index=True)\n",
    "\n",
    "    result_df.to_csv(os.path.join(data_path_csv, 'Thread_' + thread_num + \\\n",
    "                                  '_full_{}_pages.csv'.format(len(pages))),\n",
    "                     index=False)\n",
    "    return 1\n",
    "    \n",
    "    \n",
    "for thread_num in os.listdir(raw_data_path):\n",
    "    process_thread(thread_num, raw_data_path, data_path_csv)"
   ]
  },
  {
   "cell_type": "code",
   "execution_count": 14,
   "metadata": {},
   "outputs": [
    {
     "ename": "TypeError",
     "evalue": "imap_unordered() got an unexpected keyword argument 'args'",
     "output_type": "error",
     "traceback": [
      "\u001b[1;31m---------------------------------------------------------------------------\u001b[0m",
      "\u001b[1;31mTypeError\u001b[0m                                 Traceback (most recent call last)",
      "\u001b[1;32m<timed exec>\u001b[0m in \u001b[0;36m<module>\u001b[1;34m\u001b[0m\n",
      "\u001b[1;31mTypeError\u001b[0m: imap_unordered() got an unexpected keyword argument 'args'"
     ]
    }
   ],
   "source": [
    "%%time\n",
    "\n",
    "from multiprocessing import Pool\n",
    "import multiprocessing as mp\n",
    "pool = mp.Pool(1)\n",
    "\n",
    "threads = os.listdir(raw_data_path)\n",
    "for thread_num in threads:\n",
    "    pool.imap_unordered(process_thread, args=(thread_num, raw_data_path, data_path_csv))\n",
    "pool.close()\n",
    "pool.join()"
   ]
  },
  {
   "cell_type": "code",
   "execution_count": 104,
   "metadata": {
    "scrolled": false
   },
   "outputs": [
    {
     "data": {
      "text/html": [
       "<div>\n",
       "<style scoped>\n",
       "    .dataframe tbody tr th:only-of-type {\n",
       "        vertical-align: middle;\n",
       "    }\n",
       "\n",
       "    .dataframe tbody tr th {\n",
       "        vertical-align: top;\n",
       "    }\n",
       "\n",
       "    .dataframe thead th {\n",
       "        text-align: right;\n",
       "    }\n",
       "</style>\n",
       "<table border=\"1\" class=\"dataframe\">\n",
       "  <thead>\n",
       "    <tr style=\"text-align: right;\">\n",
       "      <th></th>\n",
       "      <th>post_text</th>\n",
       "      <th>user_title</th>\n",
       "      <th>user_name</th>\n",
       "      <th>user_link</th>\n",
       "      <th>Регистрация</th>\n",
       "      <th>Сообщений</th>\n",
       "      <th>guest</th>\n",
       "      <th>Адрес</th>\n",
       "      <th>post_time</th>\n",
       "      <th>answer_to_user</th>\n",
       "      <th>answer_to_post_head</th>\n",
       "      <th>answer_to_user_link</th>\n",
       "      <th>answer_to_post_link</th>\n",
       "    </tr>\n",
       "  </thead>\n",
       "  <tbody>\n",
       "    <tr>\n",
       "      <td>0</td>\n",
       "      <td>\\n\\t\\t\\t\\t\\t\\t\\tСпасибо)))\\n\\t\\t\\t\\t\\t\\t</td>\n",
       "      <td>\\n\\t\\t\\t\\tГость\\n\\t\\t\\t</td>\n",
       "      <td>Olia1405</td>\n",
       "      <td>https://forum.littleone.ru/member.php?u=755127...</td>\n",
       "      <td>23.07.2015</td>\n",
       "      <td>5</td>\n",
       "      <td>False</td>\n",
       "      <td>NaN</td>\n",
       "      <td>2017-12-05 15:26:00</td>\n",
       "      <td>TatianaZ</td>\n",
       "      <td>Можно подавать в несколько...</td>\n",
       "      <td>https://forum.littleone.ru/member.php?userid=4...</td>\n",
       "      <td>https://forum.littleone.ru/showthread.php?p=15...</td>\n",
       "    </tr>\n",
       "    <tr>\n",
       "      <td>1</td>\n",
       "      <td>\\n\\t\\t\\t\\t\\t\\t\\tЯ не ошибаюсь, в прошлом году ...</td>\n",
       "      <td>\\n\\t\\t\\t\\tGuest\\n\\t\\t\\t</td>\n",
       "      <td>Верлиоко</td>\n",
       "      <td>NaN</td>\n",
       "      <td>NaN</td>\n",
       "      <td>NaN</td>\n",
       "      <td>True</td>\n",
       "      <td>NaN</td>\n",
       "      <td>2017-05-14 12:46:00</td>\n",
       "      <td>ЗНАЮ МЕРУ</td>\n",
       "      <td>Измайловский 10. Телефон: (812)...</td>\n",
       "      <td>https://forum.littleone.ru/member.php?userid=7...</td>\n",
       "      <td>https://forum.littleone.ru/showthread.php?p=15...</td>\n",
       "    </tr>\n",
       "    <tr>\n",
       "      <td>2</td>\n",
       "      <td>\\n\\n\\n\\n\\n\\n Сообщение от Еелена\\n\\n\\nЗдравств...</td>\n",
       "      <td>\\n\\t\\t\\t\\tЭлита\\n\\t\\t\\t</td>\n",
       "      <td>TatianaZ</td>\n",
       "      <td>https://forum.littleone.ru/member.php?u=426124...</td>\n",
       "      <td>16.06.2011</td>\n",
       "      <td>2404</td>\n",
       "      <td>False</td>\n",
       "      <td>NaN</td>\n",
       "      <td>2017-05-15 12:06:00</td>\n",
       "      <td>Olia1405</td>\n",
       "      <td>Спасибо)))</td>\n",
       "      <td>https://forum.littleone.ru/member.php?userid=7...</td>\n",
       "      <td>https://forum.littleone.ru/showthread.php?p=15...</td>\n",
       "    </tr>\n",
       "    <tr>\n",
       "      <td>3</td>\n",
       "      <td>\\n\\n\\n\\n\\n\\n Сообщение от амстель\\n\\n\\nЯ не ош...</td>\n",
       "      <td>\\n\\t\\t\\t\\tЭлита\\n\\t\\t\\t</td>\n",
       "      <td>TatianaZ</td>\n",
       "      <td>https://forum.littleone.ru/member.php?u=426124...</td>\n",
       "      <td>16.06.2011</td>\n",
       "      <td>2404</td>\n",
       "      <td>False</td>\n",
       "      <td>NaN</td>\n",
       "      <td>2017-05-15 12:10:00</td>\n",
       "      <td>Верлиоко</td>\n",
       "      <td>Я не ошибаюсь, в прошлом году на дод в...</td>\n",
       "      <td>NaN</td>\n",
       "      <td>https://forum.littleone.ru/showthread.php?p=15...</td>\n",
       "    </tr>\n",
       "    <tr>\n",
       "      <td>4</td>\n",
       "      <td>\\n\\n\\n\\n\\n\\n Сообщение от TatianaZ\\n\\n\\nВ ГУАП...</td>\n",
       "      <td>\\n\\t\\t\\t\\tBanned\\n\\t\\t\\t</td>\n",
       "      <td>##NV##</td>\n",
       "      <td>https://forum.littleone.ru/member.php?u=146690...</td>\n",
       "      <td>17.03.2009</td>\n",
       "      <td>35965</td>\n",
       "      <td>False</td>\n",
       "      <td>м.Московская</td>\n",
       "      <td>2017-05-15 12:21:00</td>\n",
       "      <td>TatianaZ</td>\n",
       "      <td>В ГУАПе...</td>\n",
       "      <td>https://forum.littleone.ru/member.php?userid=4...</td>\n",
       "      <td>https://forum.littleone.ru/showthread.php?p=15...</td>\n",
       "    </tr>\n",
       "    <tr>\n",
       "      <td>5</td>\n",
       "      <td>\\n\\t\\t\\t\\t\\t\\t\\tДобрый день!\\nПо целевому для ...</td>\n",
       "      <td>\\n\\t\\t\\t\\tВетеран\\n\\t\\t\\t</td>\n",
       "      <td>La Vanda</td>\n",
       "      <td>https://forum.littleone.ru/member.php?u=796506...</td>\n",
       "      <td>24.05.2016</td>\n",
       "      <td>849</td>\n",
       "      <td>False</td>\n",
       "      <td>NaN</td>\n",
       "      <td>2017-05-15 12:57:00</td>\n",
       "      <td>natalla</td>\n",
       "      <td>Поступление по целевому</td>\n",
       "      <td>https://forum.littleone.ru/member.php?userid=2...</td>\n",
       "      <td>https://forum.littleone.ru/showthread.php?p=62...</td>\n",
       "    </tr>\n",
       "    <tr>\n",
       "      <td>6</td>\n",
       "      <td>\\n\\n\\n\\n\\n\\n Сообщение от La Vanda\\n\\n\\nДобрый...</td>\n",
       "      <td>\\n\\t\\t\\t\\tЭлита\\n\\t\\t\\t</td>\n",
       "      <td>TatianaZ</td>\n",
       "      <td>https://forum.littleone.ru/member.php?u=426124...</td>\n",
       "      <td>16.06.2011</td>\n",
       "      <td>2404</td>\n",
       "      <td>False</td>\n",
       "      <td>NaN</td>\n",
       "      <td>2017-05-15 13:11:00</td>\n",
       "      <td>La Vanda</td>\n",
       "      <td>Добрый день! \\nПо целевому для \"Горного\"...</td>\n",
       "      <td>https://forum.littleone.ru/member.php?userid=7...</td>\n",
       "      <td>https://forum.littleone.ru/showthread.php?p=15...</td>\n",
       "    </tr>\n",
       "    <tr>\n",
       "      <td>7</td>\n",
       "      <td>\\n\\n\\n\\n\\n\\n Сообщение от La Vanda\\n\\n\\nДобрый...</td>\n",
       "      <td>\\n\\t\\t\\t\\tЭлита\\n\\t\\t\\t</td>\n",
       "      <td>TatianaZ</td>\n",
       "      <td>https://forum.littleone.ru/member.php?u=426124...</td>\n",
       "      <td>16.06.2011</td>\n",
       "      <td>2404</td>\n",
       "      <td>False</td>\n",
       "      <td>NaN</td>\n",
       "      <td>2017-05-15 14:48:00</td>\n",
       "      <td>La Vanda</td>\n",
       "      <td>Добрый день! \\nПо целевому для \"Горного\"...</td>\n",
       "      <td>https://forum.littleone.ru/member.php?userid=7...</td>\n",
       "      <td>https://forum.littleone.ru/showthread.php?p=15...</td>\n",
       "    </tr>\n",
       "    <tr>\n",
       "      <td>8</td>\n",
       "      <td>\\n\\n\\n\\n\\n\\n Сообщение от TatianaZ\\n\\n\\nВ ГУАП...</td>\n",
       "      <td>\\n\\t\\t\\t\\tBanned\\n\\t\\t\\t</td>\n",
       "      <td>##NV##</td>\n",
       "      <td>https://forum.littleone.ru/member.php?u=146690...</td>\n",
       "      <td>17.03.2009</td>\n",
       "      <td>35965</td>\n",
       "      <td>False</td>\n",
       "      <td>м.Московская</td>\n",
       "      <td>2017-05-15 14:57:00</td>\n",
       "      <td>TatianaZ</td>\n",
       "      <td>В ГУАПе...</td>\n",
       "      <td>https://forum.littleone.ru/member.php?userid=4...</td>\n",
       "      <td>https://forum.littleone.ru/showthread.php?p=15...</td>\n",
       "    </tr>\n",
       "    <tr>\n",
       "      <td>9</td>\n",
       "      <td>\\n\\n\\n\\n\\n\\n Сообщение от ##NV##\\n\\n\\nскажите ...</td>\n",
       "      <td>\\n\\t\\t\\t\\tЭлита\\n\\t\\t\\t</td>\n",
       "      <td>TatianaZ</td>\n",
       "      <td>https://forum.littleone.ru/member.php?u=426124...</td>\n",
       "      <td>16.06.2011</td>\n",
       "      <td>2404</td>\n",
       "      <td>False</td>\n",
       "      <td>NaN</td>\n",
       "      <td>2017-05-15 15:09:00</td>\n",
       "      <td>##NV##</td>\n",
       "      <td>скажите пожалуйста,а на дне открытых...</td>\n",
       "      <td>https://forum.littleone.ru/member.php?userid=1...</td>\n",
       "      <td>https://forum.littleone.ru/showthread.php?p=15...</td>\n",
       "    </tr>\n",
       "  </tbody>\n",
       "</table>\n",
       "</div>"
      ],
      "text/plain": [
       "                                           post_text  \\\n",
       "0           \\n\\t\\t\\t\\t\\t\\t\\tСпасибо)))\\n\\t\\t\\t\\t\\t\\t   \n",
       "1  \\n\\t\\t\\t\\t\\t\\t\\tЯ не ошибаюсь, в прошлом году ...   \n",
       "2  \\n\\n\\n\\n\\n\\n Сообщение от Еелена\\n\\n\\nЗдравств...   \n",
       "3  \\n\\n\\n\\n\\n\\n Сообщение от амстель\\n\\n\\nЯ не ош...   \n",
       "4  \\n\\n\\n\\n\\n\\n Сообщение от TatianaZ\\n\\n\\nВ ГУАП...   \n",
       "5  \\n\\t\\t\\t\\t\\t\\t\\tДобрый день!\\nПо целевому для ...   \n",
       "6  \\n\\n\\n\\n\\n\\n Сообщение от La Vanda\\n\\n\\nДобрый...   \n",
       "7  \\n\\n\\n\\n\\n\\n Сообщение от La Vanda\\n\\n\\nДобрый...   \n",
       "8  \\n\\n\\n\\n\\n\\n Сообщение от TatianaZ\\n\\n\\nВ ГУАП...   \n",
       "9  \\n\\n\\n\\n\\n\\n Сообщение от ##NV##\\n\\n\\nскажите ...   \n",
       "\n",
       "                  user_title user_name  \\\n",
       "0    \\n\\t\\t\\t\\tГость\\n\\t\\t\\t  Olia1405   \n",
       "1    \\n\\t\\t\\t\\tGuest\\n\\t\\t\\t  Верлиоко   \n",
       "2    \\n\\t\\t\\t\\tЭлита\\n\\t\\t\\t  TatianaZ   \n",
       "3    \\n\\t\\t\\t\\tЭлита\\n\\t\\t\\t  TatianaZ   \n",
       "4   \\n\\t\\t\\t\\tBanned\\n\\t\\t\\t    ##NV##   \n",
       "5  \\n\\t\\t\\t\\tВетеран\\n\\t\\t\\t  La Vanda   \n",
       "6    \\n\\t\\t\\t\\tЭлита\\n\\t\\t\\t  TatianaZ   \n",
       "7    \\n\\t\\t\\t\\tЭлита\\n\\t\\t\\t  TatianaZ   \n",
       "8   \\n\\t\\t\\t\\tBanned\\n\\t\\t\\t    ##NV##   \n",
       "9    \\n\\t\\t\\t\\tЭлита\\n\\t\\t\\t  TatianaZ   \n",
       "\n",
       "                                           user_link Регистрация Сообщений  \\\n",
       "0  https://forum.littleone.ru/member.php?u=755127...  23.07.2015         5   \n",
       "1                                                NaN         NaN       NaN   \n",
       "2  https://forum.littleone.ru/member.php?u=426124...  16.06.2011      2404   \n",
       "3  https://forum.littleone.ru/member.php?u=426124...  16.06.2011      2404   \n",
       "4  https://forum.littleone.ru/member.php?u=146690...  17.03.2009     35965   \n",
       "5  https://forum.littleone.ru/member.php?u=796506...  24.05.2016       849   \n",
       "6  https://forum.littleone.ru/member.php?u=426124...  16.06.2011      2404   \n",
       "7  https://forum.littleone.ru/member.php?u=426124...  16.06.2011      2404   \n",
       "8  https://forum.littleone.ru/member.php?u=146690...  17.03.2009     35965   \n",
       "9  https://forum.littleone.ru/member.php?u=426124...  16.06.2011      2404   \n",
       "\n",
       "   guest         Адрес           post_time answer_to_user  \\\n",
       "0  False           NaN 2017-12-05 15:26:00       TatianaZ   \n",
       "1   True           NaN 2017-05-14 12:46:00      ЗНАЮ МЕРУ   \n",
       "2  False           NaN 2017-05-15 12:06:00       Olia1405   \n",
       "3  False           NaN 2017-05-15 12:10:00       Верлиоко   \n",
       "4  False  м.Московская 2017-05-15 12:21:00       TatianaZ   \n",
       "5  False           NaN 2017-05-15 12:57:00        natalla   \n",
       "6  False           NaN 2017-05-15 13:11:00       La Vanda   \n",
       "7  False           NaN 2017-05-15 14:48:00       La Vanda   \n",
       "8  False  м.Московская 2017-05-15 14:57:00       TatianaZ   \n",
       "9  False           NaN 2017-05-15 15:09:00         ##NV##   \n",
       "\n",
       "                           answer_to_post_head  \\\n",
       "0                Можно подавать в несколько...   \n",
       "1           Измайловский 10. Телефон: (812)...   \n",
       "2                                   Спасибо)))   \n",
       "3    Я не ошибаюсь, в прошлом году на дод в...   \n",
       "4                                   В ГУАПе...   \n",
       "5                      Поступление по целевому   \n",
       "6  Добрый день! \\nПо целевому для \"Горного\"...   \n",
       "7  Добрый день! \\nПо целевому для \"Горного\"...   \n",
       "8                                   В ГУАПе...   \n",
       "9      скажите пожалуйста,а на дне открытых...   \n",
       "\n",
       "                                 answer_to_user_link  \\\n",
       "0  https://forum.littleone.ru/member.php?userid=4...   \n",
       "1  https://forum.littleone.ru/member.php?userid=7...   \n",
       "2  https://forum.littleone.ru/member.php?userid=7...   \n",
       "3                                                NaN   \n",
       "4  https://forum.littleone.ru/member.php?userid=4...   \n",
       "5  https://forum.littleone.ru/member.php?userid=2...   \n",
       "6  https://forum.littleone.ru/member.php?userid=7...   \n",
       "7  https://forum.littleone.ru/member.php?userid=7...   \n",
       "8  https://forum.littleone.ru/member.php?userid=4...   \n",
       "9  https://forum.littleone.ru/member.php?userid=1...   \n",
       "\n",
       "                                 answer_to_post_link  \n",
       "0  https://forum.littleone.ru/showthread.php?p=15...  \n",
       "1  https://forum.littleone.ru/showthread.php?p=15...  \n",
       "2  https://forum.littleone.ru/showthread.php?p=15...  \n",
       "3  https://forum.littleone.ru/showthread.php?p=15...  \n",
       "4  https://forum.littleone.ru/showthread.php?p=15...  \n",
       "5  https://forum.littleone.ru/showthread.php?p=62...  \n",
       "6  https://forum.littleone.ru/showthread.php?p=15...  \n",
       "7  https://forum.littleone.ru/showthread.php?p=15...  \n",
       "8  https://forum.littleone.ru/showthread.php?p=15...  \n",
       "9  https://forum.littleone.ru/showthread.php?p=15...  "
      ]
     },
     "execution_count": 104,
     "metadata": {},
     "output_type": "execute_result"
    }
   ],
   "source": [
    "get_all_info_from_file(os.path.join(raw_data_path, str(4251847), str(374)))"
   ]
  }
 ],
 "metadata": {
  "kernelspec": {
   "display_name": "Python 3",
   "language": "python",
   "name": "python3"
  },
  "language_info": {
   "codemirror_mode": {
    "name": "ipython",
    "version": 3
   },
   "file_extension": ".py",
   "mimetype": "text/x-python",
   "name": "python",
   "nbconvert_exporter": "python",
   "pygments_lexer": "ipython3",
   "version": "3.6.9"
  },
  "latex_envs": {
   "LaTeX_envs_menu_present": true,
   "autoclose": false,
   "autocomplete": true,
   "bibliofile": "biblio.bib",
   "cite_by": "apalike",
   "current_citInitial": 1,
   "eqLabelWithNumbers": true,
   "eqNumInitial": 1,
   "hotkeys": {
    "equation": "Ctrl-E",
    "itemize": "Ctrl-I"
   },
   "labels_anchors": false,
   "latex_user_defs": false,
   "report_style_numbering": false,
   "user_envs_cfg": false
  },
  "toc": {
   "base_numbering": 1,
   "nav_menu": {},
   "number_sections": true,
   "sideBar": true,
   "skip_h1_title": false,
   "title_cell": "Table of Contents",
   "title_sidebar": "Contents",
   "toc_cell": false,
   "toc_position": {
    "height": "calc(100% - 180px)",
    "left": "10px",
    "top": "150px",
    "width": "384px"
   },
   "toc_section_display": true,
   "toc_window_display": true
  },
  "varInspector": {
   "cols": {
    "lenName": 16,
    "lenType": 16,
    "lenVar": 40
   },
   "kernels_config": {
    "python": {
     "delete_cmd_postfix": "",
     "delete_cmd_prefix": "del ",
     "library": "var_list.py",
     "varRefreshCmd": "print(var_dic_list())"
    },
    "r": {
     "delete_cmd_postfix": ") ",
     "delete_cmd_prefix": "rm(",
     "library": "var_list.r",
     "varRefreshCmd": "cat(var_dic_list()) "
    }
   },
   "types_to_exclude": [
    "module",
    "function",
    "builtin_function_or_method",
    "instance",
    "_Feature"
   ],
   "window_display": false
  }
 },
 "nbformat": 4,
 "nbformat_minor": 4
}
